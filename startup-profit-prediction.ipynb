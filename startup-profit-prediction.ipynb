{
 "cells": [
  {
   "cell_type": "markdown",
   "id": "38d17184",
   "metadata": {},
   "source": [
    "## PROBLEM STATEMENT-\n",
    "perform Linear Regression for 50_Startups \n"
   ]
  },
  {
   "cell_type": "code",
   "execution_count": 1,
   "id": "47c6a892",
   "metadata": {},
   "outputs": [],
   "source": [
    "## Importing Packages"
   ]
  },
  {
   "cell_type": "code",
   "execution_count": 3,
   "id": "2f6ecf7d",
   "metadata": {},
   "outputs": [],
   "source": [
    "import numpy as np\n",
    "import pandas as pd\n",
    "import matplotlib.pyplot as plt\n",
    "import seaborn as sns\n",
    "from sklearn.linear_model import LinearRegression\n",
    "\n",
    "import warnings\n",
    "warnings.filterwarnings(\"ignore\")"
   ]
  },
  {
   "cell_type": "code",
   "execution_count": 4,
   "id": "7181ecdf",
   "metadata": {},
   "outputs": [],
   "source": [
    "## Reading the data"
   ]
  },
  {
   "cell_type": "code",
   "execution_count": 5,
   "id": "e6b9ffdf",
   "metadata": {},
   "outputs": [],
   "source": [
    "strt50 = pd.read_csv(\"E:\\\\deeksha\\\\python\\\\data\\\\50_Startups.csv\")"
   ]
  },
  {
   "cell_type": "code",
   "execution_count": 12,
   "id": "a7123447",
   "metadata": {},
   "outputs": [],
   "source": [
    "## Checking features in the data"
   ]
  },
  {
   "cell_type": "code",
   "execution_count": 6,
   "id": "10381642",
   "metadata": {
    "scrolled": true
   },
   "outputs": [
    {
     "data": {
      "text/plain": [
       "Index(['R&D Spend', 'Administration', 'Marketing Spend', 'State', 'Profit'], dtype='object')"
      ]
     },
     "execution_count": 6,
     "metadata": {},
     "output_type": "execute_result"
    }
   ],
   "source": [
    "strt50.columns"
   ]
  },
  {
   "cell_type": "code",
   "execution_count": 13,
   "id": "a55dadcf",
   "metadata": {},
   "outputs": [],
   "source": [
    "## Renaming features"
   ]
  },
  {
   "cell_type": "code",
   "execution_count": 35,
   "id": "031d9125",
   "metadata": {},
   "outputs": [],
   "source": [
    "strt50.rename(columns={'RnD_Spend': 'R&D Spend',  'Marketing_Spend': 'Marketing Spend'}, inplace=True)"
   ]
  },
  {
   "cell_type": "code",
   "execution_count": 15,
   "id": "4e01ca70",
   "metadata": {},
   "outputs": [],
   "source": [
    "## Checking 1st five rows"
   ]
  },
  {
   "cell_type": "code",
   "execution_count": 36,
   "id": "3cf283aa",
   "metadata": {
    "scrolled": true
   },
   "outputs": [
    {
     "data": {
      "text/html": [
       "<div>\n",
       "<style scoped>\n",
       "    .dataframe tbody tr th:only-of-type {\n",
       "        vertical-align: middle;\n",
       "    }\n",
       "\n",
       "    .dataframe tbody tr th {\n",
       "        vertical-align: top;\n",
       "    }\n",
       "\n",
       "    .dataframe thead th {\n",
       "        text-align: right;\n",
       "    }\n",
       "</style>\n",
       "<table border=\"1\" class=\"dataframe\">\n",
       "  <thead>\n",
       "    <tr style=\"text-align: right;\">\n",
       "      <th></th>\n",
       "      <th>R&amp;D Spend</th>\n",
       "      <th>Administration</th>\n",
       "      <th>Marketing Spend</th>\n",
       "      <th>State</th>\n",
       "      <th>Profit</th>\n",
       "    </tr>\n",
       "  </thead>\n",
       "  <tbody>\n",
       "    <tr>\n",
       "      <th>0</th>\n",
       "      <td>165349.20</td>\n",
       "      <td>136897.80</td>\n",
       "      <td>471784.10</td>\n",
       "      <td>New York</td>\n",
       "      <td>192261.83</td>\n",
       "    </tr>\n",
       "    <tr>\n",
       "      <th>1</th>\n",
       "      <td>162597.70</td>\n",
       "      <td>151377.59</td>\n",
       "      <td>443898.53</td>\n",
       "      <td>California</td>\n",
       "      <td>191792.06</td>\n",
       "    </tr>\n",
       "    <tr>\n",
       "      <th>2</th>\n",
       "      <td>153441.51</td>\n",
       "      <td>101145.55</td>\n",
       "      <td>407934.54</td>\n",
       "      <td>Florida</td>\n",
       "      <td>191050.39</td>\n",
       "    </tr>\n",
       "    <tr>\n",
       "      <th>3</th>\n",
       "      <td>144372.41</td>\n",
       "      <td>118671.85</td>\n",
       "      <td>383199.62</td>\n",
       "      <td>New York</td>\n",
       "      <td>182901.99</td>\n",
       "    </tr>\n",
       "    <tr>\n",
       "      <th>4</th>\n",
       "      <td>142107.34</td>\n",
       "      <td>91391.77</td>\n",
       "      <td>366168.42</td>\n",
       "      <td>Florida</td>\n",
       "      <td>166187.94</td>\n",
       "    </tr>\n",
       "  </tbody>\n",
       "</table>\n",
       "</div>"
      ],
      "text/plain": [
       "   R&D Spend  Administration  Marketing Spend       State     Profit\n",
       "0  165349.20       136897.80        471784.10    New York  192261.83\n",
       "1  162597.70       151377.59        443898.53  California  191792.06\n",
       "2  153441.51       101145.55        407934.54     Florida  191050.39\n",
       "3  144372.41       118671.85        383199.62    New York  182901.99\n",
       "4  142107.34        91391.77        366168.42     Florida  166187.94"
      ]
     },
     "execution_count": 36,
     "metadata": {},
     "output_type": "execute_result"
    }
   ],
   "source": [
    "strt50.head()"
   ]
  },
  {
   "cell_type": "code",
   "execution_count": 16,
   "id": "ef318f87",
   "metadata": {},
   "outputs": [],
   "source": [
    "# Checking dimensions"
   ]
  },
  {
   "cell_type": "code",
   "execution_count": 7,
   "id": "c9fc0643",
   "metadata": {
    "scrolled": true
   },
   "outputs": [
    {
     "data": {
      "text/plain": [
       "(50, 5)"
      ]
     },
     "execution_count": 7,
     "metadata": {},
     "output_type": "execute_result"
    }
   ],
   "source": [
    "strt50.shape"
   ]
  },
  {
   "cell_type": "code",
   "execution_count": 8,
   "id": "a9721583",
   "metadata": {
    "scrolled": false
   },
   "outputs": [
    {
     "data": {
      "text/plain": [
       "250"
      ]
     },
     "execution_count": 8,
     "metadata": {},
     "output_type": "execute_result"
    }
   ],
   "source": [
    "strt50.size"
   ]
  },
  {
   "cell_type": "code",
   "execution_count": 17,
   "id": "1333bb12",
   "metadata": {},
   "outputs": [],
   "source": [
    "# Checking Null values in the data"
   ]
  },
  {
   "cell_type": "code",
   "execution_count": 37,
   "id": "512a3825",
   "metadata": {},
   "outputs": [
    {
     "data": {
      "text/plain": [
       "R&D Spend          0\n",
       "Administration     0\n",
       "Marketing Spend    0\n",
       "State              0\n",
       "Profit             0\n",
       "dtype: int64"
      ]
     },
     "execution_count": 37,
     "metadata": {},
     "output_type": "execute_result"
    }
   ],
   "source": [
    "strt50.isnull().sum()"
   ]
  },
  {
   "cell_type": "code",
   "execution_count": 18,
   "id": "201312f5",
   "metadata": {},
   "outputs": [],
   "source": [
    "# Checking duplicate values in the data"
   ]
  },
  {
   "cell_type": "code",
   "execution_count": 11,
   "id": "4ca2981f",
   "metadata": {},
   "outputs": [
    {
     "data": {
      "text/plain": [
       "0"
      ]
     },
     "execution_count": 11,
     "metadata": {},
     "output_type": "execute_result"
    }
   ],
   "source": [
    "strt50.duplicated().sum()"
   ]
  },
  {
   "cell_type": "code",
   "execution_count": 21,
   "id": "887ef338",
   "metadata": {},
   "outputs": [
    {
     "data": {
      "text/plain": [
       "array(['New York', 'California', 'Florida'], dtype=object)"
      ]
     },
     "execution_count": 21,
     "metadata": {},
     "output_type": "execute_result"
    }
   ],
   "source": [
    "# Checking how many city are in state\n",
    "strt50.State.unique()"
   ]
  },
  {
   "cell_type": "code",
   "execution_count": 38,
   "id": "d85bd9e1",
   "metadata": {
    "scrolled": true
   },
   "outputs": [
    {
     "data": {
      "text/html": [
       "<div>\n",
       "<style scoped>\n",
       "    .dataframe tbody tr th:only-of-type {\n",
       "        vertical-align: middle;\n",
       "    }\n",
       "\n",
       "    .dataframe tbody tr th {\n",
       "        vertical-align: top;\n",
       "    }\n",
       "\n",
       "    .dataframe thead th {\n",
       "        text-align: right;\n",
       "    }\n",
       "</style>\n",
       "<table border=\"1\" class=\"dataframe\">\n",
       "  <thead>\n",
       "    <tr style=\"text-align: right;\">\n",
       "      <th></th>\n",
       "      <th>R&amp;D Spend</th>\n",
       "      <th>Administration</th>\n",
       "      <th>Marketing Spend</th>\n",
       "      <th>Profit</th>\n",
       "    </tr>\n",
       "  </thead>\n",
       "  <tbody>\n",
       "    <tr>\n",
       "      <th>count</th>\n",
       "      <td>50.000000</td>\n",
       "      <td>50.000000</td>\n",
       "      <td>50.000000</td>\n",
       "      <td>50.000000</td>\n",
       "    </tr>\n",
       "    <tr>\n",
       "      <th>mean</th>\n",
       "      <td>73721.615600</td>\n",
       "      <td>121344.639600</td>\n",
       "      <td>211025.097800</td>\n",
       "      <td>112012.639200</td>\n",
       "    </tr>\n",
       "    <tr>\n",
       "      <th>std</th>\n",
       "      <td>45902.256482</td>\n",
       "      <td>28017.802755</td>\n",
       "      <td>122290.310726</td>\n",
       "      <td>40306.180338</td>\n",
       "    </tr>\n",
       "    <tr>\n",
       "      <th>min</th>\n",
       "      <td>0.000000</td>\n",
       "      <td>51283.140000</td>\n",
       "      <td>0.000000</td>\n",
       "      <td>14681.400000</td>\n",
       "    </tr>\n",
       "    <tr>\n",
       "      <th>25%</th>\n",
       "      <td>39936.370000</td>\n",
       "      <td>103730.875000</td>\n",
       "      <td>129300.132500</td>\n",
       "      <td>90138.902500</td>\n",
       "    </tr>\n",
       "    <tr>\n",
       "      <th>50%</th>\n",
       "      <td>73051.080000</td>\n",
       "      <td>122699.795000</td>\n",
       "      <td>212716.240000</td>\n",
       "      <td>107978.190000</td>\n",
       "    </tr>\n",
       "    <tr>\n",
       "      <th>75%</th>\n",
       "      <td>101602.800000</td>\n",
       "      <td>144842.180000</td>\n",
       "      <td>299469.085000</td>\n",
       "      <td>139765.977500</td>\n",
       "    </tr>\n",
       "    <tr>\n",
       "      <th>max</th>\n",
       "      <td>165349.200000</td>\n",
       "      <td>182645.560000</td>\n",
       "      <td>471784.100000</td>\n",
       "      <td>192261.830000</td>\n",
       "    </tr>\n",
       "  </tbody>\n",
       "</table>\n",
       "</div>"
      ],
      "text/plain": [
       "           R&D Spend  Administration  Marketing Spend         Profit\n",
       "count      50.000000       50.000000        50.000000      50.000000\n",
       "mean    73721.615600   121344.639600    211025.097800  112012.639200\n",
       "std     45902.256482    28017.802755    122290.310726   40306.180338\n",
       "min         0.000000    51283.140000         0.000000   14681.400000\n",
       "25%     39936.370000   103730.875000    129300.132500   90138.902500\n",
       "50%     73051.080000   122699.795000    212716.240000  107978.190000\n",
       "75%    101602.800000   144842.180000    299469.085000  139765.977500\n",
       "max    165349.200000   182645.560000    471784.100000  192261.830000"
      ]
     },
     "execution_count": 38,
     "metadata": {},
     "output_type": "execute_result"
    }
   ],
   "source": [
    "strt50.describe()"
   ]
  },
  {
   "cell_type": "code",
   "execution_count": 19,
   "id": "2b8afcdb",
   "metadata": {},
   "outputs": [],
   "source": [
    "# Checking Correlation between features"
   ]
  },
  {
   "cell_type": "code",
   "execution_count": 39,
   "id": "ca9eaaa8",
   "metadata": {
    "scrolled": true
   },
   "outputs": [
    {
     "data": {
      "text/html": [
       "<div>\n",
       "<style scoped>\n",
       "    .dataframe tbody tr th:only-of-type {\n",
       "        vertical-align: middle;\n",
       "    }\n",
       "\n",
       "    .dataframe tbody tr th {\n",
       "        vertical-align: top;\n",
       "    }\n",
       "\n",
       "    .dataframe thead th {\n",
       "        text-align: right;\n",
       "    }\n",
       "</style>\n",
       "<table border=\"1\" class=\"dataframe\">\n",
       "  <thead>\n",
       "    <tr style=\"text-align: right;\">\n",
       "      <th></th>\n",
       "      <th>R&amp;D Spend</th>\n",
       "      <th>Administration</th>\n",
       "      <th>Marketing Spend</th>\n",
       "      <th>Profit</th>\n",
       "    </tr>\n",
       "  </thead>\n",
       "  <tbody>\n",
       "    <tr>\n",
       "      <th>R&amp;D Spend</th>\n",
       "      <td>1.000000</td>\n",
       "      <td>0.241955</td>\n",
       "      <td>0.724248</td>\n",
       "      <td>0.972900</td>\n",
       "    </tr>\n",
       "    <tr>\n",
       "      <th>Administration</th>\n",
       "      <td>0.241955</td>\n",
       "      <td>1.000000</td>\n",
       "      <td>-0.032154</td>\n",
       "      <td>0.200717</td>\n",
       "    </tr>\n",
       "    <tr>\n",
       "      <th>Marketing Spend</th>\n",
       "      <td>0.724248</td>\n",
       "      <td>-0.032154</td>\n",
       "      <td>1.000000</td>\n",
       "      <td>0.747766</td>\n",
       "    </tr>\n",
       "    <tr>\n",
       "      <th>Profit</th>\n",
       "      <td>0.972900</td>\n",
       "      <td>0.200717</td>\n",
       "      <td>0.747766</td>\n",
       "      <td>1.000000</td>\n",
       "    </tr>\n",
       "  </tbody>\n",
       "</table>\n",
       "</div>"
      ],
      "text/plain": [
       "                 R&D Spend  Administration  Marketing Spend    Profit\n",
       "R&D Spend         1.000000        0.241955         0.724248  0.972900\n",
       "Administration    0.241955        1.000000        -0.032154  0.200717\n",
       "Marketing Spend   0.724248       -0.032154         1.000000  0.747766\n",
       "Profit            0.972900        0.200717         0.747766  1.000000"
      ]
     },
     "execution_count": 39,
     "metadata": {},
     "output_type": "execute_result"
    }
   ],
   "source": [
    "strt50.corr()"
   ]
  },
  {
   "cell_type": "markdown",
   "id": "829c6696",
   "metadata": {},
   "source": [
    "## Performing EDA on DATA"
   ]
  },
  {
   "cell_type": "code",
   "execution_count": 22,
   "id": "fe7cf024",
   "metadata": {},
   "outputs": [
    {
     "data": {
      "text/plain": [
       "array([[<AxesSubplot:title={'center':'RnD_Spend'}>,\n",
       "        <AxesSubplot:title={'center':'Administration'}>],\n",
       "       [<AxesSubplot:title={'center':'Marketing_Spend'}>,\n",
       "        <AxesSubplot:title={'center':'Profit'}>]], dtype=object)"
      ]
     },
     "execution_count": 22,
     "metadata": {},
     "output_type": "execute_result"
    },
    {
     "data": {
      "image/png": "[encoded data removed]",
      "text/plain": [
       "<Figure size 432x288 with 4 Axes>"
      ]
     },
     "metadata": {
      "needs_background": "light"
     },
     "output_type": "display_data"
    }
   ],
   "source": [
    "# Histogram\n",
    "strt50.hist(grid = False)"
   ]
  },
  {
   "cell_type": "code",
   "execution_count": 23,
   "id": "5b787cb1",
   "metadata": {},
   "outputs": [
    {
     "data": {
      "text/plain": [
       "<AxesSubplot:>"
      ]
     },
     "execution_count": 23,
     "metadata": {},
     "output_type": "execute_result"
    },
    {
     "data": {
      "image/png": "[encoded data removed]",
      "text/plain": [
       "<Figure size 432x288 with 1 Axes>"
      ]
     },
     "metadata": {
      "needs_background": "light"
     },
     "output_type": "display_data"
    }
   ],
   "source": [
    "# Barplot\n",
    "sns.barplot(strt50)"
   ]
  },
  {
   "cell_type": "code",
   "execution_count": 24,
   "id": "9f7dda2a",
   "metadata": {},
   "outputs": [
    {
     "data": {
      "text/plain": [
       "<AxesSubplot:>"
      ]
     },
     "execution_count": 24,
     "metadata": {},
     "output_type": "execute_result"
    },
    {
     "data": {
      "image/png": "[encoded data removed]",
      "text/plain": [
       "<Figure size 432x288 with 1 Axes>"
      ]
     },
     "metadata": {
      "needs_background": "light"
     },
     "output_type": "display_data"
    }
   ],
   "source": [
    "# Boxplot\n",
    "sns.boxplot(data = strt50 )"
   ]
  },
  {
   "cell_type": "code",
   "execution_count": 25,
   "id": "ad8125a5",
   "metadata": {},
   "outputs": [
    {
     "data": {
      "text/plain": [
       "<seaborn.axisgrid.PairGrid at 0x1233bb48a48>"
      ]
     },
     "execution_count": 25,
     "metadata": {},
     "output_type": "execute_result"
    },
    {
     "data": {
      "image/png": "[encoded data removed]",
      "text/plain": [
       "<Figure size 720x720 with 20 Axes>"
      ]
     },
     "metadata": {
      "needs_background": "light"
     },
     "output_type": "display_data"
    }
   ],
   "source": [
    "# Pairplot\n",
    "sns.pairplot(strt50)"
   ]
  },
  {
   "cell_type": "code",
   "execution_count": 40,
   "id": "a837a48c",
   "metadata": {},
   "outputs": [
    {
     "data": {
      "text/plain": [
       "<AxesSubplot:xlabel='R&D Spend', ylabel='Density'>"
      ]
     },
     "execution_count": 40,
     "metadata": {},
     "output_type": "execute_result"
    },
    {
     "data": {
      "image/png": "[encoded data removed]",
      "text/plain": [
       "<Figure size 432x288 with 1 Axes>"
      ]
     },
     "metadata": {
      "needs_background": "light"
     },
     "output_type": "display_data"
    }
   ],
   "source": [
    "sns.distplot(strt50[\"R&D Spend\"] , hist= True)"
   ]
  },
  {
   "cell_type": "code",
   "execution_count": 31,
   "id": "a78938bb",
   "metadata": {},
   "outputs": [
    {
     "data": {
      "text/plain": [
       "<AxesSubplot:xlabel='Administration', ylabel='Density'>"
      ]
     },
     "execution_count": 31,
     "metadata": {},
     "output_type": "execute_result"
    },
    {
     "data": {
      "image/png": "[encoded data removed]",
      "text/plain": [
       "<Figure size 432x288 with 1 Axes>"
      ]
     },
     "metadata": {
      "needs_background": "light"
     },
     "output_type": "display_data"
    }
   ],
   "source": [
    "sns.distplot(strt50[\"Administration\"] , hist= True)"
   ]
  },
  {
   "cell_type": "code",
   "execution_count": 41,
   "id": "613c12a2",
   "metadata": {},
   "outputs": [
    {
     "data": {
      "text/plain": [
       "<AxesSubplot:xlabel='Marketing Spend', ylabel='Density'>"
      ]
     },
     "execution_count": 41,
     "metadata": {},
     "output_type": "execute_result"
    },
    {
     "data": {
      "image/png": "[encoded data removed]",
      "text/plain": [
       "<Figure size 432x288 with 1 Axes>"
      ]
     },
     "metadata": {
      "needs_background": "light"
     },
     "output_type": "display_data"
    }
   ],
   "source": [
    "sns.distplot(strt50[\"Marketing Spend\"] , hist= True)"
   ]
  },
  {
   "cell_type": "code",
   "execution_count": 34,
   "id": "863edc5e",
   "metadata": {
    "scrolled": true
   },
   "outputs": [
    {
     "data": {
      "text/plain": [
       "<AxesSubplot:xlabel='Profit', ylabel='Density'>"
      ]
     },
     "execution_count": 34,
     "metadata": {},
     "output_type": "execute_result"
    },
    {
     "data": {
      "image/png": "[encoded data removed]",
      "text/plain": [
       "<Figure size 432x288 with 1 Axes>"
      ]
     },
     "metadata": {
      "needs_background": "light"
     },
     "output_type": "display_data"
    }
   ],
   "source": [
    "sns.distplot(strt50[\"Profit\"] , hist= True)"
   ]
  },
  {
   "cell_type": "markdown",
   "id": "c8bac3d3",
   "metadata": {},
   "source": [
    "## Building Model"
   ]
  },
  {
   "cell_type": "code",
   "execution_count": 48,
   "id": "9ecf39d3",
   "metadata": {},
   "outputs": [],
   "source": [
    "# spliting Dataset in Dependent & Independent Variables\n",
    "X = strt50.iloc[:, :-1]\n",
    "y = strt50.iloc[:, 4]"
   ]
  },
  {
   "cell_type": "code",
   "execution_count": 49,
   "id": "377f58b6",
   "metadata": {
    "scrolled": true
   },
   "outputs": [
    {
     "data": {
      "text/html": [
       "<div>\n",
       "<style scoped>\n",
       "    .dataframe tbody tr th:only-of-type {\n",
       "        vertical-align: middle;\n",
       "    }\n",
       "\n",
       "    .dataframe tbody tr th {\n",
       "        vertical-align: top;\n",
       "    }\n",
       "\n",
       "    .dataframe thead th {\n",
       "        text-align: right;\n",
       "    }\n",
       "</style>\n",
       "<table border=\"1\" class=\"dataframe\">\n",
       "  <thead>\n",
       "    <tr style=\"text-align: right;\">\n",
       "      <th></th>\n",
       "      <th>R&amp;D Spend</th>\n",
       "      <th>Administration</th>\n",
       "      <th>Marketing Spend</th>\n",
       "      <th>State</th>\n",
       "    </tr>\n",
       "  </thead>\n",
       "  <tbody>\n",
       "    <tr>\n",
       "      <th>0</th>\n",
       "      <td>165349.20</td>\n",
       "      <td>136897.80</td>\n",
       "      <td>471784.10</td>\n",
       "      <td>New York</td>\n",
       "    </tr>\n",
       "    <tr>\n",
       "      <th>1</th>\n",
       "      <td>162597.70</td>\n",
       "      <td>151377.59</td>\n",
       "      <td>443898.53</td>\n",
       "      <td>California</td>\n",
       "    </tr>\n",
       "    <tr>\n",
       "      <th>2</th>\n",
       "      <td>153441.51</td>\n",
       "      <td>101145.55</td>\n",
       "      <td>407934.54</td>\n",
       "      <td>Florida</td>\n",
       "    </tr>\n",
       "    <tr>\n",
       "      <th>3</th>\n",
       "      <td>144372.41</td>\n",
       "      <td>118671.85</td>\n",
       "      <td>383199.62</td>\n",
       "      <td>New York</td>\n",
       "    </tr>\n",
       "    <tr>\n",
       "      <th>4</th>\n",
       "      <td>142107.34</td>\n",
       "      <td>91391.77</td>\n",
       "      <td>366168.42</td>\n",
       "      <td>Florida</td>\n",
       "    </tr>\n",
       "  </tbody>\n",
       "</table>\n",
       "</div>"
      ],
      "text/plain": [
       "   R&D Spend  Administration  Marketing Spend       State\n",
       "0  165349.20       136897.80        471784.10    New York\n",
       "1  162597.70       151377.59        443898.53  California\n",
       "2  153441.51       101145.55        407934.54     Florida\n",
       "3  144372.41       118671.85        383199.62    New York\n",
       "4  142107.34        91391.77        366168.42     Florida"
      ]
     },
     "execution_count": 49,
     "metadata": {},
     "output_type": "execute_result"
    }
   ],
   "source": [
    "X.head()"
   ]
  },
  {
   "cell_type": "code",
   "execution_count": 50,
   "id": "f948408a",
   "metadata": {
    "scrolled": true
   },
   "outputs": [
    {
     "data": {
      "text/plain": [
       "0    192261.83\n",
       "1    191792.06\n",
       "2    191050.39\n",
       "3    182901.99\n",
       "4    166187.94\n",
       "Name: Profit, dtype: float64"
      ]
     },
     "execution_count": 50,
     "metadata": {},
     "output_type": "execute_result"
    }
   ],
   "source": [
    "y.head()"
   ]
  },
  {
   "cell_type": "code",
   "execution_count": 51,
   "id": "32bca7c5",
   "metadata": {},
   "outputs": [
    {
     "data": {
      "text/plain": [
       "((50, 4), (50,))"
      ]
     },
     "execution_count": 51,
     "metadata": {},
     "output_type": "execute_result"
    }
   ],
   "source": [
    "X.shape , y.shape"
   ]
  },
  {
   "cell_type": "code",
   "execution_count": 55,
   "id": "54563162",
   "metadata": {},
   "outputs": [],
   "source": [
    "# Label encoder\n",
    "from sklearn.preprocessing import LabelEncoder"
   ]
  },
  {
   "cell_type": "code",
   "execution_count": 54,
   "id": "35182c9d",
   "metadata": {},
   "outputs": [
    {
     "data": {
      "text/html": [
       "<div>\n",
       "<style scoped>\n",
       "    .dataframe tbody tr th:only-of-type {\n",
       "        vertical-align: middle;\n",
       "    }\n",
       "\n",
       "    .dataframe tbody tr th {\n",
       "        vertical-align: top;\n",
       "    }\n",
       "\n",
       "    .dataframe thead th {\n",
       "        text-align: right;\n",
       "    }\n",
       "</style>\n",
       "<table border=\"1\" class=\"dataframe\">\n",
       "  <thead>\n",
       "    <tr style=\"text-align: right;\">\n",
       "      <th></th>\n",
       "      <th>R&amp;D Spend</th>\n",
       "      <th>Administration</th>\n",
       "      <th>Marketing Spend</th>\n",
       "      <th>State_Florida</th>\n",
       "      <th>State_New York</th>\n",
       "    </tr>\n",
       "  </thead>\n",
       "  <tbody>\n",
       "    <tr>\n",
       "      <th>0</th>\n",
       "      <td>165349.20</td>\n",
       "      <td>136897.80</td>\n",
       "      <td>471784.10</td>\n",
       "      <td>0</td>\n",
       "      <td>1</td>\n",
       "    </tr>\n",
       "    <tr>\n",
       "      <th>1</th>\n",
       "      <td>162597.70</td>\n",
       "      <td>151377.59</td>\n",
       "      <td>443898.53</td>\n",
       "      <td>0</td>\n",
       "      <td>0</td>\n",
       "    </tr>\n",
       "    <tr>\n",
       "      <th>2</th>\n",
       "      <td>153441.51</td>\n",
       "      <td>101145.55</td>\n",
       "      <td>407934.54</td>\n",
       "      <td>1</td>\n",
       "      <td>0</td>\n",
       "    </tr>\n",
       "    <tr>\n",
       "      <th>3</th>\n",
       "      <td>144372.41</td>\n",
       "      <td>118671.85</td>\n",
       "      <td>383199.62</td>\n",
       "      <td>0</td>\n",
       "      <td>1</td>\n",
       "    </tr>\n",
       "    <tr>\n",
       "      <th>4</th>\n",
       "      <td>142107.34</td>\n",
       "      <td>91391.77</td>\n",
       "      <td>366168.42</td>\n",
       "      <td>1</td>\n",
       "      <td>0</td>\n",
       "    </tr>\n",
       "    <tr>\n",
       "      <th>5</th>\n",
       "      <td>131876.90</td>\n",
       "      <td>99814.71</td>\n",
       "      <td>362861.36</td>\n",
       "      <td>0</td>\n",
       "      <td>1</td>\n",
       "    </tr>\n",
       "    <tr>\n",
       "      <th>6</th>\n",
       "      <td>134615.46</td>\n",
       "      <td>147198.87</td>\n",
       "      <td>127716.82</td>\n",
       "      <td>0</td>\n",
       "      <td>0</td>\n",
       "    </tr>\n",
       "    <tr>\n",
       "      <th>7</th>\n",
       "      <td>130298.13</td>\n",
       "      <td>145530.06</td>\n",
       "      <td>323876.68</td>\n",
       "      <td>1</td>\n",
       "      <td>0</td>\n",
       "    </tr>\n",
       "    <tr>\n",
       "      <th>8</th>\n",
       "      <td>120542.52</td>\n",
       "      <td>148718.95</td>\n",
       "      <td>311613.29</td>\n",
       "      <td>0</td>\n",
       "      <td>1</td>\n",
       "    </tr>\n",
       "    <tr>\n",
       "      <th>9</th>\n",
       "      <td>123334.88</td>\n",
       "      <td>108679.17</td>\n",
       "      <td>304981.62</td>\n",
       "      <td>0</td>\n",
       "      <td>0</td>\n",
       "    </tr>\n",
       "    <tr>\n",
       "      <th>10</th>\n",
       "      <td>101913.08</td>\n",
       "      <td>110594.11</td>\n",
       "      <td>229160.95</td>\n",
       "      <td>1</td>\n",
       "      <td>0</td>\n",
       "    </tr>\n",
       "    <tr>\n",
       "      <th>11</th>\n",
       "      <td>100671.96</td>\n",
       "      <td>91790.61</td>\n",
       "      <td>249744.55</td>\n",
       "      <td>0</td>\n",
       "      <td>0</td>\n",
       "    </tr>\n",
       "    <tr>\n",
       "      <th>12</th>\n",
       "      <td>93863.75</td>\n",
       "      <td>127320.38</td>\n",
       "      <td>249839.44</td>\n",
       "      <td>1</td>\n",
       "      <td>0</td>\n",
       "    </tr>\n",
       "    <tr>\n",
       "      <th>13</th>\n",
       "      <td>91992.39</td>\n",
       "      <td>135495.07</td>\n",
       "      <td>252664.93</td>\n",
       "      <td>0</td>\n",
       "      <td>0</td>\n",
       "    </tr>\n",
       "    <tr>\n",
       "      <th>14</th>\n",
       "      <td>119943.24</td>\n",
       "      <td>156547.42</td>\n",
       "      <td>256512.92</td>\n",
       "      <td>1</td>\n",
       "      <td>0</td>\n",
       "    </tr>\n",
       "    <tr>\n",
       "      <th>15</th>\n",
       "      <td>114523.61</td>\n",
       "      <td>122616.84</td>\n",
       "      <td>261776.23</td>\n",
       "      <td>0</td>\n",
       "      <td>1</td>\n",
       "    </tr>\n",
       "    <tr>\n",
       "      <th>16</th>\n",
       "      <td>78013.11</td>\n",
       "      <td>121597.55</td>\n",
       "      <td>264346.06</td>\n",
       "      <td>0</td>\n",
       "      <td>0</td>\n",
       "    </tr>\n",
       "    <tr>\n",
       "      <th>17</th>\n",
       "      <td>94657.16</td>\n",
       "      <td>145077.58</td>\n",
       "      <td>282574.31</td>\n",
       "      <td>0</td>\n",
       "      <td>1</td>\n",
       "    </tr>\n",
       "    <tr>\n",
       "      <th>18</th>\n",
       "      <td>91749.16</td>\n",
       "      <td>114175.79</td>\n",
       "      <td>294919.57</td>\n",
       "      <td>1</td>\n",
       "      <td>0</td>\n",
       "    </tr>\n",
       "    <tr>\n",
       "      <th>19</th>\n",
       "      <td>86419.70</td>\n",
       "      <td>153514.11</td>\n",
       "      <td>0.00</td>\n",
       "      <td>0</td>\n",
       "      <td>1</td>\n",
       "    </tr>\n",
       "    <tr>\n",
       "      <th>20</th>\n",
       "      <td>76253.86</td>\n",
       "      <td>113867.30</td>\n",
       "      <td>298664.47</td>\n",
       "      <td>0</td>\n",
       "      <td>0</td>\n",
       "    </tr>\n",
       "    <tr>\n",
       "      <th>21</th>\n",
       "      <td>78389.47</td>\n",
       "      <td>153773.43</td>\n",
       "      <td>299737.29</td>\n",
       "      <td>0</td>\n",
       "      <td>1</td>\n",
       "    </tr>\n",
       "    <tr>\n",
       "      <th>22</th>\n",
       "      <td>73994.56</td>\n",
       "      <td>122782.75</td>\n",
       "      <td>303319.26</td>\n",
       "      <td>1</td>\n",
       "      <td>0</td>\n",
       "    </tr>\n",
       "    <tr>\n",
       "      <th>23</th>\n",
       "      <td>67532.53</td>\n",
       "      <td>105751.03</td>\n",
       "      <td>304768.73</td>\n",
       "      <td>1</td>\n",
       "      <td>0</td>\n",
       "    </tr>\n",
       "    <tr>\n",
       "      <th>24</th>\n",
       "      <td>77044.01</td>\n",
       "      <td>99281.34</td>\n",
       "      <td>140574.81</td>\n",
       "      <td>0</td>\n",
       "      <td>1</td>\n",
       "    </tr>\n",
       "    <tr>\n",
       "      <th>25</th>\n",
       "      <td>64664.71</td>\n",
       "      <td>139553.16</td>\n",
       "      <td>137962.62</td>\n",
       "      <td>0</td>\n",
       "      <td>0</td>\n",
       "    </tr>\n",
       "    <tr>\n",
       "      <th>26</th>\n",
       "      <td>75328.87</td>\n",
       "      <td>144135.98</td>\n",
       "      <td>134050.07</td>\n",
       "      <td>1</td>\n",
       "      <td>0</td>\n",
       "    </tr>\n",
       "    <tr>\n",
       "      <th>27</th>\n",
       "      <td>72107.60</td>\n",
       "      <td>127864.55</td>\n",
       "      <td>353183.81</td>\n",
       "      <td>0</td>\n",
       "      <td>1</td>\n",
       "    </tr>\n",
       "    <tr>\n",
       "      <th>28</th>\n",
       "      <td>66051.52</td>\n",
       "      <td>182645.56</td>\n",
       "      <td>118148.20</td>\n",
       "      <td>1</td>\n",
       "      <td>0</td>\n",
       "    </tr>\n",
       "    <tr>\n",
       "      <th>29</th>\n",
       "      <td>65605.48</td>\n",
       "      <td>153032.06</td>\n",
       "      <td>107138.38</td>\n",
       "      <td>0</td>\n",
       "      <td>1</td>\n",
       "    </tr>\n",
       "    <tr>\n",
       "      <th>30</th>\n",
       "      <td>61994.48</td>\n",
       "      <td>115641.28</td>\n",
       "      <td>91131.24</td>\n",
       "      <td>1</td>\n",
       "      <td>0</td>\n",
       "    </tr>\n",
       "    <tr>\n",
       "      <th>31</th>\n",
       "      <td>61136.38</td>\n",
       "      <td>152701.92</td>\n",
       "      <td>88218.23</td>\n",
       "      <td>0</td>\n",
       "      <td>1</td>\n",
       "    </tr>\n",
       "    <tr>\n",
       "      <th>32</th>\n",
       "      <td>63408.86</td>\n",
       "      <td>129219.61</td>\n",
       "      <td>46085.25</td>\n",
       "      <td>0</td>\n",
       "      <td>0</td>\n",
       "    </tr>\n",
       "    <tr>\n",
       "      <th>33</th>\n",
       "      <td>55493.95</td>\n",
       "      <td>103057.49</td>\n",
       "      <td>214634.81</td>\n",
       "      <td>1</td>\n",
       "      <td>0</td>\n",
       "    </tr>\n",
       "    <tr>\n",
       "      <th>34</th>\n",
       "      <td>46426.07</td>\n",
       "      <td>157693.92</td>\n",
       "      <td>210797.67</td>\n",
       "      <td>0</td>\n",
       "      <td>0</td>\n",
       "    </tr>\n",
       "    <tr>\n",
       "      <th>35</th>\n",
       "      <td>46014.02</td>\n",
       "      <td>85047.44</td>\n",
       "      <td>205517.64</td>\n",
       "      <td>0</td>\n",
       "      <td>1</td>\n",
       "    </tr>\n",
       "    <tr>\n",
       "      <th>36</th>\n",
       "      <td>28663.76</td>\n",
       "      <td>127056.21</td>\n",
       "      <td>201126.82</td>\n",
       "      <td>1</td>\n",
       "      <td>0</td>\n",
       "    </tr>\n",
       "    <tr>\n",
       "      <th>37</th>\n",
       "      <td>44069.95</td>\n",
       "      <td>51283.14</td>\n",
       "      <td>197029.42</td>\n",
       "      <td>0</td>\n",
       "      <td>0</td>\n",
       "    </tr>\n",
       "    <tr>\n",
       "      <th>38</th>\n",
       "      <td>20229.59</td>\n",
       "      <td>65947.93</td>\n",
       "      <td>185265.10</td>\n",
       "      <td>0</td>\n",
       "      <td>1</td>\n",
       "    </tr>\n",
       "    <tr>\n",
       "      <th>39</th>\n",
       "      <td>38558.51</td>\n",
       "      <td>82982.09</td>\n",
       "      <td>174999.30</td>\n",
       "      <td>0</td>\n",
       "      <td>0</td>\n",
       "    </tr>\n",
       "    <tr>\n",
       "      <th>40</th>\n",
       "      <td>28754.33</td>\n",
       "      <td>118546.05</td>\n",
       "      <td>172795.67</td>\n",
       "      <td>0</td>\n",
       "      <td>0</td>\n",
       "    </tr>\n",
       "    <tr>\n",
       "      <th>41</th>\n",
       "      <td>27892.92</td>\n",
       "      <td>84710.77</td>\n",
       "      <td>164470.71</td>\n",
       "      <td>1</td>\n",
       "      <td>0</td>\n",
       "    </tr>\n",
       "    <tr>\n",
       "      <th>42</th>\n",
       "      <td>23640.93</td>\n",
       "      <td>96189.63</td>\n",
       "      <td>148001.11</td>\n",
       "      <td>0</td>\n",
       "      <td>0</td>\n",
       "    </tr>\n",
       "    <tr>\n",
       "      <th>43</th>\n",
       "      <td>15505.73</td>\n",
       "      <td>127382.30</td>\n",
       "      <td>35534.17</td>\n",
       "      <td>0</td>\n",
       "      <td>1</td>\n",
       "    </tr>\n",
       "    <tr>\n",
       "      <th>44</th>\n",
       "      <td>22177.74</td>\n",
       "      <td>154806.14</td>\n",
       "      <td>28334.72</td>\n",
       "      <td>0</td>\n",
       "      <td>0</td>\n",
       "    </tr>\n",
       "    <tr>\n",
       "      <th>45</th>\n",
       "      <td>1000.23</td>\n",
       "      <td>124153.04</td>\n",
       "      <td>1903.93</td>\n",
       "      <td>0</td>\n",
       "      <td>1</td>\n",
       "    </tr>\n",
       "    <tr>\n",
       "      <th>46</th>\n",
       "      <td>1315.46</td>\n",
       "      <td>115816.21</td>\n",
       "      <td>297114.46</td>\n",
       "      <td>1</td>\n",
       "      <td>0</td>\n",
       "    </tr>\n",
       "    <tr>\n",
       "      <th>47</th>\n",
       "      <td>0.00</td>\n",
       "      <td>135426.92</td>\n",
       "      <td>0.00</td>\n",
       "      <td>0</td>\n",
       "      <td>0</td>\n",
       "    </tr>\n",
       "    <tr>\n",
       "      <th>48</th>\n",
       "      <td>542.05</td>\n",
       "      <td>51743.15</td>\n",
       "      <td>0.00</td>\n",
       "      <td>0</td>\n",
       "      <td>1</td>\n",
       "    </tr>\n",
       "    <tr>\n",
       "      <th>49</th>\n",
       "      <td>0.00</td>\n",
       "      <td>116983.80</td>\n",
       "      <td>45173.06</td>\n",
       "      <td>0</td>\n",
       "      <td>0</td>\n",
       "    </tr>\n",
       "  </tbody>\n",
       "</table>\n",
       "</div>"
      ],
      "text/plain": [
       "    R&D Spend  Administration  Marketing Spend  State_Florida  State_New York\n",
       "0   165349.20       136897.80        471784.10              0               1\n",
       "1   162597.70       151377.59        443898.53              0               0\n",
       "2   153441.51       101145.55        407934.54              1               0\n",
       "3   144372.41       118671.85        383199.62              0               1\n",
       "4   142107.34        91391.77        366168.42              1               0\n",
       "5   131876.90        99814.71        362861.36              0               1\n",
       "6   134615.46       147198.87        127716.82              0               0\n",
       "7   130298.13       145530.06        323876.68              1               0\n",
       "8   120542.52       148718.95        311613.29              0               1\n",
       "9   123334.88       108679.17        304981.62              0               0\n",
       "10  101913.08       110594.11        229160.95              1               0\n",
       "11  100671.96        91790.61        249744.55              0               0\n",
       "12   93863.75       127320.38        249839.44              1               0\n",
       "13   91992.39       135495.07        252664.93              0               0\n",
       "14  119943.24       156547.42        256512.92              1               0\n",
       "15  114523.61       122616.84        261776.23              0               1\n",
       "16   78013.11       121597.55        264346.06              0               0\n",
       "17   94657.16       145077.58        282574.31              0               1\n",
       "18   91749.16       114175.79        294919.57              1               0\n",
       "19   86419.70       153514.11             0.00              0               1\n",
       "20   76253.86       113867.30        298664.47              0               0\n",
       "21   78389.47       153773.43        299737.29              0               1\n",
       "22   73994.56       122782.75        303319.26              1               0\n",
       "23   67532.53       105751.03        304768.73              1               0\n",
       "24   77044.01        99281.34        140574.81              0               1\n",
       "25   64664.71       139553.16        137962.62              0               0\n",
       "26   75328.87       144135.98        134050.07              1               0\n",
       "27   72107.60       127864.55        353183.81              0               1\n",
       "28   66051.52       182645.56        118148.20              1               0\n",
       "29   65605.48       153032.06        107138.38              0               1\n",
       "30   61994.48       115641.28         91131.24              1               0\n",
       "31   61136.38       152701.92         88218.23              0               1\n",
       "32   63408.86       129219.61         46085.25              0               0\n",
       "33   55493.95       103057.49        214634.81              1               0\n",
       "34   46426.07       157693.92        210797.67              0               0\n",
       "35   46014.02        85047.44        205517.64              0               1\n",
       "36   28663.76       127056.21        201126.82              1               0\n",
       "37   44069.95        51283.14        197029.42              0               0\n",
       "38   20229.59        65947.93        185265.10              0               1\n",
       "39   38558.51        82982.09        174999.30              0               0\n",
       "40   28754.33       118546.05        172795.67              0               0\n",
       "41   27892.92        84710.77        164470.71              1               0\n",
       "42   23640.93        96189.63        148001.11              0               0\n",
       "43   15505.73       127382.30         35534.17              0               1\n",
       "44   22177.74       154806.14         28334.72              0               0\n",
       "45    1000.23       124153.04          1903.93              0               1\n",
       "46    1315.46       115816.21        297114.46              1               0\n",
       "47       0.00       135426.92             0.00              0               0\n",
       "48     542.05        51743.15             0.00              0               1\n",
       "49       0.00       116983.80         45173.06              0               0"
      ]
     },
     "execution_count": 54,
     "metadata": {},
     "output_type": "execute_result"
    }
   ],
   "source": [
    "X"
   ]
  },
  {
   "cell_type": "code",
   "execution_count": 24,
   "id": "8cd8e249",
   "metadata": {
    "scrolled": true
   },
   "outputs": [
    {
     "data": {
      "text/plain": [
       "0     192261.83\n",
       "1     191792.06\n",
       "2     191050.39\n",
       "3     182901.99\n",
       "4     166187.94\n",
       "5     156991.12\n",
       "6     156122.51\n",
       "7     155752.60\n",
       "8     152211.77\n",
       "9     149759.96\n",
       "10    146121.95\n",
       "11    144259.40\n",
       "12    141585.52\n",
       "13    134307.35\n",
       "14    132602.65\n",
       "15    129917.04\n",
       "16    126992.93\n",
       "17    125370.37\n",
       "18    124266.90\n",
       "19    122776.86\n",
       "20    118474.03\n",
       "21    111313.02\n",
       "22    110352.25\n",
       "23    108733.99\n",
       "24    108552.04\n",
       "25    107404.34\n",
       "26    105733.54\n",
       "27    105008.31\n",
       "28    103282.38\n",
       "29    101004.64\n",
       "30     99937.59\n",
       "31     97483.56\n",
       "32     97427.84\n",
       "33     96778.92\n",
       "34     96712.80\n",
       "35     96479.51\n",
       "36     90708.19\n",
       "37     89949.14\n",
       "38     81229.06\n",
       "39     81005.76\n",
       "40     78239.91\n",
       "41     77798.83\n",
       "42     71498.49\n",
       "43     69758.98\n",
       "44     65200.33\n",
       "45     64926.08\n",
       "46     49490.75\n",
       "47     42559.73\n",
       "48     35673.41\n",
       "49     14681.40\n",
       "Name: Profit, dtype: float64"
      ]
     },
     "execution_count": 24,
     "metadata": {},
     "output_type": "execute_result"
    }
   ],
   "source": [
    "y"
   ]
  },
  {
   "cell_type": "code",
   "execution_count": 68,
   "id": "24eb47a2",
   "metadata": {
    "scrolled": false
   },
   "outputs": [
    {
     "data": {
      "text/html": [
       "<div>\n",
       "<style scoped>\n",
       "    .dataframe tbody tr th:only-of-type {\n",
       "        vertical-align: middle;\n",
       "    }\n",
       "\n",
       "    .dataframe tbody tr th {\n",
       "        vertical-align: top;\n",
       "    }\n",
       "\n",
       "    .dataframe thead th {\n",
       "        text-align: right;\n",
       "    }\n",
       "</style>\n",
       "<table border=\"1\" class=\"dataframe\">\n",
       "  <thead>\n",
       "    <tr style=\"text-align: right;\">\n",
       "      <th></th>\n",
       "      <th>R&amp;D Spend</th>\n",
       "      <th>Administration</th>\n",
       "      <th>Marketing Spend</th>\n",
       "      <th>State_Florida</th>\n",
       "      <th>State_New York</th>\n",
       "    </tr>\n",
       "  </thead>\n",
       "  <tbody>\n",
       "    <tr>\n",
       "      <th>0</th>\n",
       "      <td>165349.20</td>\n",
       "      <td>136897.80</td>\n",
       "      <td>471784.10</td>\n",
       "      <td>0</td>\n",
       "      <td>1</td>\n",
       "    </tr>\n",
       "    <tr>\n",
       "      <th>1</th>\n",
       "      <td>162597.70</td>\n",
       "      <td>151377.59</td>\n",
       "      <td>443898.53</td>\n",
       "      <td>0</td>\n",
       "      <td>0</td>\n",
       "    </tr>\n",
       "    <tr>\n",
       "      <th>2</th>\n",
       "      <td>153441.51</td>\n",
       "      <td>101145.55</td>\n",
       "      <td>407934.54</td>\n",
       "      <td>1</td>\n",
       "      <td>0</td>\n",
       "    </tr>\n",
       "    <tr>\n",
       "      <th>3</th>\n",
       "      <td>144372.41</td>\n",
       "      <td>118671.85</td>\n",
       "      <td>383199.62</td>\n",
       "      <td>0</td>\n",
       "      <td>1</td>\n",
       "    </tr>\n",
       "    <tr>\n",
       "      <th>4</th>\n",
       "      <td>142107.34</td>\n",
       "      <td>91391.77</td>\n",
       "      <td>366168.42</td>\n",
       "      <td>1</td>\n",
       "      <td>0</td>\n",
       "    </tr>\n",
       "  </tbody>\n",
       "</table>\n",
       "</div>"
      ],
      "text/plain": [
       "   R&D Spend  Administration  Marketing Spend  State_Florida  State_New York\n",
       "0  165349.20       136897.80        471784.10              0               1\n",
       "1  162597.70       151377.59        443898.53              0               0\n",
       "2  153441.51       101145.55        407934.54              1               0\n",
       "3  144372.41       118671.85        383199.62              0               1\n",
       "4  142107.34        91391.77        366168.42              1               0"
      ]
     },
     "execution_count": 68,
     "metadata": {},
     "output_type": "execute_result"
    }
   ],
   "source": [
    "X.head()"
   ]
  },
  {
   "cell_type": "code",
   "execution_count": 69,
   "id": "7b7f637b",
   "metadata": {},
   "outputs": [],
   "source": [
    "# Dividing the data into Training data and Testing data\n",
    "from sklearn.model_selection import train_test_split\n",
    "X_train,X_test,y_train,y_test = train_test_split(X,y,test_size =0.3, random_state = 0)"
   ]
  },
  {
   "cell_type": "code",
   "execution_count": 70,
   "id": "9fffdfad",
   "metadata": {},
   "outputs": [],
   "source": [
    "from sklearn.model_selection import train_test_split\n",
    "X_train, X_test, y_train, y_test = train_test_split(X, y, test_size= 0.2,random_state=110)"
   ]
  },
  {
   "cell_type": "code",
   "execution_count": 71,
   "id": "18831a7f",
   "metadata": {},
   "outputs": [
    {
     "data": {
      "text/plain": [
       "((40, 5), (10, 5))"
      ]
     },
     "execution_count": 71,
     "metadata": {},
     "output_type": "execute_result"
    }
   ],
   "source": [
    "X_train.shape , X_test.shape"
   ]
  },
  {
   "cell_type": "code",
   "execution_count": 72,
   "id": "b540aa8a",
   "metadata": {},
   "outputs": [
    {
     "data": {
      "text/plain": [
       "((40,), (10,))"
      ]
     },
     "execution_count": 72,
     "metadata": {},
     "output_type": "execute_result"
    }
   ],
   "source": [
    "y_train.shape , y_test.shape"
   ]
  },
  {
   "cell_type": "code",
   "execution_count": 73,
   "id": "ac37106c",
   "metadata": {},
   "outputs": [],
   "source": [
    "# Scaling the data\n",
    "from sklearn.preprocessing import StandardScaler\n",
    "sc_X = StandardScaler()\n",
    "X_train = sc_X.fit_transform(X_train)\n",
    "X_test = sc_X.transform(X_test)"
   ]
  },
  {
   "cell_type": "code",
   "execution_count": 74,
   "id": "0383d1c5",
   "metadata": {},
   "outputs": [
    {
     "data": {
      "text/plain": [
       "array([[-0.00973933,  0.09876642,  0.66728656,  1.62368828, -0.73379939],\n",
       "       [-1.53989921,  0.53916192, -1.71205357, -0.61588176, -0.73379939],\n",
       "       [ 0.54193214, -0.98068752,  0.24702819, -0.61588176, -0.73379939],\n",
       "       [ 1.44562932, -0.04441592,  1.29389545, -0.61588176,  1.36277029],\n",
       "       [ 1.15458227,  0.89105354,  0.828546  ,  1.62368828, -0.73379939],\n",
       "       [-1.1215643 , -1.88078615, -0.25877069, -0.61588176,  1.36277029],\n",
       "       [-1.51921509,  0.14649352, -1.69711849, -0.61588176,  1.36277029],\n",
       "       [ 1.39878913, -0.99457909,  1.16029688,  1.62368828, -0.73379939],\n",
       "       [-1.05101999, -0.82746998, -0.55108219, -0.61588176, -0.73379939],\n",
       "       [ 0.03698154, -0.21175804,  0.63077279, -0.61588176, -0.73379939],\n",
       "       [-0.1832201 ,  1.15234765, -0.87162343, -0.61588176,  1.36277029],\n",
       "       [-1.52868996, -2.37553759, -1.71205357, -0.61588176,  1.36277029],\n",
       "       [-0.74253403, -1.28748762, -0.33929914, -0.61588176, -0.73379939],\n",
       "       [-1.21925069,  0.25896841, -1.43331137, -0.61588176,  1.36277029],\n",
       "       [ 0.5675977 , -0.32576301,  0.08556338,  1.62368828, -0.73379939],\n",
       "       [ 0.08114458,  1.17816951,  0.63918836, -0.61588176,  1.36277029],\n",
       "       [-0.628561  , -2.3915597 , -0.16648734, -0.61588176, -0.73379939],\n",
       "       [-0.04876044,  0.27576514,  1.05844116, -0.61588176,  1.36277029],\n",
       "       [-1.51269634, -0.14387765,  0.61861398,  1.62368828, -0.73379939],\n",
       "       [ 1.63317247, -0.65485565,  1.48792463,  1.62368828, -0.73379939],\n",
       "       [-0.25789326, -0.14997045, -0.99718892,  1.62368828, -0.73379939],\n",
       "       [ 1.01058674, -0.39246023,  0.68032668, -0.61588176, -0.73379939],\n",
       "       [ 1.82251659,  1.09472258,  1.77003848, -0.61588176, -0.73379939],\n",
       "       [-0.14336995, -0.49444713,  0.67865669,  1.62368828, -0.73379939],\n",
       "       [ 0.01785335,  0.84249784, -0.66051892,  1.62368828, -0.73379939],\n",
       "       [-0.17399628,  2.18378366, -0.78525864,  1.62368828, -0.73379939],\n",
       "       [-0.39232003, -0.58826293, -0.02838463,  1.62368828, -0.73379939],\n",
       "       [ 0.41754994,  0.8752937 ,  0.50455607, -0.61588176,  1.36277029],\n",
       "       [-0.22864479,  0.32296178, -1.35054509, -0.61588176, -0.73379939],\n",
       "       [ 1.18723021, -0.70120871,  1.13435517, -0.61588176,  1.36277029],\n",
       "       [ 0.95284253,  1.00212235,  0.73234777, -0.61588176,  1.36277029],\n",
       "       [-0.57983796,  1.31471989, -0.05848447, -0.61588176, -0.73379939],\n",
       "       [ 1.24386187,  0.94917807, -0.71019911, -0.61588176, -0.73379939],\n",
       "       [-1.08127782,  1.21413872, -1.48978632, -0.61588176, -0.73379939],\n",
       "       [ 0.0733617 ,  0.05748599,  0.36156743, -0.61588176, -0.73379939],\n",
       "       [-1.53989921, -0.10321058, -1.35770062, -0.61588176, -0.73379939],\n",
       "       [-0.20267462,  0.68287856, -0.62982754, -0.61588176, -0.73379939],\n",
       "       [ 0.82837535,  0.09298779,  0.34140881, -0.61588176,  1.36277029],\n",
       "       [-0.58835889, -1.21555163, -0.09990284, -0.61588176,  1.36277029],\n",
       "       [ 1.87941584,  0.59039257,  1.98878244, -0.61588176,  1.36277029]])"
      ]
     },
     "execution_count": 74,
     "metadata": {},
     "output_type": "execute_result"
    }
   ],
   "source": [
    "X_train"
   ]
  },
  {
   "cell_type": "code",
   "execution_count": 75,
   "id": "ea1b1dfc",
   "metadata": {},
   "outputs": [
    {
     "data": {
      "text/plain": [
       "array([[ 0.24720457,  1.16913741, -1.71205357, -0.61588176,  1.36277029],\n",
       "       [-0.96309157, -1.22727782, -0.42188901,  1.62368828, -0.73379939],\n",
       "       [ 0.94044981,  1.27478738,  0.3001216 ,  1.62368828, -0.73379939],\n",
       "       [ 0.40114274,  0.25681174,  0.24777254,  1.62368828, -0.73379939],\n",
       "       [-0.27563821,  1.1408489 , -1.02003957, -0.61588176,  1.36277029],\n",
       "       [ 0.35741438, -0.20101336,  0.60139651,  1.62368828, -0.73379939],\n",
       "       [-0.9471511 ,  0.24761072, -0.13434593,  1.62368828, -0.73379939],\n",
       "       [-0.94527817, -0.04879753, -0.35658517, -0.61588176, -0.73379939],\n",
       "       [ 0.36244422,  0.54153558,  0.26993665, -0.61588176, -0.73379939],\n",
       "       [ 0.05332134, -0.71978595, -0.60933663, -0.61588176,  1.36277029]])"
      ]
     },
     "execution_count": 75,
     "metadata": {},
     "output_type": "execute_result"
    }
   ],
   "source": [
    "X_test"
   ]
  },
  {
   "cell_type": "markdown",
   "id": "4908a33e",
   "metadata": {},
   "source": [
    "## Multi Linear Regression"
   ]
  },
  {
   "cell_type": "code",
   "execution_count": 76,
   "id": "2d381b2c",
   "metadata": {},
   "outputs": [
    {
     "data": {
      "text/plain": [
       "LinearRegression()"
      ]
     },
     "execution_count": 76,
     "metadata": {},
     "output_type": "execute_result"
    }
   ],
   "source": [
    "from sklearn.linear_model import LinearRegression\n",
    "model = LinearRegression()\n",
    "model.fit(X_train , y_train)"
   ]
  },
  {
   "cell_type": "code",
   "execution_count": 77,
   "id": "21b19cf2",
   "metadata": {
    "scrolled": true
   },
   "outputs": [
    {
     "data": {
      "text/plain": [
       "array([113641.09499818,  44791.26588906, 135584.06471955, 174472.81745032,\n",
       "       160060.56220969,  68622.60578351,  46442.84182367, 172638.12671676,\n",
       "        69170.87857488, 115754.63475297, 101533.07880969,  48413.9321972 ,\n",
       "        82612.44289331,  59154.68987497, 135453.04718426, 116634.83312585,\n",
       "        88749.15657152, 113538.67335168,  53457.51739639, 182695.47638764,\n",
       "        98940.8771489 , 155116.09796247, 189525.5974121 , 108880.10401026,\n",
       "       110063.9045882 , 100723.00645882,  96868.5829009 , 130009.07332499,\n",
       "        98660.51103265, 164257.10530347, 152036.02436724,  87505.71596504,\n",
       "       159030.89672675,  63206.46441351, 116151.36117126,  46462.86577147,\n",
       "       101518.76614347, 146737.55974057,  89847.96475372, 193345.93009312])"
      ]
     },
     "execution_count": 77,
     "metadata": {},
     "output_type": "execute_result"
    }
   ],
   "source": [
    "# Predicting the output depend on the train data\n",
    "y_pred_train = model.predict(X_train)\n",
    "y_pred_train"
   ]
  },
  {
   "cell_type": "code",
   "execution_count": 78,
   "id": "5b04c6e5",
   "metadata": {},
   "outputs": [],
   "source": [
    "# training accuracy percentage\n",
    "training_accuracy = model.score(X_train, y_train)\n"
   ]
  },
  {
   "cell_type": "code",
   "execution_count": 79,
   "id": "a5cef707",
   "metadata": {
    "scrolled": true
   },
   "outputs": [
    {
     "data": {
      "text/plain": [
       "0.9592402440052763"
      ]
     },
     "execution_count": 79,
     "metadata": {},
     "output_type": "execute_result"
    }
   ],
   "source": [
    "training_accuracy"
   ]
  },
  {
   "cell_type": "code",
   "execution_count": 80,
   "id": "e70cff7f",
   "metadata": {},
   "outputs": [
    {
     "data": {
      "text/plain": [
       "array([116259.74870782,  73409.11984887, 149526.58852575, 128710.68972163,\n",
       "        97393.50497263, 128451.29929338,  73508.55485044,  73253.99079578,\n",
       "       127009.23817921, 113582.37342892])"
      ]
     },
     "execution_count": 80,
     "metadata": {},
     "output_type": "execute_result"
    }
   ],
   "source": [
    "# Predicting the output depend on the test data\n",
    "y_pred_test = model.predict (X_test)\n",
    "y_pred_test"
   ]
  },
  {
   "cell_type": "code",
   "execution_count": 81,
   "id": "312f731b",
   "metadata": {},
   "outputs": [],
   "source": [
    "# testing accuracy percentge\n",
    "testing_accuracy = model.score(X_test, y_test)"
   ]
  },
  {
   "cell_type": "code",
   "execution_count": 82,
   "id": "27d401a3",
   "metadata": {
    "scrolled": true
   },
   "outputs": [
    {
     "data": {
      "text/plain": [
       "0.8151840927625962"
      ]
     },
     "execution_count": 82,
     "metadata": {},
     "output_type": "execute_result"
    }
   ],
   "source": [
    "testing_accuracy"
   ]
  },
  {
   "cell_type": "code",
   "execution_count": 89,
   "id": "03f08435",
   "metadata": {},
   "outputs": [
    {
     "data": {
      "text/html": [
       "<div>\n",
       "<style scoped>\n",
       "    .dataframe tbody tr th:only-of-type {\n",
       "        vertical-align: middle;\n",
       "    }\n",
       "\n",
       "    .dataframe tbody tr th {\n",
       "        vertical-align: top;\n",
       "    }\n",
       "\n",
       "    .dataframe thead th {\n",
       "        text-align: right;\n",
       "    }\n",
       "</style>\n",
       "<table border=\"1\" class=\"dataframe\">\n",
       "  <thead>\n",
       "    <tr style=\"text-align: right;\">\n",
       "      <th></th>\n",
       "      <th>Predicted value</th>\n",
       "      <th>Actual Value</th>\n",
       "    </tr>\n",
       "  </thead>\n",
       "  <tbody>\n",
       "    <tr>\n",
       "      <th>19</th>\n",
       "      <td>116259.748708</td>\n",
       "      <td>122776.86</td>\n",
       "    </tr>\n",
       "    <tr>\n",
       "      <th>41</th>\n",
       "      <td>73409.119849</td>\n",
       "      <td>77798.83</td>\n",
       "    </tr>\n",
       "    <tr>\n",
       "      <th>14</th>\n",
       "      <td>149526.588526</td>\n",
       "      <td>132602.65</td>\n",
       "    </tr>\n",
       "    <tr>\n",
       "      <th>12</th>\n",
       "      <td>128710.689722</td>\n",
       "      <td>141585.52</td>\n",
       "    </tr>\n",
       "    <tr>\n",
       "      <th>31</th>\n",
       "      <td>97393.504973</td>\n",
       "      <td>97483.56</td>\n",
       "    </tr>\n",
       "    <tr>\n",
       "      <th>18</th>\n",
       "      <td>128451.299293</td>\n",
       "      <td>124266.90</td>\n",
       "    </tr>\n",
       "    <tr>\n",
       "      <th>36</th>\n",
       "      <td>73508.554850</td>\n",
       "      <td>90708.19</td>\n",
       "    </tr>\n",
       "    <tr>\n",
       "      <th>40</th>\n",
       "      <td>73253.990796</td>\n",
       "      <td>78239.91</td>\n",
       "    </tr>\n",
       "    <tr>\n",
       "      <th>13</th>\n",
       "      <td>127009.238179</td>\n",
       "      <td>134307.35</td>\n",
       "    </tr>\n",
       "    <tr>\n",
       "      <th>24</th>\n",
       "      <td>113582.373429</td>\n",
       "      <td>108552.04</td>\n",
       "    </tr>\n",
       "  </tbody>\n",
       "</table>\n",
       "</div>"
      ],
      "text/plain": [
       "    Predicted value  Actual Value\n",
       "19    116259.748708     122776.86\n",
       "41     73409.119849      77798.83\n",
       "14    149526.588526     132602.65\n",
       "12    128710.689722     141585.52\n",
       "31     97393.504973      97483.56\n",
       "18    128451.299293     124266.90\n",
       "36     73508.554850      90708.19\n",
       "40     73253.990796      78239.91\n",
       "13    127009.238179     134307.35\n",
       "24    113582.373429     108552.04"
      ]
     },
     "execution_count": 89,
     "metadata": {},
     "output_type": "execute_result"
    }
   ],
   "source": [
    "# Comparing the predicted values and actual values\n",
    "df = pd.DataFrame({'Predicted value':y_pred_test,'Actual Value':y_test})\n",
    "df"
   ]
  },
  {
   "cell_type": "code",
   "execution_count": 90,
   "id": "6ad1347e",
   "metadata": {
    "scrolled": true
   },
   "outputs": [
    {
     "name": "stdout",
     "output_type": "stream",
     "text": [
      "R2 score of model is : 86.1878611548447\n"
     ]
    }
   ],
   "source": [
    "# R Squared score\n",
    "from sklearn.metrics import r2_score\n",
    "\n",
    "r2Score = r2_score(y_pred_test, y_test)\n",
    "print(\"R2 score of model is :\" ,r2Score*100)"
   ]
  },
  {
   "cell_type": "markdown",
   "id": "8dca3fde",
   "metadata": {},
   "source": [
    "## MIN MAX Scaler"
   ]
  },
  {
   "cell_type": "code",
   "execution_count": 42,
   "id": "8570b8fa",
   "metadata": {},
   "outputs": [],
   "source": [
    "## importing MinMaxScaler"
   ]
  },
  {
   "cell_type": "code",
   "execution_count": 92,
   "id": "b1208aa5",
   "metadata": {},
   "outputs": [],
   "source": [
    "from sklearn.preprocessing import MinMaxScaler"
   ]
  },
  {
   "cell_type": "code",
   "execution_count": 93,
   "id": "1bc92ee3",
   "metadata": {},
   "outputs": [],
   "source": [
    "scaler = MinMaxScaler()"
   ]
  },
  {
   "cell_type": "code",
   "execution_count": 94,
   "id": "0603fb9b",
   "metadata": {
    "scrolled": true
   },
   "outputs": [
    {
     "data": {
      "text/plain": [
       "array([[1.        , 0.65174393, 1.        , 0.        , 1.        ],\n",
       "       [0.98335946, 0.76197173, 0.94089337, 0.        , 0.        ],\n",
       "       [0.92798459, 0.37957895, 0.8646636 , 1.        , 0.        ],\n",
       "       [0.87313643, 0.51299839, 0.81223513, 0.        , 1.        ],\n",
       "       [0.85943772, 0.30532804, 0.77613557, 1.        , 0.        ],\n",
       "       [0.797566  , 0.3694479 , 0.76912588, 0.        , 1.        ],\n",
       "       [0.81412828, 0.73016111, 0.27071031, 0.        , 0.        ],\n",
       "       [0.7880179 , 0.71745725, 0.68649342, 1.        , 0.        ],\n",
       "       [0.72901786, 0.74173276, 0.66049977, 0.        , 1.        ],\n",
       "       [0.74590551, 0.43692884, 0.64644319, 0.        , 0.        ],\n",
       "       [0.61635061, 0.45150637, 0.48573267, 1.        , 0.        ],\n",
       "       [0.60884455, 0.30836422, 0.52936195, 0.        , 0.        ],\n",
       "       [0.56766982, 0.57883556, 0.52956308, 1.        , 0.        ],\n",
       "       [0.55635219, 0.64106561, 0.53555202, 0.        , 0.        ],\n",
       "       [0.72539353, 0.8013272 , 0.54370828, 1.        , 0.        ],\n",
       "       [0.69261666, 0.54302973, 0.55486446, 0.        , 1.        ],\n",
       "       [0.47180821, 0.53527036, 0.56031151, 0.        , 0.        ],\n",
       "       [0.57246821, 0.71401273, 0.59894835, 0.        , 1.        ],\n",
       "       [0.55488118, 0.47877201, 0.62511553, 1.        , 0.        ],\n",
       "       [0.52264964, 0.77823604, 0.        , 0.        , 1.        ],\n",
       "       [0.46116861, 0.47642362, 0.63305328, 0.        , 0.        ],\n",
       "       [0.47408436, 0.78021012, 0.63532724, 0.        , 1.        ],\n",
       "       [0.4475048 , 0.54429273, 0.64291963, 1.        , 0.        ],\n",
       "       [0.40842369, 0.4146383 , 0.64599195, 1.        , 0.        ],\n",
       "       [0.46594728, 0.3653876 , 0.29796428, 0.        , 1.        ],\n",
       "       [0.39107967, 0.67195793, 0.29242745, 0.        , 0.        ],\n",
       "       [0.45557444, 0.70684477, 0.28413435, 1.        , 0.        ],\n",
       "       [0.43609283, 0.58297807, 0.74861321, 0.        , 1.        ],\n",
       "       [0.39946683, 1.        , 0.25042853, 1.        , 0.        ],\n",
       "       [0.39676926, 0.77456642, 0.22709197, 0.        , 1.        ],\n",
       "       [0.37493063, 0.48992809, 0.19316302, 1.        , 0.        ],\n",
       "       [0.36974101, 0.77205322, 0.18698856, 0.        , 1.        ],\n",
       "       [0.38348453, 0.5932935 , 0.09768292, 0.        , 0.        ],\n",
       "       [0.33561668, 0.39413365, 0.45494286, 1.        , 0.        ],\n",
       "       [0.2807759 , 0.81005496, 0.44680961, 0.        , 0.        ],\n",
       "       [0.2782839 , 0.25703165, 0.43561799, 0.        , 1.        ],\n",
       "       [0.17335288, 0.57682456, 0.42631115, 1.        , 0.        ],\n",
       "       [0.26652654, 0.        , 0.41762624, 0.        , 0.        ],\n",
       "       [0.12234465, 0.11163611, 0.39269043, 0.        , 1.        ],\n",
       "       [0.23319442, 0.24130912, 0.3709309 , 0.        , 0.        ],\n",
       "       [0.17390063, 0.51204073, 0.36626005, 0.        , 0.        ],\n",
       "       [0.16869099, 0.25446874, 0.34861436, 1.        , 0.        ],\n",
       "       [0.14297577, 0.34185188, 0.31370517, 0.        , 0.        ],\n",
       "       [0.09377566, 0.57930693, 0.07531871, 0.        , 1.        ],\n",
       "       [0.13412668, 0.78807166, 0.06005866, 0.        , 0.        ],\n",
       "       [0.0060492 , 0.5547241 , 0.0040356 , 0.        , 1.        ],\n",
       "       [0.00795565, 0.49125975, 0.62976785, 1.        , 0.        ],\n",
       "       [0.        , 0.64054682, 0.        , 0.        , 0.        ],\n",
       "       [0.00327821, 0.00350184, 0.        , 0.        , 1.        ],\n",
       "       [0.        , 0.50014806, 0.09574943, 0.        , 0.        ]])"
      ]
     },
     "execution_count": 94,
     "metadata": {},
     "output_type": "execute_result"
    }
   ],
   "source": [
    "scaler.fit_transform(X)"
   ]
  },
  {
   "cell_type": "code",
   "execution_count": 48,
   "id": "45a141f3",
   "metadata": {},
   "outputs": [],
   "source": [
    "# Building Model"
   ]
  },
  {
   "cell_type": "code",
   "execution_count": 96,
   "id": "5d899def",
   "metadata": {},
   "outputs": [],
   "source": [
    "model_lr2 = LinearRegression()"
   ]
  },
  {
   "cell_type": "code",
   "execution_count": 49,
   "id": "0a625b8b",
   "metadata": {},
   "outputs": [],
   "source": [
    "## Fitting train data in the Model"
   ]
  },
  {
   "cell_type": "code",
   "execution_count": 98,
   "id": "691e0d26",
   "metadata": {},
   "outputs": [
    {
     "data": {
      "text/plain": [
       "LinearRegression()"
      ]
     },
     "execution_count": 98,
     "metadata": {},
     "output_type": "execute_result"
    }
   ],
   "source": [
    "model_lr2.fit(X_train ,y_train)"
   ]
  },
  {
   "cell_type": "code",
   "execution_count": 100,
   "id": "1413d794",
   "metadata": {},
   "outputs": [],
   "source": [
    "## Checking Intercept "
   ]
  },
  {
   "cell_type": "code",
   "execution_count": 99,
   "id": "517a09ed",
   "metadata": {},
   "outputs": [
    {
     "data": {
      "text/plain": [
       "112307.75375"
      ]
     },
     "execution_count": 99,
     "metadata": {},
     "output_type": "execute_result"
    }
   ],
   "source": [
    "model_lr2.intercept_"
   ]
  },
  {
   "cell_type": "code",
   "execution_count": 102,
   "id": "7e356978",
   "metadata": {},
   "outputs": [],
   "source": [
    "ypred_test2 = model_lr2.predict(X_test)"
   ]
  },
  {
   "cell_type": "code",
   "execution_count": 54,
   "id": "2eeedacf",
   "metadata": {},
   "outputs": [],
   "source": [
    "ypred_train2 = model_lr2.predict(Scaled_X_train)"
   ]
  },
  {
   "cell_type": "code",
   "execution_count": 55,
   "id": "395371da",
   "metadata": {},
   "outputs": [],
   "source": [
    "from sklearn.metrics import r2_score"
   ]
  },
  {
   "cell_type": "code",
   "execution_count": 105,
   "id": "e47dde44",
   "metadata": {},
   "outputs": [],
   "source": [
    "scaled_R2_train = r2_score(y_train,y_pred_train)"
   ]
  },
  {
   "cell_type": "code",
   "execution_count": 107,
   "id": "8afc1df2",
   "metadata": {},
   "outputs": [],
   "source": [
    "scaled_R2_test = r2_score(y_test, ypred_test2)"
   ]
  },
  {
   "cell_type": "code",
   "execution_count": 111,
   "id": "5662053e",
   "metadata": {},
   "outputs": [
    {
     "name": "stdout",
     "output_type": "stream",
     "text": [
      "0.9592402440052763 0.8151840927625962\n"
     ]
    }
   ],
   "source": [
    "print(scaled_R2_train ,scaled_R2_test )"
   ]
  },
  {
   "cell_type": "code",
   "execution_count": 112,
   "id": "63ab8f4c",
   "metadata": {},
   "outputs": [
    {
     "data": {
      "text/plain": [
       "array([116259.74870782,  73409.11984887, 149526.58852575, 128710.68972163,\n",
       "        97393.50497263, 128451.29929338,  73508.55485044,  73253.99079578,\n",
       "       127009.23817921, 113582.37342892])"
      ]
     },
     "execution_count": 112,
     "metadata": {},
     "output_type": "execute_result"
    }
   ],
   "source": [
    "ypred_test2"
   ]
  },
  {
   "cell_type": "code",
   "execution_count": 114,
   "id": "f02e0b7a",
   "metadata": {},
   "outputs": [
    {
     "data": {
      "text/plain": [
       "array([116259.74870782,  73409.11984887, 149526.58852575, 128710.68972163,\n",
       "        97393.50497263, 128451.29929338,  73508.55485044,  73253.99079578,\n",
       "       127009.23817921, 113582.37342892])"
      ]
     },
     "execution_count": 114,
     "metadata": {},
     "output_type": "execute_result"
    }
   ],
   "source": [
    "y_pred_test"
   ]
  },
  {
   "cell_type": "code",
   "execution_count": null,
   "id": "e52730f3",
   "metadata": {},
   "outputs": [],
   "source": []
  }
 ],
 "metadata": {
  "kernelspec": {
   "display_name": "Python 3",
   "language": "python",
   "name": "python3"
  },
  "language_info": {
   "codemirror_mode": {
    "name": "ipython",
    "version": 3
   },
   "file_extension": ".py",
   "mimetype": "text/x-python",
   "name": "python",
   "nbconvert_exporter": "python",
   "pygments_lexer": "ipython3",
   "version": "3.7.6"
  }
 },
 "nbformat": 4,
 "nbformat_minor": 5
}
