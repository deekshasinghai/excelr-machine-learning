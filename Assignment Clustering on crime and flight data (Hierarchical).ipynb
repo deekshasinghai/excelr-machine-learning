{
 "cells": [
  {
   "cell_type": "markdown",
   "id": "3da0ad7d",
   "metadata": {},
   "source": [
    "## PROBLEM STATEMENT 1-\n",
    "### identify the number of clusters formed and draw inferences.\n"
   ]
  },
  {
   "cell_type": "code",
   "execution_count": 75,
   "id": "813321b2",
   "metadata": {},
   "outputs": [],
   "source": [
    "import pandas as pd\n",
    "import matplotlib.pyplot as plt\n",
    "\n",
    "from sklearn import datasets\n",
    "import numpy as np\n",
    "from sklearn.model_selection import train_test_split\n",
    "from sklearn.tree import  DecisionTreeClassifier\n",
    "from sklearn import tree\n",
    "from sklearn.metrics import classification_report\n",
    "from sklearn import preprocessing\n",
    "import scipy.cluster.hierarchy as sch \n",
    "from sklearn.cluster import AgglomerativeClustering\n",
    "from sklearn.cluster import DBSCAN\n",
    "\n",
    "\n",
    "import warnings\n",
    "warnings.filterwarnings(\"ignore\")"
   ]
  },
  {
   "cell_type": "code",
   "execution_count": 5,
   "id": "9c905bfc",
   "metadata": {},
   "outputs": [],
   "source": [
    "## Reading the data"
   ]
  },
  {
   "cell_type": "code",
   "execution_count": 12,
   "id": "acb995c9",
   "metadata": {},
   "outputs": [],
   "source": [
    "crime = pd.read_csv(\"E:\\\\deeksha\\\\python\\\\data\\\\crime_data.csv\")"
   ]
  },
  {
   "cell_type": "code",
   "execution_count": 13,
   "id": "93c15567",
   "metadata": {},
   "outputs": [
    {
     "data": {
      "text/html": [
       "<div>\n",
       "<style scoped>\n",
       "    .dataframe tbody tr th:only-of-type {\n",
       "        vertical-align: middle;\n",
       "    }\n",
       "\n",
       "    .dataframe tbody tr th {\n",
       "        vertical-align: top;\n",
       "    }\n",
       "\n",
       "    .dataframe thead th {\n",
       "        text-align: right;\n",
       "    }\n",
       "</style>\n",
       "<table border=\"1\" class=\"dataframe\">\n",
       "  <thead>\n",
       "    <tr style=\"text-align: right;\">\n",
       "      <th></th>\n",
       "      <th>Unnamed: 0</th>\n",
       "      <th>Murder</th>\n",
       "      <th>Assault</th>\n",
       "      <th>UrbanPop</th>\n",
       "      <th>Rape</th>\n",
       "    </tr>\n",
       "  </thead>\n",
       "  <tbody>\n",
       "    <tr>\n",
       "      <th>0</th>\n",
       "      <td>Alabama</td>\n",
       "      <td>13.2</td>\n",
       "      <td>236</td>\n",
       "      <td>58</td>\n",
       "      <td>21.2</td>\n",
       "    </tr>\n",
       "    <tr>\n",
       "      <th>1</th>\n",
       "      <td>Alaska</td>\n",
       "      <td>10.0</td>\n",
       "      <td>263</td>\n",
       "      <td>48</td>\n",
       "      <td>44.5</td>\n",
       "    </tr>\n",
       "    <tr>\n",
       "      <th>2</th>\n",
       "      <td>Arizona</td>\n",
       "      <td>8.1</td>\n",
       "      <td>294</td>\n",
       "      <td>80</td>\n",
       "      <td>31.0</td>\n",
       "    </tr>\n",
       "    <tr>\n",
       "      <th>3</th>\n",
       "      <td>Arkansas</td>\n",
       "      <td>8.8</td>\n",
       "      <td>190</td>\n",
       "      <td>50</td>\n",
       "      <td>19.5</td>\n",
       "    </tr>\n",
       "    <tr>\n",
       "      <th>4</th>\n",
       "      <td>California</td>\n",
       "      <td>9.0</td>\n",
       "      <td>276</td>\n",
       "      <td>91</td>\n",
       "      <td>40.6</td>\n",
       "    </tr>\n",
       "  </tbody>\n",
       "</table>\n",
       "</div>"
      ],
      "text/plain": [
       "   Unnamed: 0  Murder  Assault  UrbanPop  Rape\n",
       "0     Alabama    13.2      236        58  21.2\n",
       "1      Alaska    10.0      263        48  44.5\n",
       "2     Arizona     8.1      294        80  31.0\n",
       "3    Arkansas     8.8      190        50  19.5\n",
       "4  California     9.0      276        91  40.6"
      ]
     },
     "execution_count": 13,
     "metadata": {},
     "output_type": "execute_result"
    }
   ],
   "source": [
    "crime.head()"
   ]
  },
  {
   "cell_type": "code",
   "execution_count": 16,
   "id": "4f02394a",
   "metadata": {},
   "outputs": [],
   "source": [
    "# Normalization function\n",
    "# using sklearn library norm\n",
    "\n",
    "def norm_func(i):\n",
    "    x = (i-i.min())/(i.max()-i.min())\n",
    "    return x"
   ]
  },
  {
   "cell_type": "code",
   "execution_count": 17,
   "id": "320b6df0",
   "metadata": {},
   "outputs": [],
   "source": [
    "# Normalized data frame (considering the numerical part of data)\n",
    "df_crime = norm_func(crime.iloc[:,1:])\n"
   ]
  },
  {
   "cell_type": "code",
   "execution_count": 18,
   "id": "fde56462",
   "metadata": {},
   "outputs": [
    {
     "data": {
      "text/html": [
       "<div>\n",
       "<style scoped>\n",
       "    .dataframe tbody tr th:only-of-type {\n",
       "        vertical-align: middle;\n",
       "    }\n",
       "\n",
       "    .dataframe tbody tr th {\n",
       "        vertical-align: top;\n",
       "    }\n",
       "\n",
       "    .dataframe thead th {\n",
       "        text-align: right;\n",
       "    }\n",
       "</style>\n",
       "<table border=\"1\" class=\"dataframe\">\n",
       "  <thead>\n",
       "    <tr style=\"text-align: right;\">\n",
       "      <th></th>\n",
       "      <th>Murder</th>\n",
       "      <th>Assault</th>\n",
       "      <th>UrbanPop</th>\n",
       "      <th>Rape</th>\n",
       "    </tr>\n",
       "  </thead>\n",
       "  <tbody>\n",
       "    <tr>\n",
       "      <th>0</th>\n",
       "      <td>0.746988</td>\n",
       "      <td>0.654110</td>\n",
       "      <td>0.440678</td>\n",
       "      <td>0.359173</td>\n",
       "    </tr>\n",
       "    <tr>\n",
       "      <th>1</th>\n",
       "      <td>0.554217</td>\n",
       "      <td>0.746575</td>\n",
       "      <td>0.271186</td>\n",
       "      <td>0.961240</td>\n",
       "    </tr>\n",
       "    <tr>\n",
       "      <th>2</th>\n",
       "      <td>0.439759</td>\n",
       "      <td>0.852740</td>\n",
       "      <td>0.813559</td>\n",
       "      <td>0.612403</td>\n",
       "    </tr>\n",
       "    <tr>\n",
       "      <th>3</th>\n",
       "      <td>0.481928</td>\n",
       "      <td>0.496575</td>\n",
       "      <td>0.305085</td>\n",
       "      <td>0.315245</td>\n",
       "    </tr>\n",
       "    <tr>\n",
       "      <th>4</th>\n",
       "      <td>0.493976</td>\n",
       "      <td>0.791096</td>\n",
       "      <td>1.000000</td>\n",
       "      <td>0.860465</td>\n",
       "    </tr>\n",
       "  </tbody>\n",
       "</table>\n",
       "</div>"
      ],
      "text/plain": [
       "     Murder   Assault  UrbanPop      Rape\n",
       "0  0.746988  0.654110  0.440678  0.359173\n",
       "1  0.554217  0.746575  0.271186  0.961240\n",
       "2  0.439759  0.852740  0.813559  0.612403\n",
       "3  0.481928  0.496575  0.305085  0.315245\n",
       "4  0.493976  0.791096  1.000000  0.860465"
      ]
     },
     "execution_count": 18,
     "metadata": {},
     "output_type": "execute_result"
    }
   ],
   "source": [
    "df_crime.head()"
   ]
  },
  {
   "cell_type": "code",
   "execution_count": 12,
   "id": "33722256",
   "metadata": {},
   "outputs": [
    {
     "data": {
      "image/png": "[encoded data removed]",
      "text/plain": [
       "<Figure size 432x288 with 1 Axes>"
      ]
     },
     "metadata": {
      "needs_background": "light"
     },
     "output_type": "display_data"
    }
   ],
   "source": [
    "# create dendrogram\n",
    "dendrogram = sch.dendrogram(sch.linkage(df_crime, method='complete'))"
   ]
  },
  {
   "cell_type": "code",
   "execution_count": 13,
   "id": "2f9ef85e",
   "metadata": {},
   "outputs": [],
   "source": [
    "# create clusters\n",
    "hc = AgglomerativeClustering(n_clusters=4, affinity = 'euclidean', linkage = 'complete')\n"
   ]
  },
  {
   "cell_type": "code",
   "execution_count": 14,
   "id": "d25a3c47",
   "metadata": {},
   "outputs": [
    {
     "data": {
      "text/plain": [
       "AgglomerativeClustering(linkage='complete', n_clusters=4)"
      ]
     },
     "execution_count": 14,
     "metadata": {},
     "output_type": "execute_result"
    }
   ],
   "source": [
    "hc.fit(df_crime)\n",
    "# hc.predict(df_norm)"
   ]
  },
  {
   "cell_type": "code",
   "execution_count": 15,
   "id": "5926dd9b",
   "metadata": {},
   "outputs": [],
   "source": [
    "# save clusters for chart\n",
    "y_hc = hc.fit_predict(df_crime)\n",
    "# Clusters=pd.DataFrame(y_hc,columns=['Clusters'])"
   ]
  },
  {
   "cell_type": "code",
   "execution_count": 11,
   "id": "3a0e53ff",
   "metadata": {},
   "outputs": [
    {
     "data": {
      "text/plain": [
       "array([0, 0, 3, 1, 3, 3, 1, 1, 3, 0, 1, 2, 3, 1, 2, 1, 1, 0, 2, 3, 1, 3,\n",
       "       1, 0, 3, 2, 2, 3, 2, 1, 3, 3, 0, 2, 1, 1, 1, 1, 1, 0, 2, 0, 3, 1,\n",
       "       2, 1, 1, 2, 1, 1], dtype=int64)"
      ]
     },
     "execution_count": 11,
     "metadata": {},
     "output_type": "execute_result"
    }
   ],
   "source": [
    "y_hc"
   ]
  },
  {
   "cell_type": "code",
   "execution_count": 16,
   "id": "5a2a8f60",
   "metadata": {},
   "outputs": [],
   "source": [
    "crime['h_clusterid'] = y_hc"
   ]
  },
  {
   "cell_type": "code",
   "execution_count": 17,
   "id": "00f29ef7",
   "metadata": {},
   "outputs": [
    {
     "data": {
      "text/html": [
       "<div>\n",
       "<style scoped>\n",
       "    .dataframe tbody tr th:only-of-type {\n",
       "        vertical-align: middle;\n",
       "    }\n",
       "\n",
       "    .dataframe tbody tr th {\n",
       "        vertical-align: top;\n",
       "    }\n",
       "\n",
       "    .dataframe thead th {\n",
       "        text-align: right;\n",
       "    }\n",
       "</style>\n",
       "<table border=\"1\" class=\"dataframe\">\n",
       "  <thead>\n",
       "    <tr style=\"text-align: right;\">\n",
       "      <th></th>\n",
       "      <th>Unnamed: 0</th>\n",
       "      <th>Murder</th>\n",
       "      <th>Assault</th>\n",
       "      <th>UrbanPop</th>\n",
       "      <th>Rape</th>\n",
       "      <th>h_clusterid</th>\n",
       "    </tr>\n",
       "  </thead>\n",
       "  <tbody>\n",
       "    <tr>\n",
       "      <th>0</th>\n",
       "      <td>Alabama</td>\n",
       "      <td>13.2</td>\n",
       "      <td>236</td>\n",
       "      <td>58</td>\n",
       "      <td>21.2</td>\n",
       "      <td>0</td>\n",
       "    </tr>\n",
       "    <tr>\n",
       "      <th>1</th>\n",
       "      <td>Alaska</td>\n",
       "      <td>10.0</td>\n",
       "      <td>263</td>\n",
       "      <td>48</td>\n",
       "      <td>44.5</td>\n",
       "      <td>0</td>\n",
       "    </tr>\n",
       "    <tr>\n",
       "      <th>2</th>\n",
       "      <td>Arizona</td>\n",
       "      <td>8.1</td>\n",
       "      <td>294</td>\n",
       "      <td>80</td>\n",
       "      <td>31.0</td>\n",
       "      <td>3</td>\n",
       "    </tr>\n",
       "    <tr>\n",
       "      <th>3</th>\n",
       "      <td>Arkansas</td>\n",
       "      <td>8.8</td>\n",
       "      <td>190</td>\n",
       "      <td>50</td>\n",
       "      <td>19.5</td>\n",
       "      <td>1</td>\n",
       "    </tr>\n",
       "    <tr>\n",
       "      <th>4</th>\n",
       "      <td>California</td>\n",
       "      <td>9.0</td>\n",
       "      <td>276</td>\n",
       "      <td>91</td>\n",
       "      <td>40.6</td>\n",
       "      <td>3</td>\n",
       "    </tr>\n",
       "  </tbody>\n",
       "</table>\n",
       "</div>"
      ],
      "text/plain": [
       "   Unnamed: 0  Murder  Assault  UrbanPop  Rape  h_clusterid\n",
       "0     Alabama    13.2      236        58  21.2            0\n",
       "1      Alaska    10.0      263        48  44.5            0\n",
       "2     Arizona     8.1      294        80  31.0            3\n",
       "3    Arkansas     8.8      190        50  19.5            1\n",
       "4  California     9.0      276        91  40.6            3"
      ]
     },
     "execution_count": 17,
     "metadata": {},
     "output_type": "execute_result"
    }
   ],
   "source": [
    "crime.head()"
   ]
  },
  {
   "cell_type": "code",
   "execution_count": 14,
   "id": "eae72b58",
   "metadata": {
    "scrolled": true
   },
   "outputs": [
    {
     "data": {
      "text/html": [
       "<div>\n",
       "<style scoped>\n",
       "    .dataframe tbody tr th:only-of-type {\n",
       "        vertical-align: middle;\n",
       "    }\n",
       "\n",
       "    .dataframe tbody tr th {\n",
       "        vertical-align: top;\n",
       "    }\n",
       "\n",
       "    .dataframe thead th {\n",
       "        text-align: right;\n",
       "    }\n",
       "</style>\n",
       "<table border=\"1\" class=\"dataframe\">\n",
       "  <thead>\n",
       "    <tr style=\"text-align: right;\">\n",
       "      <th></th>\n",
       "      <th>Unnamed: 0</th>\n",
       "      <th>h_clusterid</th>\n",
       "    </tr>\n",
       "  </thead>\n",
       "  <tbody>\n",
       "    <tr>\n",
       "      <th>0</th>\n",
       "      <td>Alabama</td>\n",
       "      <td>0</td>\n",
       "    </tr>\n",
       "    <tr>\n",
       "      <th>17</th>\n",
       "      <td>Louisiana</td>\n",
       "      <td>0</td>\n",
       "    </tr>\n",
       "    <tr>\n",
       "      <th>23</th>\n",
       "      <td>Mississippi</td>\n",
       "      <td>0</td>\n",
       "    </tr>\n",
       "    <tr>\n",
       "      <th>32</th>\n",
       "      <td>North Carolina</td>\n",
       "      <td>0</td>\n",
       "    </tr>\n",
       "    <tr>\n",
       "      <th>39</th>\n",
       "      <td>South Carolina</td>\n",
       "      <td>0</td>\n",
       "    </tr>\n",
       "    <tr>\n",
       "      <th>9</th>\n",
       "      <td>Georgia</td>\n",
       "      <td>0</td>\n",
       "    </tr>\n",
       "    <tr>\n",
       "      <th>1</th>\n",
       "      <td>Alaska</td>\n",
       "      <td>0</td>\n",
       "    </tr>\n",
       "    <tr>\n",
       "      <th>41</th>\n",
       "      <td>Tennessee</td>\n",
       "      <td>0</td>\n",
       "    </tr>\n",
       "    <tr>\n",
       "      <th>43</th>\n",
       "      <td>Utah</td>\n",
       "      <td>1</td>\n",
       "    </tr>\n",
       "    <tr>\n",
       "      <th>38</th>\n",
       "      <td>Rhode Island</td>\n",
       "      <td>1</td>\n",
       "    </tr>\n",
       "    <tr>\n",
       "      <th>37</th>\n",
       "      <td>Pennsylvania</td>\n",
       "      <td>1</td>\n",
       "    </tr>\n",
       "    <tr>\n",
       "      <th>22</th>\n",
       "      <td>Minnesota</td>\n",
       "      <td>1</td>\n",
       "    </tr>\n",
       "    <tr>\n",
       "      <th>36</th>\n",
       "      <td>Oregon</td>\n",
       "      <td>1</td>\n",
       "    </tr>\n",
       "    <tr>\n",
       "      <th>35</th>\n",
       "      <td>Oklahoma</td>\n",
       "      <td>1</td>\n",
       "    </tr>\n",
       "    <tr>\n",
       "      <th>34</th>\n",
       "      <td>Ohio</td>\n",
       "      <td>1</td>\n",
       "    </tr>\n",
       "    <tr>\n",
       "      <th>45</th>\n",
       "      <td>Virginia</td>\n",
       "      <td>1</td>\n",
       "    </tr>\n",
       "    <tr>\n",
       "      <th>29</th>\n",
       "      <td>New Jersey</td>\n",
       "      <td>1</td>\n",
       "    </tr>\n",
       "    <tr>\n",
       "      <th>48</th>\n",
       "      <td>Wisconsin</td>\n",
       "      <td>1</td>\n",
       "    </tr>\n",
       "    <tr>\n",
       "      <th>46</th>\n",
       "      <td>Washington</td>\n",
       "      <td>1</td>\n",
       "    </tr>\n",
       "    <tr>\n",
       "      <th>20</th>\n",
       "      <td>Massachusetts</td>\n",
       "      <td>1</td>\n",
       "    </tr>\n",
       "    <tr>\n",
       "      <th>49</th>\n",
       "      <td>Wyoming</td>\n",
       "      <td>1</td>\n",
       "    </tr>\n",
       "    <tr>\n",
       "      <th>7</th>\n",
       "      <td>Delaware</td>\n",
       "      <td>1</td>\n",
       "    </tr>\n",
       "    <tr>\n",
       "      <th>16</th>\n",
       "      <td>Kentucky</td>\n",
       "      <td>1</td>\n",
       "    </tr>\n",
       "    <tr>\n",
       "      <th>15</th>\n",
       "      <td>Kansas</td>\n",
       "      <td>1</td>\n",
       "    </tr>\n",
       "    <tr>\n",
       "      <th>10</th>\n",
       "      <td>Hawaii</td>\n",
       "      <td>1</td>\n",
       "    </tr>\n",
       "    <tr>\n",
       "      <th>13</th>\n",
       "      <td>Indiana</td>\n",
       "      <td>1</td>\n",
       "    </tr>\n",
       "    <tr>\n",
       "      <th>3</th>\n",
       "      <td>Arkansas</td>\n",
       "      <td>1</td>\n",
       "    </tr>\n",
       "    <tr>\n",
       "      <th>6</th>\n",
       "      <td>Connecticut</td>\n",
       "      <td>1</td>\n",
       "    </tr>\n",
       "    <tr>\n",
       "      <th>11</th>\n",
       "      <td>Idaho</td>\n",
       "      <td>2</td>\n",
       "    </tr>\n",
       "    <tr>\n",
       "      <th>44</th>\n",
       "      <td>Vermont</td>\n",
       "      <td>2</td>\n",
       "    </tr>\n",
       "    <tr>\n",
       "      <th>33</th>\n",
       "      <td>North Dakota</td>\n",
       "      <td>2</td>\n",
       "    </tr>\n",
       "    <tr>\n",
       "      <th>40</th>\n",
       "      <td>South Dakota</td>\n",
       "      <td>2</td>\n",
       "    </tr>\n",
       "    <tr>\n",
       "      <th>28</th>\n",
       "      <td>New Hampshire</td>\n",
       "      <td>2</td>\n",
       "    </tr>\n",
       "    <tr>\n",
       "      <th>47</th>\n",
       "      <td>West Virginia</td>\n",
       "      <td>2</td>\n",
       "    </tr>\n",
       "    <tr>\n",
       "      <th>26</th>\n",
       "      <td>Nebraska</td>\n",
       "      <td>2</td>\n",
       "    </tr>\n",
       "    <tr>\n",
       "      <th>25</th>\n",
       "      <td>Montana</td>\n",
       "      <td>2</td>\n",
       "    </tr>\n",
       "    <tr>\n",
       "      <th>18</th>\n",
       "      <td>Maine</td>\n",
       "      <td>2</td>\n",
       "    </tr>\n",
       "    <tr>\n",
       "      <th>14</th>\n",
       "      <td>Iowa</td>\n",
       "      <td>2</td>\n",
       "    </tr>\n",
       "    <tr>\n",
       "      <th>4</th>\n",
       "      <td>California</td>\n",
       "      <td>3</td>\n",
       "    </tr>\n",
       "    <tr>\n",
       "      <th>42</th>\n",
       "      <td>Texas</td>\n",
       "      <td>3</td>\n",
       "    </tr>\n",
       "    <tr>\n",
       "      <th>2</th>\n",
       "      <td>Arizona</td>\n",
       "      <td>3</td>\n",
       "    </tr>\n",
       "    <tr>\n",
       "      <th>21</th>\n",
       "      <td>Michigan</td>\n",
       "      <td>3</td>\n",
       "    </tr>\n",
       "    <tr>\n",
       "      <th>8</th>\n",
       "      <td>Florida</td>\n",
       "      <td>3</td>\n",
       "    </tr>\n",
       "    <tr>\n",
       "      <th>19</th>\n",
       "      <td>Maryland</td>\n",
       "      <td>3</td>\n",
       "    </tr>\n",
       "    <tr>\n",
       "      <th>12</th>\n",
       "      <td>Illinois</td>\n",
       "      <td>3</td>\n",
       "    </tr>\n",
       "    <tr>\n",
       "      <th>31</th>\n",
       "      <td>New York</td>\n",
       "      <td>3</td>\n",
       "    </tr>\n",
       "    <tr>\n",
       "      <th>30</th>\n",
       "      <td>New Mexico</td>\n",
       "      <td>3</td>\n",
       "    </tr>\n",
       "    <tr>\n",
       "      <th>27</th>\n",
       "      <td>Nevada</td>\n",
       "      <td>3</td>\n",
       "    </tr>\n",
       "    <tr>\n",
       "      <th>5</th>\n",
       "      <td>Colorado</td>\n",
       "      <td>3</td>\n",
       "    </tr>\n",
       "    <tr>\n",
       "      <th>24</th>\n",
       "      <td>Missouri</td>\n",
       "      <td>3</td>\n",
       "    </tr>\n",
       "  </tbody>\n",
       "</table>\n",
       "</div>"
      ],
      "text/plain": [
       "        Unnamed: 0  h_clusterid\n",
       "0          Alabama            0\n",
       "17       Louisiana            0\n",
       "23     Mississippi            0\n",
       "32  North Carolina            0\n",
       "39  South Carolina            0\n",
       "9          Georgia            0\n",
       "1           Alaska            0\n",
       "41       Tennessee            0\n",
       "43            Utah            1\n",
       "38    Rhode Island            1\n",
       "37    Pennsylvania            1\n",
       "22       Minnesota            1\n",
       "36          Oregon            1\n",
       "35        Oklahoma            1\n",
       "34            Ohio            1\n",
       "45        Virginia            1\n",
       "29      New Jersey            1\n",
       "48       Wisconsin            1\n",
       "46      Washington            1\n",
       "20   Massachusetts            1\n",
       "49         Wyoming            1\n",
       "7         Delaware            1\n",
       "16        Kentucky            1\n",
       "15          Kansas            1\n",
       "10          Hawaii            1\n",
       "13         Indiana            1\n",
       "3         Arkansas            1\n",
       "6      Connecticut            1\n",
       "11           Idaho            2\n",
       "44         Vermont            2\n",
       "33    North Dakota            2\n",
       "40    South Dakota            2\n",
       "28   New Hampshire            2\n",
       "47   West Virginia            2\n",
       "26        Nebraska            2\n",
       "25         Montana            2\n",
       "18           Maine            2\n",
       "14            Iowa            2\n",
       "4       California            3\n",
       "42           Texas            3\n",
       "2          Arizona            3\n",
       "21        Michigan            3\n",
       "8          Florida            3\n",
       "19        Maryland            3\n",
       "12        Illinois            3\n",
       "31        New York            3\n",
       "30      New Mexico            3\n",
       "27          Nevada            3\n",
       "5         Colorado            3\n",
       "24        Missouri            3"
      ]
     },
     "execution_count": 14,
     "metadata": {},
     "output_type": "execute_result"
    }
   ],
   "source": [
    "crime1=crime.sort_values(\"h_clusterid\")\n",
    "crime1.iloc[:,[0,-1]]"
   ]
  },
  {
   "cell_type": "markdown",
   "id": "548dae1a",
   "metadata": {},
   "source": [
    "## using K-Mean Clustering Method"
   ]
  },
  {
   "cell_type": "code",
   "execution_count": 8,
   "id": "e95caa53",
   "metadata": {},
   "outputs": [],
   "source": [
    "## using k-mean clustering \n",
    "#The K-means algorithm aims to choose centroids that minimise the inertia, or within-cluster sum-of-squares criterion:\n",
    "from sklearn.cluster import KMeans"
   ]
  },
  {
   "cell_type": "code",
   "execution_count": 19,
   "id": "cf6c3136",
   "metadata": {},
   "outputs": [],
   "source": [
    "kmeans = KMeans(n_clusters=4,random_state=0)\n",
    "predict=kmeans.fit_predict(df_crime)"
   ]
  },
  {
   "cell_type": "code",
   "execution_count": 20,
   "id": "df9f0bbe",
   "metadata": {
    "scrolled": true
   },
   "outputs": [
    {
     "data": {
      "text/plain": [
       "array([2, 0, 0, 2, 0, 0, 1, 1, 0, 2, 1, 3, 0, 1, 3, 1, 3, 2, 3, 0, 1, 0,\n",
       "       3, 2, 1, 3, 3, 0, 3, 1, 0, 0, 2, 3, 1, 1, 1, 1, 1, 2, 3, 2, 0, 1,\n",
       "       3, 1, 1, 3, 3, 1])"
      ]
     },
     "execution_count": 20,
     "metadata": {},
     "output_type": "execute_result"
    }
   ],
   "source": [
    "predict"
   ]
  },
  {
   "cell_type": "code",
   "execution_count": 33,
   "id": "6e4a0714",
   "metadata": {},
   "outputs": [],
   "source": [
    "## using elbow curv for plotting"
   ]
  },
  {
   "cell_type": "code",
   "execution_count": 22,
   "id": "08244f95",
   "metadata": {},
   "outputs": [
    {
     "data": {
      "image/png": "[encoded data removed]",
      "text/plain": [
       "<Figure size 432x288 with 1 Axes>"
      ]
     },
     "metadata": {
      "needs_background": "light"
     },
     "output_type": "display_data"
    }
   ],
   "source": [
    "wcss = []\n",
    "for i in range(1, 11):\n",
    "    kmeans = KMeans(n_clusters=i,random_state=0)\n",
    "    kmeans.fit(df_crime)\n",
    "    wcss.append(kmeans.inertia_)\n",
    "\n",
    "plt.plot(range(1, 11), wcss)\n",
    "plt.title('Elbow Method')\n",
    "plt.xlabel('Number of clusters')\n",
    "plt.ylabel('WCSS')\n",
    "plt.show()"
   ]
  },
  {
   "cell_type": "code",
   "execution_count": 24,
   "id": "a00cb183",
   "metadata": {},
   "outputs": [
    {
     "data": {
      "text/plain": [
       "KMeans(n_clusters=3, random_state=42)"
      ]
     },
     "execution_count": 24,
     "metadata": {},
     "output_type": "execute_result"
    }
   ],
   "source": [
    "#Building Cluster algorithm\n",
    "from sklearn.cluster import KMeans\n",
    "clusters_new = KMeans(3, random_state=42)\n",
    "clusters_new.fit(df_crime)"
   ]
  },
  {
   "cell_type": "code",
   "execution_count": 25,
   "id": "92cccafb",
   "metadata": {},
   "outputs": [
    {
     "data": {
      "text/plain": [
       "array([1, 1, 1, 0, 1, 1, 0, 0, 1, 1, 0, 2, 1, 0, 2, 0, 2, 1, 2, 1, 0, 1,\n",
       "       2, 1, 1, 2, 2, 1, 2, 0, 1, 1, 1, 2, 0, 0, 0, 0, 0, 1, 2, 1, 1, 0,\n",
       "       2, 0, 0, 2, 2, 0])"
      ]
     },
     "execution_count": 25,
     "metadata": {},
     "output_type": "execute_result"
    }
   ],
   "source": [
    "clusters_new.labels_"
   ]
  },
  {
   "cell_type": "code",
   "execution_count": 26,
   "id": "f2f54d64",
   "metadata": {},
   "outputs": [],
   "source": [
    "#Assign clusters to the data set\n",
    "crime['clusterid_new'] = clusters_new.labels_"
   ]
  },
  {
   "cell_type": "code",
   "execution_count": 28,
   "id": "8341380b",
   "metadata": {},
   "outputs": [
    {
     "data": {
      "text/html": [
       "<div>\n",
       "<style scoped>\n",
       "    .dataframe tbody tr th:only-of-type {\n",
       "        vertical-align: middle;\n",
       "    }\n",
       "\n",
       "    .dataframe tbody tr th {\n",
       "        vertical-align: top;\n",
       "    }\n",
       "\n",
       "    .dataframe thead th {\n",
       "        text-align: right;\n",
       "    }\n",
       "</style>\n",
       "<table border=\"1\" class=\"dataframe\">\n",
       "  <thead>\n",
       "    <tr style=\"text-align: right;\">\n",
       "      <th></th>\n",
       "      <th>Unnamed: 0</th>\n",
       "      <th>Murder</th>\n",
       "      <th>Assault</th>\n",
       "      <th>UrbanPop</th>\n",
       "      <th>Rape</th>\n",
       "      <th>clusterid_new</th>\n",
       "    </tr>\n",
       "  </thead>\n",
       "  <tbody>\n",
       "    <tr>\n",
       "      <th>0</th>\n",
       "      <td>Alabama</td>\n",
       "      <td>13.2</td>\n",
       "      <td>236</td>\n",
       "      <td>58</td>\n",
       "      <td>21.2</td>\n",
       "      <td>1</td>\n",
       "    </tr>\n",
       "    <tr>\n",
       "      <th>1</th>\n",
       "      <td>Alaska</td>\n",
       "      <td>10.0</td>\n",
       "      <td>263</td>\n",
       "      <td>48</td>\n",
       "      <td>44.5</td>\n",
       "      <td>1</td>\n",
       "    </tr>\n",
       "    <tr>\n",
       "      <th>2</th>\n",
       "      <td>Arizona</td>\n",
       "      <td>8.1</td>\n",
       "      <td>294</td>\n",
       "      <td>80</td>\n",
       "      <td>31.0</td>\n",
       "      <td>1</td>\n",
       "    </tr>\n",
       "    <tr>\n",
       "      <th>3</th>\n",
       "      <td>Arkansas</td>\n",
       "      <td>8.8</td>\n",
       "      <td>190</td>\n",
       "      <td>50</td>\n",
       "      <td>19.5</td>\n",
       "      <td>0</td>\n",
       "    </tr>\n",
       "    <tr>\n",
       "      <th>4</th>\n",
       "      <td>California</td>\n",
       "      <td>9.0</td>\n",
       "      <td>276</td>\n",
       "      <td>91</td>\n",
       "      <td>40.6</td>\n",
       "      <td>1</td>\n",
       "    </tr>\n",
       "  </tbody>\n",
       "</table>\n",
       "</div>"
      ],
      "text/plain": [
       "   Unnamed: 0  Murder  Assault  UrbanPop  Rape  clusterid_new\n",
       "0     Alabama    13.2      236        58  21.2              1\n",
       "1      Alaska    10.0      263        48  44.5              1\n",
       "2     Arizona     8.1      294        80  31.0              1\n",
       "3    Arkansas     8.8      190        50  19.5              0\n",
       "4  California     9.0      276        91  40.6              1"
      ]
     },
     "execution_count": 28,
     "metadata": {},
     "output_type": "execute_result"
    }
   ],
   "source": [
    "crime.head()"
   ]
  },
  {
   "cell_type": "code",
   "execution_count": 30,
   "id": "100ac236",
   "metadata": {},
   "outputs": [
    {
     "data": {
      "text/html": [
       "<div>\n",
       "<style scoped>\n",
       "    .dataframe tbody tr th:only-of-type {\n",
       "        vertical-align: middle;\n",
       "    }\n",
       "\n",
       "    .dataframe tbody tr th {\n",
       "        vertical-align: top;\n",
       "    }\n",
       "\n",
       "    .dataframe thead tr th {\n",
       "        text-align: left;\n",
       "    }\n",
       "</style>\n",
       "<table border=\"1\" class=\"dataframe\">\n",
       "  <thead>\n",
       "    <tr>\n",
       "      <th></th>\n",
       "      <th>clusterid_new</th>\n",
       "      <th>Murder</th>\n",
       "      <th>Assault</th>\n",
       "      <th>UrbanPop</th>\n",
       "      <th>Rape</th>\n",
       "    </tr>\n",
       "    <tr>\n",
       "      <th></th>\n",
       "      <th></th>\n",
       "      <th>mean</th>\n",
       "      <th>mean</th>\n",
       "      <th>mean</th>\n",
       "      <th>mean</th>\n",
       "    </tr>\n",
       "  </thead>\n",
       "  <tbody>\n",
       "    <tr>\n",
       "      <th>0</th>\n",
       "      <td>0</td>\n",
       "      <td>5.841176</td>\n",
       "      <td>141.882353</td>\n",
       "      <td>72.470588</td>\n",
       "      <td>18.823529</td>\n",
       "    </tr>\n",
       "    <tr>\n",
       "      <th>1</th>\n",
       "      <td>1</td>\n",
       "      <td>12.165000</td>\n",
       "      <td>255.250000</td>\n",
       "      <td>68.400000</td>\n",
       "      <td>29.165000</td>\n",
       "    </tr>\n",
       "    <tr>\n",
       "      <th>2</th>\n",
       "      <td>2</td>\n",
       "      <td>3.600000</td>\n",
       "      <td>78.538462</td>\n",
       "      <td>52.076923</td>\n",
       "      <td>12.176923</td>\n",
       "    </tr>\n",
       "  </tbody>\n",
       "</table>\n",
       "</div>"
      ],
      "text/plain": [
       "  clusterid_new     Murder     Assault   UrbanPop       Rape\n",
       "                      mean        mean       mean       mean\n",
       "0             0   5.841176  141.882353  72.470588  18.823529\n",
       "1             1  12.165000  255.250000  68.400000  29.165000\n",
       "2             2   3.600000   78.538462  52.076923  12.176923"
      ]
     },
     "execution_count": 30,
     "metadata": {},
     "output_type": "execute_result"
    }
   ],
   "source": [
    "crime.groupby('clusterid_new').agg(['mean']).reset_index()"
   ]
  },
  {
   "cell_type": "code",
   "execution_count": 32,
   "id": "c171a70f",
   "metadata": {
    "scrolled": true
   },
   "outputs": [
    {
     "data": {
      "text/html": [
       "<div>\n",
       "<style scoped>\n",
       "    .dataframe tbody tr th:only-of-type {\n",
       "        vertical-align: middle;\n",
       "    }\n",
       "\n",
       "    .dataframe tbody tr th {\n",
       "        vertical-align: top;\n",
       "    }\n",
       "\n",
       "    .dataframe thead th {\n",
       "        text-align: right;\n",
       "    }\n",
       "</style>\n",
       "<table border=\"1\" class=\"dataframe\">\n",
       "  <thead>\n",
       "    <tr style=\"text-align: right;\">\n",
       "      <th></th>\n",
       "      <th>Unnamed: 0</th>\n",
       "      <th>Murder</th>\n",
       "      <th>Assault</th>\n",
       "      <th>UrbanPop</th>\n",
       "      <th>Rape</th>\n",
       "      <th>clusterid_new</th>\n",
       "    </tr>\n",
       "  </thead>\n",
       "  <tbody>\n",
       "    <tr>\n",
       "      <th>11</th>\n",
       "      <td>Idaho</td>\n",
       "      <td>2.6</td>\n",
       "      <td>120</td>\n",
       "      <td>54</td>\n",
       "      <td>14.2</td>\n",
       "      <td>2</td>\n",
       "    </tr>\n",
       "    <tr>\n",
       "      <th>14</th>\n",
       "      <td>Iowa</td>\n",
       "      <td>2.2</td>\n",
       "      <td>56</td>\n",
       "      <td>57</td>\n",
       "      <td>11.3</td>\n",
       "      <td>2</td>\n",
       "    </tr>\n",
       "    <tr>\n",
       "      <th>16</th>\n",
       "      <td>Kentucky</td>\n",
       "      <td>9.7</td>\n",
       "      <td>109</td>\n",
       "      <td>52</td>\n",
       "      <td>16.3</td>\n",
       "      <td>2</td>\n",
       "    </tr>\n",
       "    <tr>\n",
       "      <th>18</th>\n",
       "      <td>Maine</td>\n",
       "      <td>2.1</td>\n",
       "      <td>83</td>\n",
       "      <td>51</td>\n",
       "      <td>7.8</td>\n",
       "      <td>2</td>\n",
       "    </tr>\n",
       "    <tr>\n",
       "      <th>22</th>\n",
       "      <td>Minnesota</td>\n",
       "      <td>2.7</td>\n",
       "      <td>72</td>\n",
       "      <td>66</td>\n",
       "      <td>14.9</td>\n",
       "      <td>2</td>\n",
       "    </tr>\n",
       "    <tr>\n",
       "      <th>25</th>\n",
       "      <td>Montana</td>\n",
       "      <td>6.0</td>\n",
       "      <td>109</td>\n",
       "      <td>53</td>\n",
       "      <td>16.4</td>\n",
       "      <td>2</td>\n",
       "    </tr>\n",
       "    <tr>\n",
       "      <th>26</th>\n",
       "      <td>Nebraska</td>\n",
       "      <td>4.3</td>\n",
       "      <td>102</td>\n",
       "      <td>62</td>\n",
       "      <td>16.5</td>\n",
       "      <td>2</td>\n",
       "    </tr>\n",
       "    <tr>\n",
       "      <th>28</th>\n",
       "      <td>New Hampshire</td>\n",
       "      <td>2.1</td>\n",
       "      <td>57</td>\n",
       "      <td>56</td>\n",
       "      <td>9.5</td>\n",
       "      <td>2</td>\n",
       "    </tr>\n",
       "    <tr>\n",
       "      <th>33</th>\n",
       "      <td>North Dakota</td>\n",
       "      <td>0.8</td>\n",
       "      <td>45</td>\n",
       "      <td>44</td>\n",
       "      <td>7.3</td>\n",
       "      <td>2</td>\n",
       "    </tr>\n",
       "    <tr>\n",
       "      <th>40</th>\n",
       "      <td>South Dakota</td>\n",
       "      <td>3.8</td>\n",
       "      <td>86</td>\n",
       "      <td>45</td>\n",
       "      <td>12.8</td>\n",
       "      <td>2</td>\n",
       "    </tr>\n",
       "    <tr>\n",
       "      <th>44</th>\n",
       "      <td>Vermont</td>\n",
       "      <td>2.2</td>\n",
       "      <td>48</td>\n",
       "      <td>32</td>\n",
       "      <td>11.2</td>\n",
       "      <td>2</td>\n",
       "    </tr>\n",
       "    <tr>\n",
       "      <th>47</th>\n",
       "      <td>West Virginia</td>\n",
       "      <td>5.7</td>\n",
       "      <td>81</td>\n",
       "      <td>39</td>\n",
       "      <td>9.3</td>\n",
       "      <td>2</td>\n",
       "    </tr>\n",
       "    <tr>\n",
       "      <th>48</th>\n",
       "      <td>Wisconsin</td>\n",
       "      <td>2.6</td>\n",
       "      <td>53</td>\n",
       "      <td>66</td>\n",
       "      <td>10.8</td>\n",
       "      <td>2</td>\n",
       "    </tr>\n",
       "  </tbody>\n",
       "</table>\n",
       "</div>"
      ],
      "text/plain": [
       "       Unnamed: 0  Murder  Assault  UrbanPop  Rape  clusterid_new\n",
       "11          Idaho     2.6      120        54  14.2              2\n",
       "14           Iowa     2.2       56        57  11.3              2\n",
       "16       Kentucky     9.7      109        52  16.3              2\n",
       "18          Maine     2.1       83        51   7.8              2\n",
       "22      Minnesota     2.7       72        66  14.9              2\n",
       "25        Montana     6.0      109        53  16.4              2\n",
       "26       Nebraska     4.3      102        62  16.5              2\n",
       "28  New Hampshire     2.1       57        56   9.5              2\n",
       "33   North Dakota     0.8       45        44   7.3              2\n",
       "40   South Dakota     3.8       86        45  12.8              2\n",
       "44        Vermont     2.2       48        32  11.2              2\n",
       "47  West Virginia     5.7       81        39   9.3              2\n",
       "48      Wisconsin     2.6       53        66  10.8              2"
      ]
     },
     "execution_count": 32,
     "metadata": {},
     "output_type": "execute_result"
    }
   ],
   "source": [
    "crime[crime['clusterid_new']==2]"
   ]
  },
  {
   "cell_type": "code",
   "execution_count": 34,
   "id": "d1581333",
   "metadata": {},
   "outputs": [],
   "source": [
    "## using silhouette score"
   ]
  },
  {
   "cell_type": "code",
   "execution_count": 37,
   "id": "e593a0fa",
   "metadata": {},
   "outputs": [],
   "source": [
    "from sklearn.metrics import silhouette_samples, silhouette_score"
   ]
  },
  {
   "cell_type": "code",
   "execution_count": 38,
   "id": "67133b4b",
   "metadata": {},
   "outputs": [],
   "source": [
    "silhouette_score_average = silhouette_score(df_crime, predict)"
   ]
  },
  {
   "cell_type": "code",
   "execution_count": 39,
   "id": "68b7d258",
   "metadata": {},
   "outputs": [
    {
     "data": {
      "text/plain": [
       "0.3408903560074363"
      ]
     },
     "execution_count": 39,
     "metadata": {},
     "output_type": "execute_result"
    }
   ],
   "source": [
    "silhouette_score_average"
   ]
  },
  {
   "cell_type": "markdown",
   "id": "b1f94ca4",
   "metadata": {},
   "source": [
    "## using DB-SCAN CLUSTERING"
   ]
  },
  {
   "cell_type": "markdown",
   "id": "e4fd5261",
   "metadata": {},
   "source": [
    "### Building A Model"
   ]
  },
  {
   "cell_type": "code",
   "execution_count": 90,
   "id": "eaf38a75",
   "metadata": {},
   "outputs": [],
   "source": [
    "array = df_crime.values"
   ]
  },
  {
   "cell_type": "code",
   "execution_count": 91,
   "id": "83aaad8d",
   "metadata": {},
   "outputs": [
    {
     "data": {
      "text/plain": [
       "array([[0.74698795, 0.65410959, 0.44067797, 0.35917313],\n",
       "       [0.55421687, 0.74657534, 0.27118644, 0.96124031],\n",
       "       [0.43975904, 0.85273973, 0.81355932, 0.6124031 ],\n",
       "       [0.48192771, 0.49657534, 0.30508475, 0.31524548],\n",
       "       [0.4939759 , 0.79109589, 1.        , 0.86046512],\n",
       "       [0.42771084, 0.54452055, 0.77966102, 0.81136951],\n",
       "       [0.15060241, 0.22260274, 0.76271186, 0.09819121],\n",
       "       [0.30722892, 0.6609589 , 0.6779661 , 0.21963824],\n",
       "       [0.87951807, 0.99315068, 0.81355932, 0.63565891],\n",
       "       [1.        , 0.56849315, 0.47457627, 0.47803618],\n",
       "       [0.27108434, 0.00342466, 0.86440678, 0.33333333],\n",
       "       [0.10843373, 0.25684932, 0.37288136, 0.17829457],\n",
       "       [0.57831325, 0.69863014, 0.86440678, 0.43152455],\n",
       "       [0.38554217, 0.23287671, 0.55932203, 0.35400517],\n",
       "       [0.08433735, 0.03767123, 0.42372881, 0.10335917],\n",
       "       [0.31325301, 0.23972603, 0.57627119, 0.27648579],\n",
       "       [0.53614458, 0.21917808, 0.33898305, 0.23255814],\n",
       "       [0.87951807, 0.69863014, 0.57627119, 0.38501292],\n",
       "       [0.07831325, 0.13013699, 0.3220339 , 0.0129199 ],\n",
       "       [0.63253012, 0.87328767, 0.59322034, 0.52971576],\n",
       "       [0.21686747, 0.35616438, 0.89830508, 0.23255814],\n",
       "       [0.68072289, 0.71917808, 0.71186441, 0.71834625],\n",
       "       [0.11445783, 0.09246575, 0.57627119, 0.19638243],\n",
       "       [0.92168675, 0.73287671, 0.20338983, 0.25322997],\n",
       "       [0.4939759 , 0.45547945, 0.6440678 , 0.54005168],\n",
       "       [0.31325301, 0.21917808, 0.3559322 , 0.23514212],\n",
       "       [0.21084337, 0.19520548, 0.50847458, 0.2377261 ],\n",
       "       [0.68674699, 0.70890411, 0.83050847, 1.        ],\n",
       "       [0.07831325, 0.04109589, 0.40677966, 0.05684755],\n",
       "       [0.39759036, 0.39041096, 0.96610169, 0.29715762],\n",
       "       [0.63855422, 0.82191781, 0.6440678 , 0.64082687],\n",
       "       [0.62048193, 0.71575342, 0.91525424, 0.48578811],\n",
       "       [0.73493976, 1.        , 0.22033898, 0.22739018],\n",
       "       [0.        , 0.        , 0.20338983, 0.        ],\n",
       "       [0.39156627, 0.25684932, 0.72881356, 0.36434109],\n",
       "       [0.34939759, 0.3630137 , 0.61016949, 0.32816537],\n",
       "       [0.24698795, 0.39041096, 0.59322034, 0.56847545],\n",
       "       [0.3313253 , 0.20890411, 0.6779661 , 0.19638243],\n",
       "       [0.15662651, 0.44178082, 0.93220339, 0.02583979],\n",
       "       [0.81927711, 0.80136986, 0.27118644, 0.39276486],\n",
       "       [0.18072289, 0.14041096, 0.22033898, 0.14211886],\n",
       "       [0.74698795, 0.48972603, 0.45762712, 0.50645995],\n",
       "       [0.71686747, 0.53424658, 0.81355932, 0.47028424],\n",
       "       [0.14457831, 0.25684932, 0.81355932, 0.40310078],\n",
       "       [0.08433735, 0.01027397, 0.        , 0.10077519],\n",
       "       [0.46385542, 0.38013699, 0.52542373, 0.34625323],\n",
       "       [0.19277108, 0.34246575, 0.69491525, 0.48837209],\n",
       "       [0.29518072, 0.12328767, 0.11864407, 0.05167959],\n",
       "       [0.10843373, 0.02739726, 0.57627119, 0.09043928],\n",
       "       [0.36144578, 0.39726027, 0.47457627, 0.21447028]])"
      ]
     },
     "execution_count": 91,
     "metadata": {},
     "output_type": "execute_result"
    }
   ],
   "source": [
    "array"
   ]
  },
  {
   "cell_type": "code",
   "execution_count": 93,
   "id": "e03ac7eb",
   "metadata": {},
   "outputs": [],
   "source": [
    "stscaler = StandardScaler().fit(array)"
   ]
  },
  {
   "cell_type": "code",
   "execution_count": 95,
   "id": "ee5335c7",
   "metadata": {
    "scrolled": true
   },
   "outputs": [
    {
     "data": {
      "text/plain": [
       "DBSCAN(eps=0.9, min_samples=2)"
      ]
     },
     "execution_count": 95,
     "metadata": {},
     "output_type": "execute_result"
    }
   ],
   "source": [
    "dbscan = DBSCAN(eps=0.9, min_samples=2)\n",
    "dbscan.fit(X)"
   ]
  },
  {
   "cell_type": "code",
   "execution_count": 96,
   "id": "db66c9e2",
   "metadata": {},
   "outputs": [
    {
     "data": {
      "text/plain": [
       "array([0, 0, 0, ..., 3, 0, 0], dtype=int64)"
      ]
     },
     "execution_count": 96,
     "metadata": {},
     "output_type": "execute_result"
    }
   ],
   "source": [
    "dbscan.labels_\n"
   ]
  },
  {
   "cell_type": "code",
   "execution_count": 97,
   "id": "fd457b14",
   "metadata": {},
   "outputs": [
    {
     "data": {
      "text/plain": [
       "3389"
      ]
     },
     "execution_count": 97,
     "metadata": {},
     "output_type": "execute_result"
    }
   ],
   "source": [
    "len(dbscan.core_sample_indices_)\n"
   ]
  },
  {
   "cell_type": "code",
   "execution_count": 98,
   "id": "efbb535b",
   "metadata": {},
   "outputs": [
    {
     "data": {
      "text/plain": [
       "array([   0,    1,    2, ..., 3996, 3997, 3998], dtype=int64)"
      ]
     },
     "execution_count": 98,
     "metadata": {},
     "output_type": "execute_result"
    }
   ],
   "source": [
    "#Indexes of core data points\n",
    "dbscan.core_sample_indices_"
   ]
  },
  {
   "cell_type": "raw",
   "id": "2d27b4b5",
   "metadata": {},
   "source": [
    "#core data points"
   ]
  },
  {
   "cell_type": "code",
   "execution_count": 99,
   "id": "de7f8709",
   "metadata": {},
   "outputs": [
    {
     "data": {
      "text/plain": [
       "array([[-1.73512503e+00, -4.51140783e-01, -1.86298687e-01, ...,\n",
       "         1.39545434e+00, -7.66919299e-01, -7.03721163e-01],\n",
       "       [-1.73426342e+00, -5.39456874e-01, -1.86298687e-01, ...,\n",
       "         1.37995704e+00, -7.66919299e-01, -7.03721163e-01],\n",
       "       [-1.73340181e+00, -3.20031232e-01, -1.86298687e-01, ...,\n",
       "         1.41192021e+00, -7.66919299e-01, -7.03721163e-01],\n",
       "       ...,\n",
       "       [ 1.72682006e+00, -4.29480975e-05, -1.86298687e-01, ...,\n",
       "        -1.31560393e+00,  1.30391816e+00, -7.03721163e-01],\n",
       "       [ 1.72768167e+00, -1.85606976e-01, -1.86298687e-01, ...,\n",
       "        -1.31608822e+00, -7.66919299e-01, -7.03721163e-01],\n",
       "       [ 1.72854328e+00, -7.00507951e-01, -1.86298687e-01, ...,\n",
       "        -1.31754109e+00, -7.66919299e-01, -7.03721163e-01]])"
      ]
     },
     "execution_count": 99,
     "metadata": {},
     "output_type": "execute_result"
    }
   ],
   "source": [
    "dbscan.components_"
   ]
  },
  {
   "cell_type": "code",
   "execution_count": null,
   "id": "37d608fa",
   "metadata": {},
   "outputs": [],
   "source": []
  },
  {
   "cell_type": "markdown",
   "id": "1d9076c2",
   "metadata": {},
   "source": [
    "## PROBLEM STATEMENT 2-\n",
    "### Perform clustering for the airlines data to obtain optimum number of clusters. \n",
    "Draw the inferences from the clusters obtained."
   ]
  },
  {
   "cell_type": "code",
   "execution_count": 20,
   "id": "c18c57e1",
   "metadata": {},
   "outputs": [],
   "source": [
    "## Reading the data"
   ]
  },
  {
   "cell_type": "code",
   "execution_count": 43,
   "id": "20019690",
   "metadata": {},
   "outputs": [],
   "source": [
    "xls = pd.ExcelFile('E:\\\\deeksha\\\\python\\\\data\\\\EastWestAirlines.xlsx')\n",
    "df_air = pd.read_excel(xls, 'data')"
   ]
  },
  {
   "cell_type": "code",
   "execution_count": 21,
   "id": "16cc4b92",
   "metadata": {},
   "outputs": [],
   "source": [
    "## Performing EDA on data"
   ]
  },
  {
   "cell_type": "code",
   "execution_count": 44,
   "id": "64e01306",
   "metadata": {},
   "outputs": [
    {
     "data": {
      "text/html": [
       "<div>\n",
       "<style scoped>\n",
       "    .dataframe tbody tr th:only-of-type {\n",
       "        vertical-align: middle;\n",
       "    }\n",
       "\n",
       "    .dataframe tbody tr th {\n",
       "        vertical-align: top;\n",
       "    }\n",
       "\n",
       "    .dataframe thead th {\n",
       "        text-align: right;\n",
       "    }\n",
       "</style>\n",
       "<table border=\"1\" class=\"dataframe\">\n",
       "  <thead>\n",
       "    <tr style=\"text-align: right;\">\n",
       "      <th></th>\n",
       "      <th>ID#</th>\n",
       "      <th>Balance</th>\n",
       "      <th>Qual_miles</th>\n",
       "      <th>cc1_miles</th>\n",
       "      <th>cc2_miles</th>\n",
       "      <th>cc3_miles</th>\n",
       "      <th>Bonus_miles</th>\n",
       "      <th>Bonus_trans</th>\n",
       "      <th>Flight_miles_12mo</th>\n",
       "      <th>Flight_trans_12</th>\n",
       "      <th>Days_since_enroll</th>\n",
       "      <th>Award?</th>\n",
       "    </tr>\n",
       "  </thead>\n",
       "  <tbody>\n",
       "    <tr>\n",
       "      <th>0</th>\n",
       "      <td>1</td>\n",
       "      <td>28143</td>\n",
       "      <td>0</td>\n",
       "      <td>1</td>\n",
       "      <td>1</td>\n",
       "      <td>1</td>\n",
       "      <td>174</td>\n",
       "      <td>1</td>\n",
       "      <td>0</td>\n",
       "      <td>0</td>\n",
       "      <td>7000</td>\n",
       "      <td>0</td>\n",
       "    </tr>\n",
       "    <tr>\n",
       "      <th>1</th>\n",
       "      <td>2</td>\n",
       "      <td>19244</td>\n",
       "      <td>0</td>\n",
       "      <td>1</td>\n",
       "      <td>1</td>\n",
       "      <td>1</td>\n",
       "      <td>215</td>\n",
       "      <td>2</td>\n",
       "      <td>0</td>\n",
       "      <td>0</td>\n",
       "      <td>6968</td>\n",
       "      <td>0</td>\n",
       "    </tr>\n",
       "    <tr>\n",
       "      <th>2</th>\n",
       "      <td>3</td>\n",
       "      <td>41354</td>\n",
       "      <td>0</td>\n",
       "      <td>1</td>\n",
       "      <td>1</td>\n",
       "      <td>1</td>\n",
       "      <td>4123</td>\n",
       "      <td>4</td>\n",
       "      <td>0</td>\n",
       "      <td>0</td>\n",
       "      <td>7034</td>\n",
       "      <td>0</td>\n",
       "    </tr>\n",
       "    <tr>\n",
       "      <th>3</th>\n",
       "      <td>4</td>\n",
       "      <td>14776</td>\n",
       "      <td>0</td>\n",
       "      <td>1</td>\n",
       "      <td>1</td>\n",
       "      <td>1</td>\n",
       "      <td>500</td>\n",
       "      <td>1</td>\n",
       "      <td>0</td>\n",
       "      <td>0</td>\n",
       "      <td>6952</td>\n",
       "      <td>0</td>\n",
       "    </tr>\n",
       "    <tr>\n",
       "      <th>4</th>\n",
       "      <td>5</td>\n",
       "      <td>97752</td>\n",
       "      <td>0</td>\n",
       "      <td>4</td>\n",
       "      <td>1</td>\n",
       "      <td>1</td>\n",
       "      <td>43300</td>\n",
       "      <td>26</td>\n",
       "      <td>2077</td>\n",
       "      <td>4</td>\n",
       "      <td>6935</td>\n",
       "      <td>1</td>\n",
       "    </tr>\n",
       "  </tbody>\n",
       "</table>\n",
       "</div>"
      ],
      "text/plain": [
       "   ID#  Balance  Qual_miles  cc1_miles  cc2_miles  cc3_miles  Bonus_miles  \\\n",
       "0    1    28143           0          1          1          1          174   \n",
       "1    2    19244           0          1          1          1          215   \n",
       "2    3    41354           0          1          1          1         4123   \n",
       "3    4    14776           0          1          1          1          500   \n",
       "4    5    97752           0          4          1          1        43300   \n",
       "\n",
       "   Bonus_trans  Flight_miles_12mo  Flight_trans_12  Days_since_enroll  Award?  \n",
       "0            1                  0                0               7000       0  \n",
       "1            2                  0                0               6968       0  \n",
       "2            4                  0                0               7034       0  \n",
       "3            1                  0                0               6952       0  \n",
       "4           26               2077                4               6935       1  "
      ]
     },
     "execution_count": 44,
     "metadata": {},
     "output_type": "execute_result"
    }
   ],
   "source": [
    "df_air.head()"
   ]
  },
  {
   "cell_type": "code",
   "execution_count": 17,
   "id": "f3d641f0",
   "metadata": {},
   "outputs": [
    {
     "data": {
      "text/plain": [
       "(3999, 12)"
      ]
     },
     "execution_count": 17,
     "metadata": {},
     "output_type": "execute_result"
    }
   ],
   "source": [
    "df_air.shape\n"
   ]
  },
  {
   "cell_type": "code",
   "execution_count": 22,
   "id": "7f0725b2",
   "metadata": {},
   "outputs": [
    {
     "data": {
      "text/plain": [
       "47988"
      ]
     },
     "execution_count": 22,
     "metadata": {},
     "output_type": "execute_result"
    }
   ],
   "source": [
    "df_air.size"
   ]
  },
  {
   "cell_type": "code",
   "execution_count": 23,
   "id": "56f15459",
   "metadata": {},
   "outputs": [
    {
     "data": {
      "text/html": [
       "<div>\n",
       "<style scoped>\n",
       "    .dataframe tbody tr th:only-of-type {\n",
       "        vertical-align: middle;\n",
       "    }\n",
       "\n",
       "    .dataframe tbody tr th {\n",
       "        vertical-align: top;\n",
       "    }\n",
       "\n",
       "    .dataframe thead th {\n",
       "        text-align: right;\n",
       "    }\n",
       "</style>\n",
       "<table border=\"1\" class=\"dataframe\">\n",
       "  <thead>\n",
       "    <tr style=\"text-align: right;\">\n",
       "      <th></th>\n",
       "      <th>ID#</th>\n",
       "      <th>Balance</th>\n",
       "      <th>Qual_miles</th>\n",
       "      <th>cc1_miles</th>\n",
       "      <th>cc2_miles</th>\n",
       "      <th>cc3_miles</th>\n",
       "      <th>Bonus_miles</th>\n",
       "      <th>Bonus_trans</th>\n",
       "      <th>Flight_miles_12mo</th>\n",
       "      <th>Flight_trans_12</th>\n",
       "      <th>Days_since_enroll</th>\n",
       "      <th>Award?</th>\n",
       "    </tr>\n",
       "  </thead>\n",
       "  <tbody>\n",
       "    <tr>\n",
       "      <th>ID#</th>\n",
       "      <td>1.000000</td>\n",
       "      <td>-0.243737</td>\n",
       "      <td>-0.019374</td>\n",
       "      <td>-0.224465</td>\n",
       "      <td>0.020291</td>\n",
       "      <td>-0.014707</td>\n",
       "      <td>-0.203012</td>\n",
       "      <td>-0.146915</td>\n",
       "      <td>-0.031013</td>\n",
       "      <td>-0.052096</td>\n",
       "      <td>-0.964988</td>\n",
       "      <td>-0.177901</td>\n",
       "    </tr>\n",
       "    <tr>\n",
       "      <th>Balance</th>\n",
       "      <td>-0.243737</td>\n",
       "      <td>1.000000</td>\n",
       "      <td>0.108722</td>\n",
       "      <td>0.338344</td>\n",
       "      <td>-0.008804</td>\n",
       "      <td>0.035243</td>\n",
       "      <td>0.403487</td>\n",
       "      <td>0.324935</td>\n",
       "      <td>0.217551</td>\n",
       "      <td>0.255700</td>\n",
       "      <td>0.263129</td>\n",
       "      <td>0.178494</td>\n",
       "    </tr>\n",
       "    <tr>\n",
       "      <th>Qual_miles</th>\n",
       "      <td>-0.019374</td>\n",
       "      <td>0.108722</td>\n",
       "      <td>1.000000</td>\n",
       "      <td>0.007931</td>\n",
       "      <td>-0.013923</td>\n",
       "      <td>-0.007779</td>\n",
       "      <td>0.031021</td>\n",
       "      <td>0.050725</td>\n",
       "      <td>0.126774</td>\n",
       "      <td>0.144004</td>\n",
       "      <td>0.017312</td>\n",
       "      <td>0.095256</td>\n",
       "    </tr>\n",
       "    <tr>\n",
       "      <th>cc1_miles</th>\n",
       "      <td>-0.224465</td>\n",
       "      <td>0.338344</td>\n",
       "      <td>0.007931</td>\n",
       "      <td>1.000000</td>\n",
       "      <td>-0.068223</td>\n",
       "      <td>0.060555</td>\n",
       "      <td>0.825200</td>\n",
       "      <td>0.608943</td>\n",
       "      <td>0.037370</td>\n",
       "      <td>0.041333</td>\n",
       "      <td>0.230849</td>\n",
       "      <td>0.335457</td>\n",
       "    </tr>\n",
       "    <tr>\n",
       "      <th>cc2_miles</th>\n",
       "      <td>0.020291</td>\n",
       "      <td>-0.008804</td>\n",
       "      <td>-0.013923</td>\n",
       "      <td>-0.068223</td>\n",
       "      <td>1.000000</td>\n",
       "      <td>-0.006166</td>\n",
       "      <td>-0.003969</td>\n",
       "      <td>0.064399</td>\n",
       "      <td>0.010598</td>\n",
       "      <td>0.028284</td>\n",
       "      <td>-0.005807</td>\n",
       "      <td>0.005332</td>\n",
       "    </tr>\n",
       "    <tr>\n",
       "      <th>cc3_miles</th>\n",
       "      <td>-0.014707</td>\n",
       "      <td>0.035243</td>\n",
       "      <td>-0.007779</td>\n",
       "      <td>0.060555</td>\n",
       "      <td>-0.006166</td>\n",
       "      <td>1.000000</td>\n",
       "      <td>0.204134</td>\n",
       "      <td>0.097313</td>\n",
       "      <td>-0.001777</td>\n",
       "      <td>-0.001117</td>\n",
       "      <td>0.010832</td>\n",
       "      <td>0.023484</td>\n",
       "    </tr>\n",
       "    <tr>\n",
       "      <th>Bonus_miles</th>\n",
       "      <td>-0.203012</td>\n",
       "      <td>0.403487</td>\n",
       "      <td>0.031021</td>\n",
       "      <td>0.825200</td>\n",
       "      <td>-0.003969</td>\n",
       "      <td>0.204134</td>\n",
       "      <td>1.000000</td>\n",
       "      <td>0.603180</td>\n",
       "      <td>0.183536</td>\n",
       "      <td>0.185261</td>\n",
       "      <td>0.210397</td>\n",
       "      <td>0.373506</td>\n",
       "    </tr>\n",
       "    <tr>\n",
       "      <th>Bonus_trans</th>\n",
       "      <td>-0.146915</td>\n",
       "      <td>0.324935</td>\n",
       "      <td>0.050725</td>\n",
       "      <td>0.608943</td>\n",
       "      <td>0.064399</td>\n",
       "      <td>0.097313</td>\n",
       "      <td>0.603180</td>\n",
       "      <td>1.000000</td>\n",
       "      <td>0.377216</td>\n",
       "      <td>0.432364</td>\n",
       "      <td>0.161262</td>\n",
       "      <td>0.333893</td>\n",
       "    </tr>\n",
       "    <tr>\n",
       "      <th>Flight_miles_12mo</th>\n",
       "      <td>-0.031013</td>\n",
       "      <td>0.217551</td>\n",
       "      <td>0.126774</td>\n",
       "      <td>0.037370</td>\n",
       "      <td>0.010598</td>\n",
       "      <td>-0.001777</td>\n",
       "      <td>0.183536</td>\n",
       "      <td>0.377216</td>\n",
       "      <td>1.000000</td>\n",
       "      <td>0.869193</td>\n",
       "      <td>0.037271</td>\n",
       "      <td>0.217715</td>\n",
       "    </tr>\n",
       "    <tr>\n",
       "      <th>Flight_trans_12</th>\n",
       "      <td>-0.052096</td>\n",
       "      <td>0.255700</td>\n",
       "      <td>0.144004</td>\n",
       "      <td>0.041333</td>\n",
       "      <td>0.028284</td>\n",
       "      <td>-0.001117</td>\n",
       "      <td>0.185261</td>\n",
       "      <td>0.432364</td>\n",
       "      <td>0.869193</td>\n",
       "      <td>1.000000</td>\n",
       "      <td>0.059260</td>\n",
       "      <td>0.247909</td>\n",
       "    </tr>\n",
       "    <tr>\n",
       "      <th>Days_since_enroll</th>\n",
       "      <td>-0.964988</td>\n",
       "      <td>0.263129</td>\n",
       "      <td>0.017312</td>\n",
       "      <td>0.230849</td>\n",
       "      <td>-0.005807</td>\n",
       "      <td>0.010832</td>\n",
       "      <td>0.210397</td>\n",
       "      <td>0.161262</td>\n",
       "      <td>0.037271</td>\n",
       "      <td>0.059260</td>\n",
       "      <td>1.000000</td>\n",
       "      <td>0.188121</td>\n",
       "    </tr>\n",
       "    <tr>\n",
       "      <th>Award?</th>\n",
       "      <td>-0.177901</td>\n",
       "      <td>0.178494</td>\n",
       "      <td>0.095256</td>\n",
       "      <td>0.335457</td>\n",
       "      <td>0.005332</td>\n",
       "      <td>0.023484</td>\n",
       "      <td>0.373506</td>\n",
       "      <td>0.333893</td>\n",
       "      <td>0.217715</td>\n",
       "      <td>0.247909</td>\n",
       "      <td>0.188121</td>\n",
       "      <td>1.000000</td>\n",
       "    </tr>\n",
       "  </tbody>\n",
       "</table>\n",
       "</div>"
      ],
      "text/plain": [
       "                        ID#   Balance  Qual_miles  cc1_miles  cc2_miles  \\\n",
       "ID#                1.000000 -0.243737   -0.019374  -0.224465   0.020291   \n",
       "Balance           -0.243737  1.000000    0.108722   0.338344  -0.008804   \n",
       "Qual_miles        -0.019374  0.108722    1.000000   0.007931  -0.013923   \n",
       "cc1_miles         -0.224465  0.338344    0.007931   1.000000  -0.068223   \n",
       "cc2_miles          0.020291 -0.008804   -0.013923  -0.068223   1.000000   \n",
       "cc3_miles         -0.014707  0.035243   -0.007779   0.060555  -0.006166   \n",
       "Bonus_miles       -0.203012  0.403487    0.031021   0.825200  -0.003969   \n",
       "Bonus_trans       -0.146915  0.324935    0.050725   0.608943   0.064399   \n",
       "Flight_miles_12mo -0.031013  0.217551    0.126774   0.037370   0.010598   \n",
       "Flight_trans_12   -0.052096  0.255700    0.144004   0.041333   0.028284   \n",
       "Days_since_enroll -0.964988  0.263129    0.017312   0.230849  -0.005807   \n",
       "Award?            -0.177901  0.178494    0.095256   0.335457   0.005332   \n",
       "\n",
       "                   cc3_miles  Bonus_miles  Bonus_trans  Flight_miles_12mo  \\\n",
       "ID#                -0.014707    -0.203012    -0.146915          -0.031013   \n",
       "Balance             0.035243     0.403487     0.324935           0.217551   \n",
       "Qual_miles         -0.007779     0.031021     0.050725           0.126774   \n",
       "cc1_miles           0.060555     0.825200     0.608943           0.037370   \n",
       "cc2_miles          -0.006166    -0.003969     0.064399           0.010598   \n",
       "cc3_miles           1.000000     0.204134     0.097313          -0.001777   \n",
       "Bonus_miles         0.204134     1.000000     0.603180           0.183536   \n",
       "Bonus_trans         0.097313     0.603180     1.000000           0.377216   \n",
       "Flight_miles_12mo  -0.001777     0.183536     0.377216           1.000000   \n",
       "Flight_trans_12    -0.001117     0.185261     0.432364           0.869193   \n",
       "Days_since_enroll   0.010832     0.210397     0.161262           0.037271   \n",
       "Award?              0.023484     0.373506     0.333893           0.217715   \n",
       "\n",
       "                   Flight_trans_12  Days_since_enroll    Award?  \n",
       "ID#                      -0.052096          -0.964988 -0.177901  \n",
       "Balance                   0.255700           0.263129  0.178494  \n",
       "Qual_miles                0.144004           0.017312  0.095256  \n",
       "cc1_miles                 0.041333           0.230849  0.335457  \n",
       "cc2_miles                 0.028284          -0.005807  0.005332  \n",
       "cc3_miles                -0.001117           0.010832  0.023484  \n",
       "Bonus_miles               0.185261           0.210397  0.373506  \n",
       "Bonus_trans               0.432364           0.161262  0.333893  \n",
       "Flight_miles_12mo         0.869193           0.037271  0.217715  \n",
       "Flight_trans_12           1.000000           0.059260  0.247909  \n",
       "Days_since_enroll         0.059260           1.000000  0.188121  \n",
       "Award?                    0.247909           0.188121  1.000000  "
      ]
     },
     "execution_count": 23,
     "metadata": {},
     "output_type": "execute_result"
    }
   ],
   "source": [
    "df_air.corr()"
   ]
  },
  {
   "cell_type": "code",
   "execution_count": 45,
   "id": "b407cf58",
   "metadata": {},
   "outputs": [],
   "source": [
    "X = df_air.iloc[:,:-1]"
   ]
  },
  {
   "cell_type": "code",
   "execution_count": 46,
   "id": "c41917a0",
   "metadata": {},
   "outputs": [],
   "source": [
    "y= df_air[\"Award?\"]"
   ]
  },
  {
   "cell_type": "code",
   "execution_count": 26,
   "id": "ae63fc8a",
   "metadata": {},
   "outputs": [
    {
     "data": {
      "text/html": [
       "<div>\n",
       "<style scoped>\n",
       "    .dataframe tbody tr th:only-of-type {\n",
       "        vertical-align: middle;\n",
       "    }\n",
       "\n",
       "    .dataframe tbody tr th {\n",
       "        vertical-align: top;\n",
       "    }\n",
       "\n",
       "    .dataframe thead th {\n",
       "        text-align: right;\n",
       "    }\n",
       "</style>\n",
       "<table border=\"1\" class=\"dataframe\">\n",
       "  <thead>\n",
       "    <tr style=\"text-align: right;\">\n",
       "      <th></th>\n",
       "      <th>ID#</th>\n",
       "      <th>Balance</th>\n",
       "      <th>Qual_miles</th>\n",
       "      <th>cc1_miles</th>\n",
       "      <th>cc2_miles</th>\n",
       "      <th>cc3_miles</th>\n",
       "      <th>Bonus_miles</th>\n",
       "      <th>Bonus_trans</th>\n",
       "      <th>Flight_miles_12mo</th>\n",
       "      <th>Flight_trans_12</th>\n",
       "      <th>Days_since_enroll</th>\n",
       "    </tr>\n",
       "  </thead>\n",
       "  <tbody>\n",
       "    <tr>\n",
       "      <th>0</th>\n",
       "      <td>1</td>\n",
       "      <td>28143</td>\n",
       "      <td>0</td>\n",
       "      <td>1</td>\n",
       "      <td>1</td>\n",
       "      <td>1</td>\n",
       "      <td>174</td>\n",
       "      <td>1</td>\n",
       "      <td>0</td>\n",
       "      <td>0</td>\n",
       "      <td>7000</td>\n",
       "    </tr>\n",
       "    <tr>\n",
       "      <th>1</th>\n",
       "      <td>2</td>\n",
       "      <td>19244</td>\n",
       "      <td>0</td>\n",
       "      <td>1</td>\n",
       "      <td>1</td>\n",
       "      <td>1</td>\n",
       "      <td>215</td>\n",
       "      <td>2</td>\n",
       "      <td>0</td>\n",
       "      <td>0</td>\n",
       "      <td>6968</td>\n",
       "    </tr>\n",
       "    <tr>\n",
       "      <th>2</th>\n",
       "      <td>3</td>\n",
       "      <td>41354</td>\n",
       "      <td>0</td>\n",
       "      <td>1</td>\n",
       "      <td>1</td>\n",
       "      <td>1</td>\n",
       "      <td>4123</td>\n",
       "      <td>4</td>\n",
       "      <td>0</td>\n",
       "      <td>0</td>\n",
       "      <td>7034</td>\n",
       "    </tr>\n",
       "    <tr>\n",
       "      <th>3</th>\n",
       "      <td>4</td>\n",
       "      <td>14776</td>\n",
       "      <td>0</td>\n",
       "      <td>1</td>\n",
       "      <td>1</td>\n",
       "      <td>1</td>\n",
       "      <td>500</td>\n",
       "      <td>1</td>\n",
       "      <td>0</td>\n",
       "      <td>0</td>\n",
       "      <td>6952</td>\n",
       "    </tr>\n",
       "    <tr>\n",
       "      <th>4</th>\n",
       "      <td>5</td>\n",
       "      <td>97752</td>\n",
       "      <td>0</td>\n",
       "      <td>4</td>\n",
       "      <td>1</td>\n",
       "      <td>1</td>\n",
       "      <td>43300</td>\n",
       "      <td>26</td>\n",
       "      <td>2077</td>\n",
       "      <td>4</td>\n",
       "      <td>6935</td>\n",
       "    </tr>\n",
       "  </tbody>\n",
       "</table>\n",
       "</div>"
      ],
      "text/plain": [
       "   ID#  Balance  Qual_miles  cc1_miles  cc2_miles  cc3_miles  Bonus_miles  \\\n",
       "0    1    28143           0          1          1          1          174   \n",
       "1    2    19244           0          1          1          1          215   \n",
       "2    3    41354           0          1          1          1         4123   \n",
       "3    4    14776           0          1          1          1          500   \n",
       "4    5    97752           0          4          1          1        43300   \n",
       "\n",
       "   Bonus_trans  Flight_miles_12mo  Flight_trans_12  Days_since_enroll  \n",
       "0            1                  0                0               7000  \n",
       "1            2                  0                0               6968  \n",
       "2            4                  0                0               7034  \n",
       "3            1                  0                0               6952  \n",
       "4           26               2077                4               6935  "
      ]
     },
     "execution_count": 26,
     "metadata": {},
     "output_type": "execute_result"
    }
   ],
   "source": [
    "X.head()"
   ]
  },
  {
   "cell_type": "code",
   "execution_count": 27,
   "id": "1cf6bde0",
   "metadata": {},
   "outputs": [
    {
     "data": {
      "text/plain": [
       "0    0\n",
       "1    0\n",
       "2    0\n",
       "3    0\n",
       "4    1\n",
       "Name: Award?, dtype: int64"
      ]
     },
     "execution_count": 27,
     "metadata": {},
     "output_type": "execute_result"
    }
   ],
   "source": [
    "y.head()"
   ]
  },
  {
   "cell_type": "code",
   "execution_count": 28,
   "id": "4205cf1b",
   "metadata": {},
   "outputs": [
    {
     "data": {
      "image/png": "[encoded data removed]",
      "text/plain": [
       "<Figure size 432x288 with 1 Axes>"
      ]
     },
     "metadata": {
      "needs_background": "light"
     },
     "output_type": "display_data"
    }
   ],
   "source": [
    "# create dendrogram\n",
    "dendrogram = sch.dendrogram(sch.linkage(df_crime, method='complete'))"
   ]
  },
  {
   "cell_type": "code",
   "execution_count": 29,
   "id": "9c7d467d",
   "metadata": {},
   "outputs": [],
   "source": [
    "# create clusters\n",
    "hc = AgglomerativeClustering(n_clusters=4, affinity = 'euclidean', linkage = 'complete')\n"
   ]
  },
  {
   "cell_type": "code",
   "execution_count": 30,
   "id": "00f657be",
   "metadata": {},
   "outputs": [
    {
     "data": {
      "text/plain": [
       "AgglomerativeClustering(linkage='complete', n_clusters=4)"
      ]
     },
     "execution_count": 30,
     "metadata": {},
     "output_type": "execute_result"
    }
   ],
   "source": [
    "hc.fit(df_air)\n",
    "# hc.predict(df_norm)"
   ]
  },
  {
   "cell_type": "code",
   "execution_count": 31,
   "id": "717e591e",
   "metadata": {},
   "outputs": [],
   "source": [
    "# save clusters for chart\n",
    "y_hc = hc.fit_predict(df_air)\n",
    "# Clusters=pd.DataFrame(y_hc,columns=['Clusters'])"
   ]
  },
  {
   "cell_type": "code",
   "execution_count": 32,
   "id": "6b4a52bf",
   "metadata": {},
   "outputs": [
    {
     "data": {
      "text/plain": [
       "array([0, 0, 0, ..., 0, 0, 0], dtype=int64)"
      ]
     },
     "execution_count": 32,
     "metadata": {},
     "output_type": "execute_result"
    }
   ],
   "source": [
    "y_hc"
   ]
  },
  {
   "cell_type": "code",
   "execution_count": 33,
   "id": "58aac3ac",
   "metadata": {},
   "outputs": [],
   "source": [
    "df_air['h_clusterid'] = y_hc"
   ]
  },
  {
   "cell_type": "code",
   "execution_count": 34,
   "id": "bb6cbd26",
   "metadata": {},
   "outputs": [
    {
     "data": {
      "text/html": [
       "<div>\n",
       "<style scoped>\n",
       "    .dataframe tbody tr th:only-of-type {\n",
       "        vertical-align: middle;\n",
       "    }\n",
       "\n",
       "    .dataframe tbody tr th {\n",
       "        vertical-align: top;\n",
       "    }\n",
       "\n",
       "    .dataframe thead th {\n",
       "        text-align: right;\n",
       "    }\n",
       "</style>\n",
       "<table border=\"1\" class=\"dataframe\">\n",
       "  <thead>\n",
       "    <tr style=\"text-align: right;\">\n",
       "      <th></th>\n",
       "      <th>ID#</th>\n",
       "      <th>h_clusterid</th>\n",
       "    </tr>\n",
       "  </thead>\n",
       "  <tbody>\n",
       "    <tr>\n",
       "      <th>0</th>\n",
       "      <td>1</td>\n",
       "      <td>0</td>\n",
       "    </tr>\n",
       "    <tr>\n",
       "      <th>2658</th>\n",
       "      <td>2678</td>\n",
       "      <td>0</td>\n",
       "    </tr>\n",
       "    <tr>\n",
       "      <th>2659</th>\n",
       "      <td>2679</td>\n",
       "      <td>0</td>\n",
       "    </tr>\n",
       "    <tr>\n",
       "      <th>2660</th>\n",
       "      <td>2680</td>\n",
       "      <td>0</td>\n",
       "    </tr>\n",
       "    <tr>\n",
       "      <th>2661</th>\n",
       "      <td>2681</td>\n",
       "      <td>0</td>\n",
       "    </tr>\n",
       "    <tr>\n",
       "      <th>...</th>\n",
       "      <td>...</td>\n",
       "      <td>...</td>\n",
       "    </tr>\n",
       "    <tr>\n",
       "      <th>117</th>\n",
       "      <td>120</td>\n",
       "      <td>2</td>\n",
       "    </tr>\n",
       "    <tr>\n",
       "      <th>1939</th>\n",
       "      <td>1956</td>\n",
       "      <td>2</td>\n",
       "    </tr>\n",
       "    <tr>\n",
       "      <th>1115</th>\n",
       "      <td>1127</td>\n",
       "      <td>2</td>\n",
       "    </tr>\n",
       "    <tr>\n",
       "      <th>1188</th>\n",
       "      <td>1200</td>\n",
       "      <td>2</td>\n",
       "    </tr>\n",
       "    <tr>\n",
       "      <th>275</th>\n",
       "      <td>279</td>\n",
       "      <td>3</td>\n",
       "    </tr>\n",
       "  </tbody>\n",
       "</table>\n",
       "<p>3999 rows × 2 columns</p>\n",
       "</div>"
      ],
      "text/plain": [
       "       ID#  h_clusterid\n",
       "0        1            0\n",
       "2658  2678            0\n",
       "2659  2679            0\n",
       "2660  2680            0\n",
       "2661  2681            0\n",
       "...    ...          ...\n",
       "117    120            2\n",
       "1939  1956            2\n",
       "1115  1127            2\n",
       "1188  1200            2\n",
       "275    279            3\n",
       "\n",
       "[3999 rows x 2 columns]"
      ]
     },
     "execution_count": 34,
     "metadata": {},
     "output_type": "execute_result"
    }
   ],
   "source": [
    "df_air1=df_air.sort_values(\"h_clusterid\")\n",
    "df_air1.iloc[:,[0,-1]]"
   ]
  },
  {
   "cell_type": "code",
   "execution_count": 51,
   "id": "423b5bb2",
   "metadata": {},
   "outputs": [],
   "source": [
    "# Standardisation function\n",
    "from sklearn.preprocessing import StandardScaler\n",
    "scaler = StandardScaler()\n",
    "scaled_df_air = scaler.fit_transform(df_air.iloc[:,:-1])"
   ]
  },
  {
   "cell_type": "code",
   "execution_count": 52,
   "id": "2c15dff3",
   "metadata": {
    "scrolled": true
   },
   "outputs": [
    {
     "data": {
      "text/plain": [
       "array([[-1.73512503e+00, -4.51140783e-01, -1.86298687e-01, ...,\n",
       "        -3.28603258e-01, -3.62167870e-01,  1.39545434e+00],\n",
       "       [-1.73426342e+00, -5.39456874e-01, -1.86298687e-01, ...,\n",
       "        -3.28603258e-01, -3.62167870e-01,  1.37995704e+00],\n",
       "       [-1.73340181e+00, -3.20031232e-01, -1.86298687e-01, ...,\n",
       "        -3.28603258e-01, -3.62167870e-01,  1.41192021e+00],\n",
       "       ...,\n",
       "       [ 1.72682006e+00, -4.29480975e-05, -1.86298687e-01, ...,\n",
       "        -3.28603258e-01, -3.62167870e-01, -1.31560393e+00],\n",
       "       [ 1.72768167e+00, -1.85606976e-01, -1.86298687e-01, ...,\n",
       "         2.85309024e-02, -9.85033311e-02, -1.31608822e+00],\n",
       "       [ 1.72854328e+00, -7.00507951e-01, -1.86298687e-01, ...,\n",
       "        -3.28603258e-01, -3.62167870e-01, -1.31754109e+00]])"
      ]
     },
     "execution_count": 52,
     "metadata": {},
     "output_type": "execute_result"
    }
   ],
   "source": [
    "scaled_df_air"
   ]
  },
  {
   "cell_type": "markdown",
   "id": "6c52aee2",
   "metadata": {},
   "source": [
    "## using K-Mean Clustering Method"
   ]
  },
  {
   "cell_type": "code",
   "execution_count": 53,
   "id": "079200e2",
   "metadata": {},
   "outputs": [],
   "source": [
    "# How to find optimum number of  cluster\n",
    "#The K-means algorithm aims to choose centroids that minimise the inertia, or within-cluster sum-of-squares criterion:"
   ]
  },
  {
   "cell_type": "code",
   "execution_count": 55,
   "id": "774522f8",
   "metadata": {},
   "outputs": [],
   "source": [
    "kmeans = KMeans(n_clusters=4,random_state=0)\n",
    "predict=kmeans.fit_predict(scaled_df_air)"
   ]
  },
  {
   "cell_type": "code",
   "execution_count": 56,
   "id": "93bfc10c",
   "metadata": {},
   "outputs": [
    {
     "data": {
      "text/plain": [
       "array([3, 3, 3, ..., 1, 1, 1])"
      ]
     },
     "execution_count": 56,
     "metadata": {},
     "output_type": "execute_result"
    }
   ],
   "source": [
    "predict"
   ]
  },
  {
   "cell_type": "code",
   "execution_count": 57,
   "id": "e1773569",
   "metadata": {},
   "outputs": [
    {
     "data": {
      "image/png": "[encoded data removed]",
      "text/plain": [
       "<Figure size 432x288 with 1 Axes>"
      ]
     },
     "metadata": {
      "needs_background": "light"
     },
     "output_type": "display_data"
    }
   ],
   "source": [
    "wcss = []\n",
    "for i in range(1, 11):\n",
    "    kmeans = KMeans(n_clusters=i,random_state=0)\n",
    "    kmeans.fit(scaled_df_air)\n",
    "    wcss.append(kmeans.inertia_)\n",
    "\n",
    "plt.plot(range(1, 11), wcss)\n",
    "plt.title('Elbow Method')\n",
    "plt.xlabel('Number of clusters')\n",
    "plt.ylabel('WCSS')\n",
    "plt.show()"
   ]
  },
  {
   "cell_type": "code",
   "execution_count": 58,
   "id": "c91abe31",
   "metadata": {},
   "outputs": [],
   "source": [
    "#K-Means: Inertia\n",
    "#Inertia measures how well a dataset was clustered by K-Means.\n",
    "#It is calculated by measuring the distance between each data point and its centroid,\n",
    "#squaring this distance, and summing these squares across one cluster.\n",
    " #A good model is one with low inertia AND a low number of clusters ( K )."
   ]
  },
  {
   "cell_type": "markdown",
   "id": "6848c66c",
   "metadata": {},
   "source": [
    "## Building Model"
   ]
  },
  {
   "cell_type": "code",
   "execution_count": 60,
   "id": "da17711e",
   "metadata": {},
   "outputs": [
    {
     "data": {
      "text/plain": [
       "KMeans(n_clusters=3, random_state=42)"
      ]
     },
     "execution_count": 60,
     "metadata": {},
     "output_type": "execute_result"
    }
   ],
   "source": [
    "#Build Cluster algorithm\n",
    "from sklearn.cluster import KMeans\n",
    "clusters_new = KMeans(3, random_state=42)\n",
    "clusters_new.fit(scaled_df_air)"
   ]
  },
  {
   "cell_type": "code",
   "execution_count": 61,
   "id": "5b773639",
   "metadata": {},
   "outputs": [
    {
     "data": {
      "text/plain": [
       "array([0, 0, 0, ..., 0, 0, 0])"
      ]
     },
     "execution_count": 61,
     "metadata": {},
     "output_type": "execute_result"
    }
   ],
   "source": [
    "clusters_new.labels_"
   ]
  },
  {
   "cell_type": "code",
   "execution_count": 62,
   "id": "a5f512b9",
   "metadata": {},
   "outputs": [],
   "source": [
    "#Assign clusters to the data set\n",
    "df_air['clusterid_new'] = clusters_new.labels_"
   ]
  },
  {
   "cell_type": "code",
   "execution_count": 63,
   "id": "814280f7",
   "metadata": {},
   "outputs": [
    {
     "data": {
      "text/html": [
       "<div>\n",
       "<style scoped>\n",
       "    .dataframe tbody tr th:only-of-type {\n",
       "        vertical-align: middle;\n",
       "    }\n",
       "\n",
       "    .dataframe tbody tr th {\n",
       "        vertical-align: top;\n",
       "    }\n",
       "\n",
       "    .dataframe thead th {\n",
       "        text-align: right;\n",
       "    }\n",
       "</style>\n",
       "<table border=\"1\" class=\"dataframe\">\n",
       "  <thead>\n",
       "    <tr style=\"text-align: right;\">\n",
       "      <th></th>\n",
       "      <th>ID#</th>\n",
       "      <th>Balance</th>\n",
       "      <th>Qual_miles</th>\n",
       "      <th>cc1_miles</th>\n",
       "      <th>cc2_miles</th>\n",
       "      <th>cc3_miles</th>\n",
       "      <th>Bonus_miles</th>\n",
       "      <th>Bonus_trans</th>\n",
       "      <th>Flight_miles_12mo</th>\n",
       "      <th>Flight_trans_12</th>\n",
       "      <th>Days_since_enroll</th>\n",
       "      <th>Award?</th>\n",
       "      <th>clusterid_new</th>\n",
       "    </tr>\n",
       "  </thead>\n",
       "  <tbody>\n",
       "    <tr>\n",
       "      <th>0</th>\n",
       "      <td>1</td>\n",
       "      <td>28143</td>\n",
       "      <td>0</td>\n",
       "      <td>1</td>\n",
       "      <td>1</td>\n",
       "      <td>1</td>\n",
       "      <td>174</td>\n",
       "      <td>1</td>\n",
       "      <td>0</td>\n",
       "      <td>0</td>\n",
       "      <td>7000</td>\n",
       "      <td>0</td>\n",
       "      <td>0</td>\n",
       "    </tr>\n",
       "    <tr>\n",
       "      <th>1</th>\n",
       "      <td>2</td>\n",
       "      <td>19244</td>\n",
       "      <td>0</td>\n",
       "      <td>1</td>\n",
       "      <td>1</td>\n",
       "      <td>1</td>\n",
       "      <td>215</td>\n",
       "      <td>2</td>\n",
       "      <td>0</td>\n",
       "      <td>0</td>\n",
       "      <td>6968</td>\n",
       "      <td>0</td>\n",
       "      <td>0</td>\n",
       "    </tr>\n",
       "    <tr>\n",
       "      <th>2</th>\n",
       "      <td>3</td>\n",
       "      <td>41354</td>\n",
       "      <td>0</td>\n",
       "      <td>1</td>\n",
       "      <td>1</td>\n",
       "      <td>1</td>\n",
       "      <td>4123</td>\n",
       "      <td>4</td>\n",
       "      <td>0</td>\n",
       "      <td>0</td>\n",
       "      <td>7034</td>\n",
       "      <td>0</td>\n",
       "      <td>0</td>\n",
       "    </tr>\n",
       "    <tr>\n",
       "      <th>3</th>\n",
       "      <td>4</td>\n",
       "      <td>14776</td>\n",
       "      <td>0</td>\n",
       "      <td>1</td>\n",
       "      <td>1</td>\n",
       "      <td>1</td>\n",
       "      <td>500</td>\n",
       "      <td>1</td>\n",
       "      <td>0</td>\n",
       "      <td>0</td>\n",
       "      <td>6952</td>\n",
       "      <td>0</td>\n",
       "      <td>0</td>\n",
       "    </tr>\n",
       "    <tr>\n",
       "      <th>4</th>\n",
       "      <td>5</td>\n",
       "      <td>97752</td>\n",
       "      <td>0</td>\n",
       "      <td>4</td>\n",
       "      <td>1</td>\n",
       "      <td>1</td>\n",
       "      <td>43300</td>\n",
       "      <td>26</td>\n",
       "      <td>2077</td>\n",
       "      <td>4</td>\n",
       "      <td>6935</td>\n",
       "      <td>1</td>\n",
       "      <td>1</td>\n",
       "    </tr>\n",
       "    <tr>\n",
       "      <th>...</th>\n",
       "      <td>...</td>\n",
       "      <td>...</td>\n",
       "      <td>...</td>\n",
       "      <td>...</td>\n",
       "      <td>...</td>\n",
       "      <td>...</td>\n",
       "      <td>...</td>\n",
       "      <td>...</td>\n",
       "      <td>...</td>\n",
       "      <td>...</td>\n",
       "      <td>...</td>\n",
       "      <td>...</td>\n",
       "      <td>...</td>\n",
       "    </tr>\n",
       "    <tr>\n",
       "      <th>3994</th>\n",
       "      <td>4017</td>\n",
       "      <td>18476</td>\n",
       "      <td>0</td>\n",
       "      <td>1</td>\n",
       "      <td>1</td>\n",
       "      <td>1</td>\n",
       "      <td>8525</td>\n",
       "      <td>4</td>\n",
       "      <td>200</td>\n",
       "      <td>1</td>\n",
       "      <td>1403</td>\n",
       "      <td>1</td>\n",
       "      <td>0</td>\n",
       "    </tr>\n",
       "    <tr>\n",
       "      <th>3995</th>\n",
       "      <td>4018</td>\n",
       "      <td>64385</td>\n",
       "      <td>0</td>\n",
       "      <td>1</td>\n",
       "      <td>1</td>\n",
       "      <td>1</td>\n",
       "      <td>981</td>\n",
       "      <td>5</td>\n",
       "      <td>0</td>\n",
       "      <td>0</td>\n",
       "      <td>1395</td>\n",
       "      <td>1</td>\n",
       "      <td>0</td>\n",
       "    </tr>\n",
       "    <tr>\n",
       "      <th>3996</th>\n",
       "      <td>4019</td>\n",
       "      <td>73597</td>\n",
       "      <td>0</td>\n",
       "      <td>3</td>\n",
       "      <td>1</td>\n",
       "      <td>1</td>\n",
       "      <td>25447</td>\n",
       "      <td>8</td>\n",
       "      <td>0</td>\n",
       "      <td>0</td>\n",
       "      <td>1402</td>\n",
       "      <td>1</td>\n",
       "      <td>0</td>\n",
       "    </tr>\n",
       "    <tr>\n",
       "      <th>3997</th>\n",
       "      <td>4020</td>\n",
       "      <td>54899</td>\n",
       "      <td>0</td>\n",
       "      <td>1</td>\n",
       "      <td>1</td>\n",
       "      <td>1</td>\n",
       "      <td>500</td>\n",
       "      <td>1</td>\n",
       "      <td>500</td>\n",
       "      <td>1</td>\n",
       "      <td>1401</td>\n",
       "      <td>0</td>\n",
       "      <td>0</td>\n",
       "    </tr>\n",
       "    <tr>\n",
       "      <th>3998</th>\n",
       "      <td>4021</td>\n",
       "      <td>3016</td>\n",
       "      <td>0</td>\n",
       "      <td>1</td>\n",
       "      <td>1</td>\n",
       "      <td>1</td>\n",
       "      <td>0</td>\n",
       "      <td>0</td>\n",
       "      <td>0</td>\n",
       "      <td>0</td>\n",
       "      <td>1398</td>\n",
       "      <td>0</td>\n",
       "      <td>0</td>\n",
       "    </tr>\n",
       "  </tbody>\n",
       "</table>\n",
       "<p>3999 rows × 13 columns</p>\n",
       "</div>"
      ],
      "text/plain": [
       "       ID#  Balance  Qual_miles  cc1_miles  cc2_miles  cc3_miles  Bonus_miles  \\\n",
       "0        1    28143           0          1          1          1          174   \n",
       "1        2    19244           0          1          1          1          215   \n",
       "2        3    41354           0          1          1          1         4123   \n",
       "3        4    14776           0          1          1          1          500   \n",
       "4        5    97752           0          4          1          1        43300   \n",
       "...    ...      ...         ...        ...        ...        ...          ...   \n",
       "3994  4017    18476           0          1          1          1         8525   \n",
       "3995  4018    64385           0          1          1          1          981   \n",
       "3996  4019    73597           0          3          1          1        25447   \n",
       "3997  4020    54899           0          1          1          1          500   \n",
       "3998  4021     3016           0          1          1          1            0   \n",
       "\n",
       "      Bonus_trans  Flight_miles_12mo  Flight_trans_12  Days_since_enroll  \\\n",
       "0               1                  0                0               7000   \n",
       "1               2                  0                0               6968   \n",
       "2               4                  0                0               7034   \n",
       "3               1                  0                0               6952   \n",
       "4              26               2077                4               6935   \n",
       "...           ...                ...              ...                ...   \n",
       "3994            4                200                1               1403   \n",
       "3995            5                  0                0               1395   \n",
       "3996            8                  0                0               1402   \n",
       "3997            1                500                1               1401   \n",
       "3998            0                  0                0               1398   \n",
       "\n",
       "      Award?  clusterid_new  \n",
       "0          0              0  \n",
       "1          0              0  \n",
       "2          0              0  \n",
       "3          0              0  \n",
       "4          1              1  \n",
       "...      ...            ...  \n",
       "3994       1              0  \n",
       "3995       1              0  \n",
       "3996       1              0  \n",
       "3997       0              0  \n",
       "3998       0              0  \n",
       "\n",
       "[3999 rows x 13 columns]"
      ]
     },
     "execution_count": 63,
     "metadata": {},
     "output_type": "execute_result"
    }
   ],
   "source": [
    "df_air"
   ]
  },
  {
   "cell_type": "code",
   "execution_count": 65,
   "id": "40dd32e1",
   "metadata": {},
   "outputs": [
    {
     "data": {
      "text/html": [
       "<div>\n",
       "<style scoped>\n",
       "    .dataframe tbody tr th:only-of-type {\n",
       "        vertical-align: middle;\n",
       "    }\n",
       "\n",
       "    .dataframe tbody tr th {\n",
       "        vertical-align: top;\n",
       "    }\n",
       "\n",
       "    .dataframe thead tr th {\n",
       "        text-align: left;\n",
       "    }\n",
       "</style>\n",
       "<table border=\"1\" class=\"dataframe\">\n",
       "  <thead>\n",
       "    <tr>\n",
       "      <th></th>\n",
       "      <th>clusterid_new</th>\n",
       "      <th>ID#</th>\n",
       "      <th>Balance</th>\n",
       "      <th>Qual_miles</th>\n",
       "      <th>cc1_miles</th>\n",
       "      <th>cc2_miles</th>\n",
       "      <th>cc3_miles</th>\n",
       "      <th>Bonus_miles</th>\n",
       "      <th>Bonus_trans</th>\n",
       "      <th>Flight_miles_12mo</th>\n",
       "      <th>Flight_trans_12</th>\n",
       "      <th>Days_since_enroll</th>\n",
       "      <th>Award?</th>\n",
       "    </tr>\n",
       "    <tr>\n",
       "      <th></th>\n",
       "      <th></th>\n",
       "      <th>mean</th>\n",
       "      <th>mean</th>\n",
       "      <th>mean</th>\n",
       "      <th>mean</th>\n",
       "      <th>mean</th>\n",
       "      <th>mean</th>\n",
       "      <th>mean</th>\n",
       "      <th>mean</th>\n",
       "      <th>mean</th>\n",
       "      <th>mean</th>\n",
       "      <th>mean</th>\n",
       "      <th>mean</th>\n",
       "    </tr>\n",
       "  </thead>\n",
       "  <tbody>\n",
       "    <tr>\n",
       "      <th>0</th>\n",
       "      <td>0</td>\n",
       "      <td>2333.425175</td>\n",
       "      <td>42606.823461</td>\n",
       "      <td>102.573655</td>\n",
       "      <td>1.253702</td>\n",
       "      <td>1.019486</td>\n",
       "      <td>1.000000</td>\n",
       "      <td>5086.816056</td>\n",
       "      <td>7.077553</td>\n",
       "      <td>207.892829</td>\n",
       "      <td>0.639127</td>\n",
       "      <td>3539.907249</td>\n",
       "      <td>0.248246</td>\n",
       "    </tr>\n",
       "    <tr>\n",
       "      <th>1</th>\n",
       "      <td>1</td>\n",
       "      <td>1405.075710</td>\n",
       "      <td>120650.825710</td>\n",
       "      <td>144.925079</td>\n",
       "      <td>3.673502</td>\n",
       "      <td>1.001577</td>\n",
       "      <td>1.036278</td>\n",
       "      <td>39629.436120</td>\n",
       "      <td>18.727129</td>\n",
       "      <td>327.373028</td>\n",
       "      <td>0.983438</td>\n",
       "      <td>5217.205836</td>\n",
       "      <td>0.563091</td>\n",
       "    </tr>\n",
       "    <tr>\n",
       "      <th>2</th>\n",
       "      <td>2</td>\n",
       "      <td>1745.806061</td>\n",
       "      <td>194044.563636</td>\n",
       "      <td>783.909091</td>\n",
       "      <td>2.187879</td>\n",
       "      <td>1.036364</td>\n",
       "      <td>1.018182</td>\n",
       "      <td>31874.818182</td>\n",
       "      <td>27.206061</td>\n",
       "      <td>5401.218182</td>\n",
       "      <td>15.793939</td>\n",
       "      <td>4674.545455</td>\n",
       "      <td>0.787879</td>\n",
       "    </tr>\n",
       "  </tbody>\n",
       "</table>\n",
       "</div>"
      ],
      "text/plain": [
       "  clusterid_new          ID#        Balance  Qual_miles cc1_miles cc2_miles  \\\n",
       "                        mean           mean        mean      mean      mean   \n",
       "0             0  2333.425175   42606.823461  102.573655  1.253702  1.019486   \n",
       "1             1  1405.075710  120650.825710  144.925079  3.673502  1.001577   \n",
       "2             2  1745.806061  194044.563636  783.909091  2.187879  1.036364   \n",
       "\n",
       "  cc3_miles   Bonus_miles Bonus_trans Flight_miles_12mo Flight_trans_12  \\\n",
       "       mean          mean        mean              mean            mean   \n",
       "0  1.000000   5086.816056    7.077553        207.892829        0.639127   \n",
       "1  1.036278  39629.436120   18.727129        327.373028        0.983438   \n",
       "2  1.018182  31874.818182   27.206061       5401.218182       15.793939   \n",
       "\n",
       "  Days_since_enroll    Award?  \n",
       "               mean      mean  \n",
       "0       3539.907249  0.248246  \n",
       "1       5217.205836  0.563091  \n",
       "2       4674.545455  0.787879  "
      ]
     },
     "execution_count": 65,
     "metadata": {},
     "output_type": "execute_result"
    }
   ],
   "source": [
    "df_air.groupby('clusterid_new').agg(['mean']).reset_index()"
   ]
  },
  {
   "cell_type": "code",
   "execution_count": 66,
   "id": "06da6903",
   "metadata": {},
   "outputs": [
    {
     "data": {
      "text/html": [
       "<div>\n",
       "<style scoped>\n",
       "    .dataframe tbody tr th:only-of-type {\n",
       "        vertical-align: middle;\n",
       "    }\n",
       "\n",
       "    .dataframe tbody tr th {\n",
       "        vertical-align: top;\n",
       "    }\n",
       "\n",
       "    .dataframe thead th {\n",
       "        text-align: right;\n",
       "    }\n",
       "</style>\n",
       "<table border=\"1\" class=\"dataframe\">\n",
       "  <thead>\n",
       "    <tr style=\"text-align: right;\">\n",
       "      <th></th>\n",
       "      <th>ID#</th>\n",
       "      <th>Balance</th>\n",
       "      <th>Qual_miles</th>\n",
       "      <th>cc1_miles</th>\n",
       "      <th>cc2_miles</th>\n",
       "      <th>cc3_miles</th>\n",
       "      <th>Bonus_miles</th>\n",
       "      <th>Bonus_trans</th>\n",
       "      <th>Flight_miles_12mo</th>\n",
       "      <th>Flight_trans_12</th>\n",
       "      <th>Days_since_enroll</th>\n",
       "      <th>Award?</th>\n",
       "      <th>clusterid_new</th>\n",
       "    </tr>\n",
       "  </thead>\n",
       "  <tbody>\n",
       "    <tr>\n",
       "      <th>8</th>\n",
       "      <td>9</td>\n",
       "      <td>443003</td>\n",
       "      <td>0</td>\n",
       "      <td>3</td>\n",
       "      <td>2</td>\n",
       "      <td>1</td>\n",
       "      <td>1753</td>\n",
       "      <td>43</td>\n",
       "      <td>3850</td>\n",
       "      <td>12</td>\n",
       "      <td>6948</td>\n",
       "      <td>1</td>\n",
       "      <td>2</td>\n",
       "    </tr>\n",
       "    <tr>\n",
       "      <th>21</th>\n",
       "      <td>22</td>\n",
       "      <td>185681</td>\n",
       "      <td>2024</td>\n",
       "      <td>1</td>\n",
       "      <td>1</td>\n",
       "      <td>1</td>\n",
       "      <td>13300</td>\n",
       "      <td>16</td>\n",
       "      <td>1800</td>\n",
       "      <td>9</td>\n",
       "      <td>6896</td>\n",
       "      <td>1</td>\n",
       "      <td>2</td>\n",
       "    </tr>\n",
       "    <tr>\n",
       "      <th>22</th>\n",
       "      <td>23</td>\n",
       "      <td>20584</td>\n",
       "      <td>0</td>\n",
       "      <td>1</td>\n",
       "      <td>1</td>\n",
       "      <td>1</td>\n",
       "      <td>3450</td>\n",
       "      <td>11</td>\n",
       "      <td>3450</td>\n",
       "      <td>11</td>\n",
       "      <td>6884</td>\n",
       "      <td>0</td>\n",
       "      <td>2</td>\n",
       "    </tr>\n",
       "    <tr>\n",
       "      <th>42</th>\n",
       "      <td>43</td>\n",
       "      <td>60313</td>\n",
       "      <td>0</td>\n",
       "      <td>1</td>\n",
       "      <td>1</td>\n",
       "      <td>1</td>\n",
       "      <td>10000</td>\n",
       "      <td>26</td>\n",
       "      <td>3250</td>\n",
       "      <td>9</td>\n",
       "      <td>7829</td>\n",
       "      <td>1</td>\n",
       "      <td>2</td>\n",
       "    </tr>\n",
       "    <tr>\n",
       "      <th>50</th>\n",
       "      <td>51</td>\n",
       "      <td>108137</td>\n",
       "      <td>0</td>\n",
       "      <td>1</td>\n",
       "      <td>1</td>\n",
       "      <td>1</td>\n",
       "      <td>6368</td>\n",
       "      <td>5</td>\n",
       "      <td>6368</td>\n",
       "      <td>5</td>\n",
       "      <td>6844</td>\n",
       "      <td>0</td>\n",
       "      <td>2</td>\n",
       "    </tr>\n",
       "    <tr>\n",
       "      <th>...</th>\n",
       "      <td>...</td>\n",
       "      <td>...</td>\n",
       "      <td>...</td>\n",
       "      <td>...</td>\n",
       "      <td>...</td>\n",
       "      <td>...</td>\n",
       "      <td>...</td>\n",
       "      <td>...</td>\n",
       "      <td>...</td>\n",
       "      <td>...</td>\n",
       "      <td>...</td>\n",
       "      <td>...</td>\n",
       "      <td>...</td>\n",
       "    </tr>\n",
       "    <tr>\n",
       "      <th>3907</th>\n",
       "      <td>3930</td>\n",
       "      <td>126490</td>\n",
       "      <td>0</td>\n",
       "      <td>1</td>\n",
       "      <td>1</td>\n",
       "      <td>1</td>\n",
       "      <td>8808</td>\n",
       "      <td>15</td>\n",
       "      <td>5183</td>\n",
       "      <td>12</td>\n",
       "      <td>1566</td>\n",
       "      <td>0</td>\n",
       "      <td>2</td>\n",
       "    </tr>\n",
       "    <tr>\n",
       "      <th>3911</th>\n",
       "      <td>3934</td>\n",
       "      <td>55922</td>\n",
       "      <td>2273</td>\n",
       "      <td>1</td>\n",
       "      <td>1</td>\n",
       "      <td>1</td>\n",
       "      <td>8104</td>\n",
       "      <td>19</td>\n",
       "      <td>4104</td>\n",
       "      <td>16</td>\n",
       "      <td>1552</td>\n",
       "      <td>0</td>\n",
       "      <td>2</td>\n",
       "    </tr>\n",
       "    <tr>\n",
       "      <th>3917</th>\n",
       "      <td>3940</td>\n",
       "      <td>130748</td>\n",
       "      <td>0</td>\n",
       "      <td>4</td>\n",
       "      <td>1</td>\n",
       "      <td>1</td>\n",
       "      <td>65510</td>\n",
       "      <td>37</td>\n",
       "      <td>6349</td>\n",
       "      <td>7</td>\n",
       "      <td>1545</td>\n",
       "      <td>0</td>\n",
       "      <td>2</td>\n",
       "    </tr>\n",
       "    <tr>\n",
       "      <th>3934</th>\n",
       "      <td>3957</td>\n",
       "      <td>76595</td>\n",
       "      <td>0</td>\n",
       "      <td>1</td>\n",
       "      <td>1</td>\n",
       "      <td>1</td>\n",
       "      <td>10577</td>\n",
       "      <td>2</td>\n",
       "      <td>9577</td>\n",
       "      <td>1</td>\n",
       "      <td>1515</td>\n",
       "      <td>0</td>\n",
       "      <td>2</td>\n",
       "    </tr>\n",
       "    <tr>\n",
       "      <th>3950</th>\n",
       "      <td>3973</td>\n",
       "      <td>59650</td>\n",
       "      <td>0</td>\n",
       "      <td>1</td>\n",
       "      <td>1</td>\n",
       "      <td>1</td>\n",
       "      <td>5050</td>\n",
       "      <td>16</td>\n",
       "      <td>3950</td>\n",
       "      <td>13</td>\n",
       "      <td>1476</td>\n",
       "      <td>0</td>\n",
       "      <td>2</td>\n",
       "    </tr>\n",
       "  </tbody>\n",
       "</table>\n",
       "<p>165 rows × 13 columns</p>\n",
       "</div>"
      ],
      "text/plain": [
       "       ID#  Balance  Qual_miles  cc1_miles  cc2_miles  cc3_miles  Bonus_miles  \\\n",
       "8        9   443003           0          3          2          1         1753   \n",
       "21      22   185681        2024          1          1          1        13300   \n",
       "22      23    20584           0          1          1          1         3450   \n",
       "42      43    60313           0          1          1          1        10000   \n",
       "50      51   108137           0          1          1          1         6368   \n",
       "...    ...      ...         ...        ...        ...        ...          ...   \n",
       "3907  3930   126490           0          1          1          1         8808   \n",
       "3911  3934    55922        2273          1          1          1         8104   \n",
       "3917  3940   130748           0          4          1          1        65510   \n",
       "3934  3957    76595           0          1          1          1        10577   \n",
       "3950  3973    59650           0          1          1          1         5050   \n",
       "\n",
       "      Bonus_trans  Flight_miles_12mo  Flight_trans_12  Days_since_enroll  \\\n",
       "8              43               3850               12               6948   \n",
       "21             16               1800                9               6896   \n",
       "22             11               3450               11               6884   \n",
       "42             26               3250                9               7829   \n",
       "50              5               6368                5               6844   \n",
       "...           ...                ...              ...                ...   \n",
       "3907           15               5183               12               1566   \n",
       "3911           19               4104               16               1552   \n",
       "3917           37               6349                7               1545   \n",
       "3934            2               9577                1               1515   \n",
       "3950           16               3950               13               1476   \n",
       "\n",
       "      Award?  clusterid_new  \n",
       "8          1              2  \n",
       "21         1              2  \n",
       "22         0              2  \n",
       "42         1              2  \n",
       "50         0              2  \n",
       "...      ...            ...  \n",
       "3907       0              2  \n",
       "3911       0              2  \n",
       "3917       0              2  \n",
       "3934       0              2  \n",
       "3950       0              2  \n",
       "\n",
       "[165 rows x 13 columns]"
      ]
     },
     "execution_count": 66,
     "metadata": {},
     "output_type": "execute_result"
    }
   ],
   "source": [
    "df_air[df_air['clusterid_new']==2]"
   ]
  },
  {
   "cell_type": "code",
   "execution_count": 67,
   "id": "2d452fad",
   "metadata": {},
   "outputs": [
    {
     "data": {
      "text/html": [
       "<div>\n",
       "<style scoped>\n",
       "    .dataframe tbody tr th:only-of-type {\n",
       "        vertical-align: middle;\n",
       "    }\n",
       "\n",
       "    .dataframe tbody tr th {\n",
       "        vertical-align: top;\n",
       "    }\n",
       "\n",
       "    .dataframe thead th {\n",
       "        text-align: right;\n",
       "    }\n",
       "</style>\n",
       "<table border=\"1\" class=\"dataframe\">\n",
       "  <thead>\n",
       "    <tr style=\"text-align: right;\">\n",
       "      <th></th>\n",
       "      <th>ID#</th>\n",
       "      <th>Balance</th>\n",
       "      <th>Qual_miles</th>\n",
       "      <th>cc1_miles</th>\n",
       "      <th>cc2_miles</th>\n",
       "      <th>cc3_miles</th>\n",
       "      <th>Bonus_miles</th>\n",
       "      <th>Bonus_trans</th>\n",
       "      <th>Flight_miles_12mo</th>\n",
       "      <th>Flight_trans_12</th>\n",
       "      <th>Days_since_enroll</th>\n",
       "      <th>Award?</th>\n",
       "      <th>clusterid_new</th>\n",
       "    </tr>\n",
       "  </thead>\n",
       "  <tbody>\n",
       "    <tr>\n",
       "      <th>0</th>\n",
       "      <td>1</td>\n",
       "      <td>28143</td>\n",
       "      <td>0</td>\n",
       "      <td>1</td>\n",
       "      <td>1</td>\n",
       "      <td>1</td>\n",
       "      <td>174</td>\n",
       "      <td>1</td>\n",
       "      <td>0</td>\n",
       "      <td>0</td>\n",
       "      <td>7000</td>\n",
       "      <td>0</td>\n",
       "      <td>0</td>\n",
       "    </tr>\n",
       "    <tr>\n",
       "      <th>1</th>\n",
       "      <td>2</td>\n",
       "      <td>19244</td>\n",
       "      <td>0</td>\n",
       "      <td>1</td>\n",
       "      <td>1</td>\n",
       "      <td>1</td>\n",
       "      <td>215</td>\n",
       "      <td>2</td>\n",
       "      <td>0</td>\n",
       "      <td>0</td>\n",
       "      <td>6968</td>\n",
       "      <td>0</td>\n",
       "      <td>0</td>\n",
       "    </tr>\n",
       "    <tr>\n",
       "      <th>2</th>\n",
       "      <td>3</td>\n",
       "      <td>41354</td>\n",
       "      <td>0</td>\n",
       "      <td>1</td>\n",
       "      <td>1</td>\n",
       "      <td>1</td>\n",
       "      <td>4123</td>\n",
       "      <td>4</td>\n",
       "      <td>0</td>\n",
       "      <td>0</td>\n",
       "      <td>7034</td>\n",
       "      <td>0</td>\n",
       "      <td>0</td>\n",
       "    </tr>\n",
       "    <tr>\n",
       "      <th>3</th>\n",
       "      <td>4</td>\n",
       "      <td>14776</td>\n",
       "      <td>0</td>\n",
       "      <td>1</td>\n",
       "      <td>1</td>\n",
       "      <td>1</td>\n",
       "      <td>500</td>\n",
       "      <td>1</td>\n",
       "      <td>0</td>\n",
       "      <td>0</td>\n",
       "      <td>6952</td>\n",
       "      <td>0</td>\n",
       "      <td>0</td>\n",
       "    </tr>\n",
       "    <tr>\n",
       "      <th>4</th>\n",
       "      <td>5</td>\n",
       "      <td>97752</td>\n",
       "      <td>0</td>\n",
       "      <td>4</td>\n",
       "      <td>1</td>\n",
       "      <td>1</td>\n",
       "      <td>43300</td>\n",
       "      <td>26</td>\n",
       "      <td>2077</td>\n",
       "      <td>4</td>\n",
       "      <td>6935</td>\n",
       "      <td>1</td>\n",
       "      <td>1</td>\n",
       "    </tr>\n",
       "    <tr>\n",
       "      <th>...</th>\n",
       "      <td>...</td>\n",
       "      <td>...</td>\n",
       "      <td>...</td>\n",
       "      <td>...</td>\n",
       "      <td>...</td>\n",
       "      <td>...</td>\n",
       "      <td>...</td>\n",
       "      <td>...</td>\n",
       "      <td>...</td>\n",
       "      <td>...</td>\n",
       "      <td>...</td>\n",
       "      <td>...</td>\n",
       "      <td>...</td>\n",
       "    </tr>\n",
       "    <tr>\n",
       "      <th>3994</th>\n",
       "      <td>4017</td>\n",
       "      <td>18476</td>\n",
       "      <td>0</td>\n",
       "      <td>1</td>\n",
       "      <td>1</td>\n",
       "      <td>1</td>\n",
       "      <td>8525</td>\n",
       "      <td>4</td>\n",
       "      <td>200</td>\n",
       "      <td>1</td>\n",
       "      <td>1403</td>\n",
       "      <td>1</td>\n",
       "      <td>0</td>\n",
       "    </tr>\n",
       "    <tr>\n",
       "      <th>3995</th>\n",
       "      <td>4018</td>\n",
       "      <td>64385</td>\n",
       "      <td>0</td>\n",
       "      <td>1</td>\n",
       "      <td>1</td>\n",
       "      <td>1</td>\n",
       "      <td>981</td>\n",
       "      <td>5</td>\n",
       "      <td>0</td>\n",
       "      <td>0</td>\n",
       "      <td>1395</td>\n",
       "      <td>1</td>\n",
       "      <td>0</td>\n",
       "    </tr>\n",
       "    <tr>\n",
       "      <th>3996</th>\n",
       "      <td>4019</td>\n",
       "      <td>73597</td>\n",
       "      <td>0</td>\n",
       "      <td>3</td>\n",
       "      <td>1</td>\n",
       "      <td>1</td>\n",
       "      <td>25447</td>\n",
       "      <td>8</td>\n",
       "      <td>0</td>\n",
       "      <td>0</td>\n",
       "      <td>1402</td>\n",
       "      <td>1</td>\n",
       "      <td>0</td>\n",
       "    </tr>\n",
       "    <tr>\n",
       "      <th>3997</th>\n",
       "      <td>4020</td>\n",
       "      <td>54899</td>\n",
       "      <td>0</td>\n",
       "      <td>1</td>\n",
       "      <td>1</td>\n",
       "      <td>1</td>\n",
       "      <td>500</td>\n",
       "      <td>1</td>\n",
       "      <td>500</td>\n",
       "      <td>1</td>\n",
       "      <td>1401</td>\n",
       "      <td>0</td>\n",
       "      <td>0</td>\n",
       "    </tr>\n",
       "    <tr>\n",
       "      <th>3998</th>\n",
       "      <td>4021</td>\n",
       "      <td>3016</td>\n",
       "      <td>0</td>\n",
       "      <td>1</td>\n",
       "      <td>1</td>\n",
       "      <td>1</td>\n",
       "      <td>0</td>\n",
       "      <td>0</td>\n",
       "      <td>0</td>\n",
       "      <td>0</td>\n",
       "      <td>1398</td>\n",
       "      <td>0</td>\n",
       "      <td>0</td>\n",
       "    </tr>\n",
       "  </tbody>\n",
       "</table>\n",
       "<p>3999 rows × 13 columns</p>\n",
       "</div>"
      ],
      "text/plain": [
       "       ID#  Balance  Qual_miles  cc1_miles  cc2_miles  cc3_miles  Bonus_miles  \\\n",
       "0        1    28143           0          1          1          1          174   \n",
       "1        2    19244           0          1          1          1          215   \n",
       "2        3    41354           0          1          1          1         4123   \n",
       "3        4    14776           0          1          1          1          500   \n",
       "4        5    97752           0          4          1          1        43300   \n",
       "...    ...      ...         ...        ...        ...        ...          ...   \n",
       "3994  4017    18476           0          1          1          1         8525   \n",
       "3995  4018    64385           0          1          1          1          981   \n",
       "3996  4019    73597           0          3          1          1        25447   \n",
       "3997  4020    54899           0          1          1          1          500   \n",
       "3998  4021     3016           0          1          1          1            0   \n",
       "\n",
       "      Bonus_trans  Flight_miles_12mo  Flight_trans_12  Days_since_enroll  \\\n",
       "0               1                  0                0               7000   \n",
       "1               2                  0                0               6968   \n",
       "2               4                  0                0               7034   \n",
       "3               1                  0                0               6952   \n",
       "4              26               2077                4               6935   \n",
       "...           ...                ...              ...                ...   \n",
       "3994            4                200                1               1403   \n",
       "3995            5                  0                0               1395   \n",
       "3996            8                  0                0               1402   \n",
       "3997            1                500                1               1401   \n",
       "3998            0                  0                0               1398   \n",
       "\n",
       "      Award?  clusterid_new  \n",
       "0          0              0  \n",
       "1          0              0  \n",
       "2          0              0  \n",
       "3          0              0  \n",
       "4          1              1  \n",
       "...      ...            ...  \n",
       "3994       1              0  \n",
       "3995       1              0  \n",
       "3996       1              0  \n",
       "3997       0              0  \n",
       "3998       0              0  \n",
       "\n",
       "[3999 rows x 13 columns]"
      ]
     },
     "execution_count": 67,
     "metadata": {},
     "output_type": "execute_result"
    }
   ],
   "source": [
    "df_air"
   ]
  },
  {
   "cell_type": "code",
   "execution_count": 68,
   "id": "ef075cf2",
   "metadata": {},
   "outputs": [],
   "source": [
    "## using silhouette score"
   ]
  },
  {
   "cell_type": "code",
   "execution_count": 69,
   "id": "ed7580ca",
   "metadata": {},
   "outputs": [],
   "source": [
    "from sklearn.metrics import silhouette_samples, silhouette_score"
   ]
  },
  {
   "cell_type": "code",
   "execution_count": 71,
   "id": "5b82c5ff",
   "metadata": {},
   "outputs": [],
   "source": [
    "silhouette_score_average = silhouette_score(scaled_df_air, predict)"
   ]
  },
  {
   "cell_type": "code",
   "execution_count": 72,
   "id": "039850a4",
   "metadata": {},
   "outputs": [
    {
     "data": {
      "text/plain": [
       "0.2658949422439895"
      ]
     },
     "execution_count": 72,
     "metadata": {},
     "output_type": "execute_result"
    }
   ],
   "source": [
    "silhouette_score_average"
   ]
  },
  {
   "cell_type": "code",
   "execution_count": 73,
   "id": "9c622f35",
   "metadata": {},
   "outputs": [],
   "source": [
    "silhouette_score_average1 = silhouette_score(scaled_df_air, clusters_new.predict(scaled_df_air))"
   ]
  },
  {
   "cell_type": "code",
   "execution_count": 74,
   "id": "2a1db742",
   "metadata": {},
   "outputs": [
    {
     "data": {
      "text/plain": [
       "0.3027351242855637"
      ]
     },
     "execution_count": 74,
     "metadata": {},
     "output_type": "execute_result"
    }
   ],
   "source": [
    "silhouette_score_average1"
   ]
  },
  {
   "cell_type": "markdown",
   "id": "864f7f10",
   "metadata": {},
   "source": [
    "## Using DB-SCAN CLUSTERING"
   ]
  },
  {
   "cell_type": "markdown",
   "id": "9e19099d",
   "metadata": {},
   "source": [
    "### Building A Model"
   ]
  },
  {
   "cell_type": "code",
   "execution_count": 81,
   "id": "8b75b4f3",
   "metadata": {},
   "outputs": [],
   "source": [
    "array=df_air.values\n"
   ]
  },
  {
   "cell_type": "code",
   "execution_count": 82,
   "id": "39b3c468",
   "metadata": {
    "scrolled": true
   },
   "outputs": [
    {
     "data": {
      "text/plain": [
       "array([[    1, 28143,     0, ...,  7000,     0,     0],\n",
       "       [    2, 19244,     0, ...,  6968,     0,     0],\n",
       "       [    3, 41354,     0, ...,  7034,     0,     0],\n",
       "       ...,\n",
       "       [ 4019, 73597,     0, ...,  1402,     1,     0],\n",
       "       [ 4020, 54899,     0, ...,  1401,     0,     0],\n",
       "       [ 4021,  3016,     0, ...,  1398,     0,     0]], dtype=int64)"
      ]
     },
     "execution_count": 82,
     "metadata": {},
     "output_type": "execute_result"
    }
   ],
   "source": [
    "array"
   ]
  },
  {
   "cell_type": "code",
   "execution_count": 83,
   "id": "2341ceb5",
   "metadata": {},
   "outputs": [],
   "source": [
    "stscaler = StandardScaler().fit(array)\n"
   ]
  },
  {
   "cell_type": "code",
   "execution_count": 84,
   "id": "9ab46311",
   "metadata": {},
   "outputs": [],
   "source": [
    "X = stscaler.transform(array)"
   ]
  },
  {
   "cell_type": "code",
   "execution_count": 85,
   "id": "39e5bc9f",
   "metadata": {},
   "outputs": [
    {
     "data": {
      "text/plain": [
       "DBSCAN(eps=0.9, min_samples=2)"
      ]
     },
     "execution_count": 85,
     "metadata": {},
     "output_type": "execute_result"
    }
   ],
   "source": [
    "dbscan = DBSCAN(eps=0.9, min_samples=2)\n",
    "dbscan.fit(X)"
   ]
  },
  {
   "cell_type": "code",
   "execution_count": 86,
   "id": "156156c9",
   "metadata": {},
   "outputs": [
    {
     "data": {
      "text/plain": [
       "array([0, 0, 0, ..., 3, 0, 0], dtype=int64)"
      ]
     },
     "execution_count": 86,
     "metadata": {},
     "output_type": "execute_result"
    }
   ],
   "source": [
    "dbscan.labels_"
   ]
  },
  {
   "cell_type": "code",
   "execution_count": 87,
   "id": "b1eb966c",
   "metadata": {},
   "outputs": [
    {
     "data": {
      "text/plain": [
       "3389"
      ]
     },
     "execution_count": 87,
     "metadata": {},
     "output_type": "execute_result"
    }
   ],
   "source": [
    "len(dbscan.core_sample_indices_)"
   ]
  },
  {
   "cell_type": "code",
   "execution_count": 88,
   "id": "b1c7563b",
   "metadata": {},
   "outputs": [
    {
     "data": {
      "text/plain": [
       "array([   0,    1,    2, ..., 3996, 3997, 3998], dtype=int64)"
      ]
     },
     "execution_count": 88,
     "metadata": {},
     "output_type": "execute_result"
    }
   ],
   "source": [
    "#Indexes of core data points\n",
    "dbscan.core_sample_indices_"
   ]
  },
  {
   "cell_type": "code",
   "execution_count": 89,
   "id": "f2378d40",
   "metadata": {},
   "outputs": [
    {
     "data": {
      "text/plain": [
       "array([[-1.73512503e+00, -4.51140783e-01, -1.86298687e-01, ...,\n",
       "         1.39545434e+00, -7.66919299e-01, -7.03721163e-01],\n",
       "       [-1.73426342e+00, -5.39456874e-01, -1.86298687e-01, ...,\n",
       "         1.37995704e+00, -7.66919299e-01, -7.03721163e-01],\n",
       "       [-1.73340181e+00, -3.20031232e-01, -1.86298687e-01, ...,\n",
       "         1.41192021e+00, -7.66919299e-01, -7.03721163e-01],\n",
       "       ...,\n",
       "       [ 1.72682006e+00, -4.29480975e-05, -1.86298687e-01, ...,\n",
       "        -1.31560393e+00,  1.30391816e+00, -7.03721163e-01],\n",
       "       [ 1.72768167e+00, -1.85606976e-01, -1.86298687e-01, ...,\n",
       "        -1.31608822e+00, -7.66919299e-01, -7.03721163e-01],\n",
       "       [ 1.72854328e+00, -7.00507951e-01, -1.86298687e-01, ...,\n",
       "        -1.31754109e+00, -7.66919299e-01, -7.03721163e-01]])"
      ]
     },
     "execution_count": 89,
     "metadata": {},
     "output_type": "execute_result"
    }
   ],
   "source": [
    "#core data points\n",
    "dbscan.components_"
   ]
  },
  {
   "cell_type": "code",
   "execution_count": null,
   "id": "aec0b833",
   "metadata": {},
   "outputs": [],
   "source": []
  }
 ],
 "metadata": {
  "kernelspec": {
   "display_name": "Python 3",
   "language": "python",
   "name": "python3"
  },
  "language_info": {
   "codemirror_mode": {
    "name": "ipython",
    "version": 3
   },
   "file_extension": ".py",
   "mimetype": "text/x-python",
   "name": "python",
   "nbconvert_exporter": "python",
   "pygments_lexer": "ipython3",
   "version": "3.7.6"
  }
 },
 "nbformat": 4,
 "nbformat_minor": 5
}
