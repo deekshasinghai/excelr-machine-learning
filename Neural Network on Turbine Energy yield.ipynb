{
 "cells": [
  {
   "cell_type": "markdown",
   "id": "e387873d",
   "metadata": {},
   "source": [
    "#### PROBLEM STATEMENT 1\n",
    "predicting turbine energy yield (TEY) using ambient variables as features.\n"
   ]
  },
  {
   "cell_type": "markdown",
   "id": "dbd8b973",
   "metadata": {},
   "source": [
    "#### Importing libraries"
   ]
  },
  {
   "cell_type": "code",
   "execution_count": 2,
   "id": "f25bca84",
   "metadata": {},
   "outputs": [
    {
     "name": "stderr",
     "output_type": "stream",
     "text": [
      "\n",
      "Bad key mathtext.fallback_to_cm in file C:\\Users\\mohit\\AppData\\Local\\Programs\\Python\\Python37\\lib\\site-packages\\matplotlib\\mpl-data\\stylelib\\_classic_test.mplstyle, line 155 ('mathtext.fallback_to_cm : True  # When True, use symbols from the Computer Modern')\n",
      "You probably need to get an updated matplotlibrc file from\n",
      "https://github.com/matplotlib/matplotlib/blob/v3.5.3/matplotlibrc.template\n",
      "or from the matplotlib source distribution\n",
      "\n",
      "Bad key savefig.jpeg_quality in file C:\\Users\\mohit\\AppData\\Local\\Programs\\Python\\Python37\\lib\\site-packages\\matplotlib\\mpl-data\\stylelib\\_classic_test.mplstyle, line 418 ('savefig.jpeg_quality: 95       # when a jpeg is saved, the default quality parameter.')\n",
      "You probably need to get an updated matplotlibrc file from\n",
      "https://github.com/matplotlib/matplotlib/blob/v3.5.3/matplotlibrc.template\n",
      "or from the matplotlib source distribution\n",
      "\n",
      "Bad key keymap.all_axes in file C:\\Users\\mohit\\AppData\\Local\\Programs\\Python\\Python37\\lib\\site-packages\\matplotlib\\mpl-data\\stylelib\\_classic_test.mplstyle, line 466 ('keymap.all_axes : a                 # enable all axes')\n",
      "You probably need to get an updated matplotlibrc file from\n",
      "https://github.com/matplotlib/matplotlib/blob/v3.5.3/matplotlibrc.template\n",
      "or from the matplotlib source distribution\n",
      "\n",
      "Bad key animation.avconv_path in file C:\\Users\\mohit\\AppData\\Local\\Programs\\Python\\Python37\\lib\\site-packages\\matplotlib\\mpl-data\\stylelib\\_classic_test.mplstyle, line 477 ('animation.avconv_path: avconv     # Path to avconv binary. Without full path')\n",
      "You probably need to get an updated matplotlibrc file from\n",
      "https://github.com/matplotlib/matplotlib/blob/v3.5.3/matplotlibrc.template\n",
      "or from the matplotlib source distribution\n",
      "\n",
      "Bad key animation.avconv_args in file C:\\Users\\mohit\\AppData\\Local\\Programs\\Python\\Python37\\lib\\site-packages\\matplotlib\\mpl-data\\stylelib\\_classic_test.mplstyle, line 479 ('animation.avconv_args:            # Additional arguments to pass to avconv')\n",
      "You probably need to get an updated matplotlibrc file from\n",
      "https://github.com/matplotlib/matplotlib/blob/v3.5.3/matplotlibrc.template\n",
      "or from the matplotlib source distribution\n"
     ]
    }
   ],
   "source": [
    "import pandas as pd\n",
    "import seaborn as sns\n",
    "from sklearn.model_selection import train_test_split\n",
    "from imblearn.over_sampling import SMOTE\n",
    "import numpy as np\n",
    "from sklearn.preprocessing import MinMaxScaler\n",
    "from tensorflow.keras.wrappers.scikit_learn import KerasClassifier\n",
    "from tensorflow.keras.layers import Dense,Dropout\n",
    "from sklearn.metrics import accuracy_score,classification_report,confusion_matrix\n",
    "from keras.models import Sequential\n",
    "from tensorflow.keras.optimizers import Adam,RMSprop\n",
    "from sklearn.model_selection import GridSearchCV,KFold\n",
    "from sklearn.ensemble import RandomForestRegressor\n",
    "from sklearn.metrics import mean_squared_error\n",
    "from sklearn.model_selection import GridSearchCV, KFold, StratifiedKFold, cross_val_score, \\\n",
    "                                    train_test_split, RandomizedSearchCV"
   ]
  },
  {
   "cell_type": "markdown",
   "id": "9e88cdb1",
   "metadata": {},
   "source": [
    "#### Reading the data"
   ]
  },
  {
   "cell_type": "code",
   "execution_count": 3,
   "id": "913f2b32",
   "metadata": {},
   "outputs": [],
   "source": [
    "gas = pd.read_csv('E:\\\\deeksha\\\\python\\\\data\\\\gas_turbines.csv')"
   ]
  },
  {
   "cell_type": "code",
   "execution_count": 4,
   "id": "283166a1",
   "metadata": {},
   "outputs": [
    {
     "data": {
      "text/html": [
       "<div>\n",
       "<style scoped>\n",
       "    .dataframe tbody tr th:only-of-type {\n",
       "        vertical-align: middle;\n",
       "    }\n",
       "\n",
       "    .dataframe tbody tr th {\n",
       "        vertical-align: top;\n",
       "    }\n",
       "\n",
       "    .dataframe thead th {\n",
       "        text-align: right;\n",
       "    }\n",
       "</style>\n",
       "<table border=\"1\" class=\"dataframe\">\n",
       "  <thead>\n",
       "    <tr style=\"text-align: right;\">\n",
       "      <th></th>\n",
       "      <th>AT</th>\n",
       "      <th>AP</th>\n",
       "      <th>AH</th>\n",
       "      <th>AFDP</th>\n",
       "      <th>GTEP</th>\n",
       "      <th>TIT</th>\n",
       "      <th>TAT</th>\n",
       "      <th>TEY</th>\n",
       "      <th>CDP</th>\n",
       "      <th>CO</th>\n",
       "      <th>NOX</th>\n",
       "    </tr>\n",
       "  </thead>\n",
       "  <tbody>\n",
       "    <tr>\n",
       "      <th>0</th>\n",
       "      <td>6.8594</td>\n",
       "      <td>1007.9</td>\n",
       "      <td>96.799</td>\n",
       "      <td>3.5000</td>\n",
       "      <td>19.663</td>\n",
       "      <td>1059.2</td>\n",
       "      <td>550.00</td>\n",
       "      <td>114.70</td>\n",
       "      <td>10.605</td>\n",
       "      <td>3.1547</td>\n",
       "      <td>82.722</td>\n",
       "    </tr>\n",
       "    <tr>\n",
       "      <th>1</th>\n",
       "      <td>6.7850</td>\n",
       "      <td>1008.4</td>\n",
       "      <td>97.118</td>\n",
       "      <td>3.4998</td>\n",
       "      <td>19.728</td>\n",
       "      <td>1059.3</td>\n",
       "      <td>550.00</td>\n",
       "      <td>114.72</td>\n",
       "      <td>10.598</td>\n",
       "      <td>3.2363</td>\n",
       "      <td>82.776</td>\n",
       "    </tr>\n",
       "    <tr>\n",
       "      <th>2</th>\n",
       "      <td>6.8977</td>\n",
       "      <td>1008.8</td>\n",
       "      <td>95.939</td>\n",
       "      <td>3.4824</td>\n",
       "      <td>19.779</td>\n",
       "      <td>1059.4</td>\n",
       "      <td>549.87</td>\n",
       "      <td>114.71</td>\n",
       "      <td>10.601</td>\n",
       "      <td>3.2012</td>\n",
       "      <td>82.468</td>\n",
       "    </tr>\n",
       "    <tr>\n",
       "      <th>3</th>\n",
       "      <td>7.0569</td>\n",
       "      <td>1009.2</td>\n",
       "      <td>95.249</td>\n",
       "      <td>3.4805</td>\n",
       "      <td>19.792</td>\n",
       "      <td>1059.6</td>\n",
       "      <td>549.99</td>\n",
       "      <td>114.72</td>\n",
       "      <td>10.606</td>\n",
       "      <td>3.1923</td>\n",
       "      <td>82.670</td>\n",
       "    </tr>\n",
       "    <tr>\n",
       "      <th>4</th>\n",
       "      <td>7.3978</td>\n",
       "      <td>1009.7</td>\n",
       "      <td>95.150</td>\n",
       "      <td>3.4976</td>\n",
       "      <td>19.765</td>\n",
       "      <td>1059.7</td>\n",
       "      <td>549.98</td>\n",
       "      <td>114.72</td>\n",
       "      <td>10.612</td>\n",
       "      <td>3.2484</td>\n",
       "      <td>82.311</td>\n",
       "    </tr>\n",
       "  </tbody>\n",
       "</table>\n",
       "</div>"
      ],
      "text/plain": [
       "       AT      AP      AH    AFDP    GTEP     TIT     TAT     TEY     CDP  \\\n",
       "0  6.8594  1007.9  96.799  3.5000  19.663  1059.2  550.00  114.70  10.605   \n",
       "1  6.7850  1008.4  97.118  3.4998  19.728  1059.3  550.00  114.72  10.598   \n",
       "2  6.8977  1008.8  95.939  3.4824  19.779  1059.4  549.87  114.71  10.601   \n",
       "3  7.0569  1009.2  95.249  3.4805  19.792  1059.6  549.99  114.72  10.606   \n",
       "4  7.3978  1009.7  95.150  3.4976  19.765  1059.7  549.98  114.72  10.612   \n",
       "\n",
       "       CO     NOX  \n",
       "0  3.1547  82.722  \n",
       "1  3.2363  82.776  \n",
       "2  3.2012  82.468  \n",
       "3  3.1923  82.670  \n",
       "4  3.2484  82.311  "
      ]
     },
     "execution_count": 4,
     "metadata": {},
     "output_type": "execute_result"
    }
   ],
   "source": [
    "gas.head()"
   ]
  },
  {
   "cell_type": "code",
   "execution_count": 5,
   "id": "5d15fa44",
   "metadata": {},
   "outputs": [
    {
     "data": {
      "text/plain": [
       "AT      0\n",
       "AP      0\n",
       "AH      0\n",
       "AFDP    0\n",
       "GTEP    0\n",
       "TIT     0\n",
       "TAT     0\n",
       "TEY     0\n",
       "CDP     0\n",
       "CO      0\n",
       "NOX     0\n",
       "dtype: int64"
      ]
     },
     "execution_count": 5,
     "metadata": {},
     "output_type": "execute_result"
    }
   ],
   "source": [
    "gas.isnull().sum()"
   ]
  },
  {
   "cell_type": "code",
   "execution_count": 5,
   "id": "7a7ef9f1",
   "metadata": {},
   "outputs": [
    {
     "data": {
      "text/plain": [
       "AT      0\n",
       "AP      0\n",
       "AH      0\n",
       "AFDP    0\n",
       "GTEP    0\n",
       "TIT     0\n",
       "TAT     0\n",
       "TEY     0\n",
       "CDP     0\n",
       "CO      0\n",
       "NOX     0\n",
       "dtype: int64"
      ]
     },
     "execution_count": 5,
     "metadata": {},
     "output_type": "execute_result"
    }
   ],
   "source": [
    "gas.isna().sum()"
   ]
  },
  {
   "cell_type": "code",
   "execution_count": 6,
   "id": "249a8d6a",
   "metadata": {},
   "outputs": [
    {
     "data": {
      "text/plain": [
       "Index(['AT', 'AP', 'AH', 'AFDP', 'GTEP', 'TIT', 'TAT', 'TEY', 'CDP', 'CO',\n",
       "       'NOX'],\n",
       "      dtype='object')"
      ]
     },
     "execution_count": 6,
     "metadata": {},
     "output_type": "execute_result"
    }
   ],
   "source": [
    "gas.columns"
   ]
  },
  {
   "cell_type": "code",
   "execution_count": 7,
   "id": "46bfc47c",
   "metadata": {},
   "outputs": [
    {
     "data": {
      "text/html": [
       "<div>\n",
       "<style scoped>\n",
       "    .dataframe tbody tr th:only-of-type {\n",
       "        vertical-align: middle;\n",
       "    }\n",
       "\n",
       "    .dataframe tbody tr th {\n",
       "        vertical-align: top;\n",
       "    }\n",
       "\n",
       "    .dataframe thead th {\n",
       "        text-align: right;\n",
       "    }\n",
       "</style>\n",
       "<table border=\"1\" class=\"dataframe\">\n",
       "  <thead>\n",
       "    <tr style=\"text-align: right;\">\n",
       "      <th></th>\n",
       "      <th>AT</th>\n",
       "      <th>AP</th>\n",
       "      <th>AH</th>\n",
       "      <th>AFDP</th>\n",
       "      <th>GTEP</th>\n",
       "      <th>TIT</th>\n",
       "      <th>TAT</th>\n",
       "      <th>TEY</th>\n",
       "      <th>CDP</th>\n",
       "      <th>CO</th>\n",
       "      <th>NOX</th>\n",
       "    </tr>\n",
       "  </thead>\n",
       "  <tbody>\n",
       "    <tr>\n",
       "      <th>count</th>\n",
       "      <td>15039.000000</td>\n",
       "      <td>15039.00000</td>\n",
       "      <td>15039.000000</td>\n",
       "      <td>15039.000000</td>\n",
       "      <td>15039.000000</td>\n",
       "      <td>15039.000000</td>\n",
       "      <td>15039.000000</td>\n",
       "      <td>15039.000000</td>\n",
       "      <td>15039.000000</td>\n",
       "      <td>15039.000000</td>\n",
       "      <td>15039.000000</td>\n",
       "    </tr>\n",
       "    <tr>\n",
       "      <th>mean</th>\n",
       "      <td>17.764381</td>\n",
       "      <td>1013.19924</td>\n",
       "      <td>79.124174</td>\n",
       "      <td>4.200294</td>\n",
       "      <td>25.419061</td>\n",
       "      <td>1083.798770</td>\n",
       "      <td>545.396183</td>\n",
       "      <td>134.188464</td>\n",
       "      <td>12.102353</td>\n",
       "      <td>1.972499</td>\n",
       "      <td>68.190934</td>\n",
       "    </tr>\n",
       "    <tr>\n",
       "      <th>std</th>\n",
       "      <td>7.574323</td>\n",
       "      <td>6.41076</td>\n",
       "      <td>13.793439</td>\n",
       "      <td>0.760197</td>\n",
       "      <td>4.173916</td>\n",
       "      <td>16.527806</td>\n",
       "      <td>7.866803</td>\n",
       "      <td>15.829717</td>\n",
       "      <td>1.103196</td>\n",
       "      <td>2.222206</td>\n",
       "      <td>10.470586</td>\n",
       "    </tr>\n",
       "    <tr>\n",
       "      <th>min</th>\n",
       "      <td>0.522300</td>\n",
       "      <td>985.85000</td>\n",
       "      <td>30.344000</td>\n",
       "      <td>2.087400</td>\n",
       "      <td>17.878000</td>\n",
       "      <td>1000.800000</td>\n",
       "      <td>512.450000</td>\n",
       "      <td>100.170000</td>\n",
       "      <td>9.904400</td>\n",
       "      <td>0.000388</td>\n",
       "      <td>27.765000</td>\n",
       "    </tr>\n",
       "    <tr>\n",
       "      <th>25%</th>\n",
       "      <td>11.408000</td>\n",
       "      <td>1008.90000</td>\n",
       "      <td>69.750000</td>\n",
       "      <td>3.723900</td>\n",
       "      <td>23.294000</td>\n",
       "      <td>1079.600000</td>\n",
       "      <td>542.170000</td>\n",
       "      <td>127.985000</td>\n",
       "      <td>11.622000</td>\n",
       "      <td>0.858055</td>\n",
       "      <td>61.303500</td>\n",
       "    </tr>\n",
       "    <tr>\n",
       "      <th>50%</th>\n",
       "      <td>18.186000</td>\n",
       "      <td>1012.80000</td>\n",
       "      <td>82.266000</td>\n",
       "      <td>4.186200</td>\n",
       "      <td>25.082000</td>\n",
       "      <td>1088.700000</td>\n",
       "      <td>549.890000</td>\n",
       "      <td>133.780000</td>\n",
       "      <td>12.025000</td>\n",
       "      <td>1.390200</td>\n",
       "      <td>66.601000</td>\n",
       "    </tr>\n",
       "    <tr>\n",
       "      <th>75%</th>\n",
       "      <td>23.862500</td>\n",
       "      <td>1016.90000</td>\n",
       "      <td>90.043500</td>\n",
       "      <td>4.550900</td>\n",
       "      <td>27.184000</td>\n",
       "      <td>1096.000000</td>\n",
       "      <td>550.060000</td>\n",
       "      <td>140.895000</td>\n",
       "      <td>12.578000</td>\n",
       "      <td>2.160400</td>\n",
       "      <td>73.935500</td>\n",
       "    </tr>\n",
       "    <tr>\n",
       "      <th>max</th>\n",
       "      <td>34.929000</td>\n",
       "      <td>1034.20000</td>\n",
       "      <td>100.200000</td>\n",
       "      <td>7.610600</td>\n",
       "      <td>37.402000</td>\n",
       "      <td>1100.800000</td>\n",
       "      <td>550.610000</td>\n",
       "      <td>174.610000</td>\n",
       "      <td>15.081000</td>\n",
       "      <td>44.103000</td>\n",
       "      <td>119.890000</td>\n",
       "    </tr>\n",
       "  </tbody>\n",
       "</table>\n",
       "</div>"
      ],
      "text/plain": [
       "                 AT           AP            AH          AFDP          GTEP  \\\n",
       "count  15039.000000  15039.00000  15039.000000  15039.000000  15039.000000   \n",
       "mean      17.764381   1013.19924     79.124174      4.200294     25.419061   \n",
       "std        7.574323      6.41076     13.793439      0.760197      4.173916   \n",
       "min        0.522300    985.85000     30.344000      2.087400     17.878000   \n",
       "25%       11.408000   1008.90000     69.750000      3.723900     23.294000   \n",
       "50%       18.186000   1012.80000     82.266000      4.186200     25.082000   \n",
       "75%       23.862500   1016.90000     90.043500      4.550900     27.184000   \n",
       "max       34.929000   1034.20000    100.200000      7.610600     37.402000   \n",
       "\n",
       "                TIT           TAT           TEY           CDP            CO  \\\n",
       "count  15039.000000  15039.000000  15039.000000  15039.000000  15039.000000   \n",
       "mean    1083.798770    545.396183    134.188464     12.102353      1.972499   \n",
       "std       16.527806      7.866803     15.829717      1.103196      2.222206   \n",
       "min     1000.800000    512.450000    100.170000      9.904400      0.000388   \n",
       "25%     1079.600000    542.170000    127.985000     11.622000      0.858055   \n",
       "50%     1088.700000    549.890000    133.780000     12.025000      1.390200   \n",
       "75%     1096.000000    550.060000    140.895000     12.578000      2.160400   \n",
       "max     1100.800000    550.610000    174.610000     15.081000     44.103000   \n",
       "\n",
       "                NOX  \n",
       "count  15039.000000  \n",
       "mean      68.190934  \n",
       "std       10.470586  \n",
       "min       27.765000  \n",
       "25%       61.303500  \n",
       "50%       66.601000  \n",
       "75%       73.935500  \n",
       "max      119.890000  "
      ]
     },
     "execution_count": 7,
     "metadata": {},
     "output_type": "execute_result"
    }
   ],
   "source": [
    "gas.describe()"
   ]
  },
  {
   "cell_type": "code",
   "execution_count": 8,
   "id": "85f2ac83",
   "metadata": {},
   "outputs": [
    {
     "name": "stdout",
     "output_type": "stream",
     "text": [
      "<class 'pandas.core.frame.DataFrame'>\n",
      "RangeIndex: 15039 entries, 0 to 15038\n",
      "Data columns (total 11 columns):\n",
      " #   Column  Non-Null Count  Dtype  \n",
      "---  ------  --------------  -----  \n",
      " 0   AT      15039 non-null  float64\n",
      " 1   AP      15039 non-null  float64\n",
      " 2   AH      15039 non-null  float64\n",
      " 3   AFDP    15039 non-null  float64\n",
      " 4   GTEP    15039 non-null  float64\n",
      " 5   TIT     15039 non-null  float64\n",
      " 6   TAT     15039 non-null  float64\n",
      " 7   TEY     15039 non-null  float64\n",
      " 8   CDP     15039 non-null  float64\n",
      " 9   CO      15039 non-null  float64\n",
      " 10  NOX     15039 non-null  float64\n",
      "dtypes: float64(11)\n",
      "memory usage: 1.3 MB\n"
     ]
    }
   ],
   "source": [
    "gas.info()"
   ]
  },
  {
   "cell_type": "code",
   "execution_count": 9,
   "id": "7f87ab3b",
   "metadata": {
    "scrolled": true
   },
   "outputs": [],
   "source": [
    "corr = gas.corr()"
   ]
  },
  {
   "cell_type": "markdown",
   "id": "4855c81c",
   "metadata": {},
   "source": [
    "#### Visulization of data parameters"
   ]
  },
  {
   "cell_type": "code",
   "execution_count": 10,
   "id": "6cb85f72",
   "metadata": {},
   "outputs": [
    {
     "name": "stderr",
     "output_type": "stream",
     "text": [
      "C:\\Users\\mohit\\AppData\\Local\\Programs\\Python\\Python37\\lib\\site-packages\\ipykernel_launcher.py:1: UserWarning: \n",
      "\n",
      "`distplot` is a deprecated function and will be removed in seaborn v0.14.0.\n",
      "\n",
      "Please adapt your code to use either `displot` (a figure-level function with\n",
      "similar flexibility) or `histplot` (an axes-level function for histograms).\n",
      "\n",
      "For a guide to updating your code to use the new functions, please see\n",
      "https://gist.github.com/mwaskom/de44147ed2974457ad6372750bbe5751\n",
      "\n",
      "  \"\"\"Entry point for launching an IPython kernel.\n"
     ]
    },
    {
     "data": {
      "image/png": "[encoded data removed]",
      "text/plain": [
       "<Figure size 432x288 with 1 Axes>"
      ]
     },
     "metadata": {
      "needs_background": "light"
     },
     "output_type": "display_data"
    }
   ],
   "source": [
    "sns.distplot(gas['AT'])\n",
    "import warnings\n",
    "warnings.filterwarnings('ignore')"
   ]
  },
  {
   "cell_type": "code",
   "execution_count": 11,
   "id": "55d51e06",
   "metadata": {},
   "outputs": [
    {
     "data": {
      "image/png": "[encoded data removed]",
      "text/plain": [
       "<Figure size 432x288 with 1 Axes>"
      ]
     },
     "metadata": {
      "needs_background": "light"
     },
     "output_type": "display_data"
    }
   ],
   "source": [
    "sns.distplot(gas['AP'])\n",
    "import warnings\n",
    "warnings.filterwarnings('ignore')"
   ]
  },
  {
   "cell_type": "code",
   "execution_count": 12,
   "id": "6568a70e",
   "metadata": {},
   "outputs": [
    {
     "data": {
      "image/png": "[encoded data removed]",
      "text/plain": [
       "<Figure size 432x288 with 1 Axes>"
      ]
     },
     "metadata": {
      "needs_background": "light"
     },
     "output_type": "display_data"
    }
   ],
   "source": [
    "sns.distplot(gas['AH'])\n",
    "import warnings\n",
    "warnings.filterwarnings('ignore')"
   ]
  },
  {
   "cell_type": "code",
   "execution_count": 13,
   "id": "e90f8511",
   "metadata": {},
   "outputs": [
    {
     "data": {
      "image/png": "[encoded data removed]",
      "text/plain": [
       "<Figure size 432x288 with 1 Axes>"
      ]
     },
     "metadata": {
      "needs_background": "light"
     },
     "output_type": "display_data"
    }
   ],
   "source": [
    "sns.distplot(gas['AFDP'])\n",
    "import warnings\n",
    "warnings.filterwarnings('ignore')"
   ]
  },
  {
   "cell_type": "code",
   "execution_count": 14,
   "id": "95b5b033",
   "metadata": {},
   "outputs": [
    {
     "data": {
      "image/png": "[encoded data removed]",
      "text/plain": [
       "<Figure size 432x288 with 1 Axes>"
      ]
     },
     "metadata": {
      "needs_background": "light"
     },
     "output_type": "display_data"
    }
   ],
   "source": [
    "sns.distplot(gas['GTEP'])\n",
    "import warnings\n",
    "warnings.filterwarnings('ignore')"
   ]
  },
  {
   "cell_type": "code",
   "execution_count": 15,
   "id": "a5ddb93b",
   "metadata": {},
   "outputs": [
    {
     "data": {
      "image/png": "[encoded data removed]",
      "text/plain": [
       "<Figure size 432x288 with 1 Axes>"
      ]
     },
     "metadata": {
      "needs_background": "light"
     },
     "output_type": "display_data"
    }
   ],
   "source": [
    "sns.distplot(gas['TIT'])\n",
    "import warnings\n",
    "warnings.filterwarnings('ignore')"
   ]
  },
  {
   "cell_type": "code",
   "execution_count": 16,
   "id": "49a631ee",
   "metadata": {},
   "outputs": [
    {
     "data": {
      "image/png": "[encoded data removed]",
      "text/plain": [
       "<Figure size 432x288 with 1 Axes>"
      ]
     },
     "metadata": {
      "needs_background": "light"
     },
     "output_type": "display_data"
    }
   ],
   "source": [
    "sns.distplot(gas['TAT'])\n",
    "import warnings\n",
    "warnings.filterwarnings('ignore')"
   ]
  },
  {
   "cell_type": "code",
   "execution_count": 17,
   "id": "0f687b46",
   "metadata": {},
   "outputs": [
    {
     "data": {
      "image/png": "[encoded data removed]",
      "text/plain": [
       "<Figure size 432x288 with 1 Axes>"
      ]
     },
     "metadata": {
      "needs_background": "light"
     },
     "output_type": "display_data"
    }
   ],
   "source": [
    "sns.distplot(gas['TEY'])\n",
    "import warnings\n",
    "warnings.filterwarnings('ignore')"
   ]
  },
  {
   "cell_type": "code",
   "execution_count": 18,
   "id": "f54cee79",
   "metadata": {},
   "outputs": [
    {
     "data": {
      "image/png": "[encoded data removed]",
      "text/plain": [
       "<Figure size 432x288 with 1 Axes>"
      ]
     },
     "metadata": {
      "needs_background": "light"
     },
     "output_type": "display_data"
    }
   ],
   "source": [
    "sns.distplot(gas['CDP'])\n",
    "import warnings\n",
    "warnings.filterwarnings('ignore')"
   ]
  },
  {
   "cell_type": "code",
   "execution_count": 19,
   "id": "080f8386",
   "metadata": {},
   "outputs": [
    {
     "data": {
      "image/png": "[encoded data removed]",
      "text/plain": [
       "<Figure size 432x288 with 1 Axes>"
      ]
     },
     "metadata": {
      "needs_background": "light"
     },
     "output_type": "display_data"
    }
   ],
   "source": [
    "sns.distplot(gas['CO'])\n",
    "import warnings\n",
    "warnings.filterwarnings('ignore')"
   ]
  },
  {
   "cell_type": "code",
   "execution_count": 11,
   "id": "51928010",
   "metadata": {},
   "outputs": [
    {
     "data": {
      "image/png": "[encoded data removed]",
      "text/plain": [
       "<Figure size 432x288 with 1 Axes>"
      ]
     },
     "metadata": {
      "needs_background": "light"
     },
     "output_type": "display_data"
    }
   ],
   "source": [
    "sns.distplot(gas['NOX'])\n",
    "import warnings\n",
    "warnings.filterwarnings('ignore')"
   ]
  },
  {
   "cell_type": "code",
   "execution_count": null,
   "id": "4ca55719",
   "metadata": {
    "scrolled": true
   },
   "outputs": [],
   "source": [
    "gas.shape, gas.size"
   ]
  },
  {
   "cell_type": "code",
   "execution_count": null,
   "id": "7f8a054e",
   "metadata": {},
   "outputs": [],
   "source": [
    "## HeatMap"
   ]
  },
  {
   "cell_type": "code",
   "execution_count": 13,
   "id": "ac3f1d19",
   "metadata": {},
   "outputs": [],
   "source": [
    "import matplotlib.pyplot as plt"
   ]
  },
  {
   "cell_type": "code",
   "execution_count": null,
   "id": "940a018b",
   "metadata": {},
   "outputs": [],
   "source": [
    "plt.figure(figsize=(20, 15))\n",
    "sns.heatmap(corr,annot=True)\n",
    "plt.show()"
   ]
  },
  {
   "cell_type": "code",
   "execution_count": null,
   "id": "b354d98f",
   "metadata": {},
   "outputs": [],
   "source": [
    "## pairplot"
   ]
  },
  {
   "cell_type": "code",
   "execution_count": null,
   "id": "b4a7c041",
   "metadata": {
    "scrolled": false
   },
   "outputs": [],
   "source": [
    "sns.pairplot(gas)"
   ]
  },
  {
   "cell_type": "code",
   "execution_count": null,
   "id": "813ef921",
   "metadata": {},
   "outputs": [],
   "source": [
    "#outlier\n",
    "plt.figure(figsize=(20,16))\n",
    "sns.boxplot(data=gas, orient=\"h\")"
   ]
  },
  {
   "cell_type": "code",
   "execution_count": 14,
   "id": "69dbaddb",
   "metadata": {
    "scrolled": true
   },
   "outputs": [
    {
     "data": {
      "text/plain": [
       "Text(0.5, 1.0, 'Histogram of the Target Column')"
      ]
     },
     "execution_count": 14,
     "metadata": {},
     "output_type": "execute_result"
    },
    {
     "data": {
      "image/png": "[encoded data removed]",
      "text/plain": [
       "<Figure size 864x720 with 1 Axes>"
      ]
     },
     "metadata": {},
     "output_type": "display_data"
    }
   ],
   "source": [
    "sns.set_style(\"darkgrid\")\n",
    "plt.figure(figsize=(12,10))\n",
    "sns.histplot(data=gas,x=\"TEY\",color=\"red\",kde=True)\n",
    "plt.axvline(x=gas[\"TEY\"].mean(),ymax=0.55,color=\"green\",linestyle='--',label=\"Mean\")\n",
    "plt.axvline(x=gas[\"TEY\"].median(),ymax=0.56,color=\"purple\",linestyle='--',label=\"Median\")\n",
    "plt.legend()\n",
    "plt.title(\"Histogram of the Target Column\")"
   ]
  },
  {
   "cell_type": "code",
   "execution_count": 15,
   "id": "adbc4774",
   "metadata": {},
   "outputs": [
    {
     "data": {
      "text/plain": [
       "Text(0.5, 1.0, 'Cumulative of the Target Column')"
      ]
     },
     "execution_count": 15,
     "metadata": {},
     "output_type": "execute_result"
    },
    {
     "data": {
      "image/png": "[encoded data removed]",
      "text/plain": [
       "<Figure size 864x720 with 1 Axes>"
      ]
     },
     "metadata": {},
     "output_type": "display_data"
    }
   ],
   "source": [
    "plt.figure(figsize = (12,10))\n",
    "sns.histplot(gas[\"TEY\"],kde=True,bins=40,color=\"red\",cumulative=True)\n",
    "plt.title(\"Cumulative of the Target Column\")"
   ]
  },
  {
   "cell_type": "code",
   "execution_count": 16,
   "id": "1447148f",
   "metadata": {},
   "outputs": [
    {
     "data": {
      "text/html": [
       "<div>\n",
       "<style scoped>\n",
       "    .dataframe tbody tr th:only-of-type {\n",
       "        vertical-align: middle;\n",
       "    }\n",
       "\n",
       "    .dataframe tbody tr th {\n",
       "        vertical-align: top;\n",
       "    }\n",
       "\n",
       "    .dataframe thead th {\n",
       "        text-align: right;\n",
       "    }\n",
       "</style>\n",
       "<table border=\"1\" class=\"dataframe\">\n",
       "  <thead>\n",
       "    <tr style=\"text-align: right;\">\n",
       "      <th></th>\n",
       "      <th>CDP</th>\n",
       "      <th>GTEP</th>\n",
       "      <th>TIT</th>\n",
       "      <th>TAT</th>\n",
       "      <th>AFDP</th>\n",
       "      <th>CO</th>\n",
       "      <th>AT</th>\n",
       "      <th>TEY</th>\n",
       "    </tr>\n",
       "  </thead>\n",
       "  <tbody>\n",
       "    <tr>\n",
       "      <th>0</th>\n",
       "      <td>10.605</td>\n",
       "      <td>19.663</td>\n",
       "      <td>1059.2</td>\n",
       "      <td>550.00</td>\n",
       "      <td>3.5000</td>\n",
       "      <td>3.1547</td>\n",
       "      <td>6.8594</td>\n",
       "      <td>114.70</td>\n",
       "    </tr>\n",
       "    <tr>\n",
       "      <th>1</th>\n",
       "      <td>10.598</td>\n",
       "      <td>19.728</td>\n",
       "      <td>1059.3</td>\n",
       "      <td>550.00</td>\n",
       "      <td>3.4998</td>\n",
       "      <td>3.2363</td>\n",
       "      <td>6.7850</td>\n",
       "      <td>114.72</td>\n",
       "    </tr>\n",
       "    <tr>\n",
       "      <th>2</th>\n",
       "      <td>10.601</td>\n",
       "      <td>19.779</td>\n",
       "      <td>1059.4</td>\n",
       "      <td>549.87</td>\n",
       "      <td>3.4824</td>\n",
       "      <td>3.2012</td>\n",
       "      <td>6.8977</td>\n",
       "      <td>114.71</td>\n",
       "    </tr>\n",
       "    <tr>\n",
       "      <th>3</th>\n",
       "      <td>10.606</td>\n",
       "      <td>19.792</td>\n",
       "      <td>1059.6</td>\n",
       "      <td>549.99</td>\n",
       "      <td>3.4805</td>\n",
       "      <td>3.1923</td>\n",
       "      <td>7.0569</td>\n",
       "      <td>114.72</td>\n",
       "    </tr>\n",
       "    <tr>\n",
       "      <th>4</th>\n",
       "      <td>10.612</td>\n",
       "      <td>19.765</td>\n",
       "      <td>1059.7</td>\n",
       "      <td>549.98</td>\n",
       "      <td>3.4976</td>\n",
       "      <td>3.2484</td>\n",
       "      <td>7.3978</td>\n",
       "      <td>114.72</td>\n",
       "    </tr>\n",
       "  </tbody>\n",
       "</table>\n",
       "</div>"
      ],
      "text/plain": [
       "      CDP    GTEP     TIT     TAT    AFDP      CO      AT     TEY\n",
       "0  10.605  19.663  1059.2  550.00  3.5000  3.1547  6.8594  114.70\n",
       "1  10.598  19.728  1059.3  550.00  3.4998  3.2363  6.7850  114.72\n",
       "2  10.601  19.779  1059.4  549.87  3.4824  3.2012  6.8977  114.71\n",
       "3  10.606  19.792  1059.6  549.99  3.4805  3.1923  7.0569  114.72\n",
       "4  10.612  19.765  1059.7  549.98  3.4976  3.2484  7.3978  114.72"
      ]
     },
     "execution_count": 16,
     "metadata": {},
     "output_type": "execute_result"
    }
   ],
   "source": [
    "model_data = gas[['CDP', 'GTEP','TIT', 'TAT', 'AFDP', 'CO', 'AT',\"TEY\"]]\n",
    "model_data.head()"
   ]
  },
  {
   "cell_type": "code",
   "execution_count": 17,
   "id": "157d6fcb",
   "metadata": {},
   "outputs": [],
   "source": [
    "x = gas.drop(['TEY'],axis=1)"
   ]
  },
  {
   "cell_type": "code",
   "execution_count": 18,
   "id": "04441e14",
   "metadata": {},
   "outputs": [],
   "source": [
    "y = gas['TEY']"
   ]
  },
  {
   "cell_type": "code",
   "execution_count": 19,
   "id": "955bc15d",
   "metadata": {},
   "outputs": [
    {
     "data": {
      "text/plain": [
       "((15039, 10), (15039,))"
      ]
     },
     "execution_count": 19,
     "metadata": {},
     "output_type": "execute_result"
    }
   ],
   "source": [
    "x.shape, y.shape"
   ]
  },
  {
   "cell_type": "markdown",
   "id": "bfe6bf54",
   "metadata": {},
   "source": [
    "#### Splitting the data into train, test"
   ]
  },
  {
   "cell_type": "code",
   "execution_count": 21,
   "id": "f5536200",
   "metadata": {
    "scrolled": true
   },
   "outputs": [],
   "source": [
    "x_train, x_test, y_train, y_test  = train_test_split(x,y,test_size=0.30,random_state=12)"
   ]
  },
  {
   "cell_type": "code",
   "execution_count": 22,
   "id": "44f8591a",
   "metadata": {},
   "outputs": [
    {
     "data": {
      "text/html": [
       "<div>\n",
       "<style scoped>\n",
       "    .dataframe tbody tr th:only-of-type {\n",
       "        vertical-align: middle;\n",
       "    }\n",
       "\n",
       "    .dataframe tbody tr th {\n",
       "        vertical-align: top;\n",
       "    }\n",
       "\n",
       "    .dataframe thead th {\n",
       "        text-align: right;\n",
       "    }\n",
       "</style>\n",
       "<table border=\"1\" class=\"dataframe\">\n",
       "  <thead>\n",
       "    <tr style=\"text-align: right;\">\n",
       "      <th></th>\n",
       "      <th>AT</th>\n",
       "      <th>AP</th>\n",
       "      <th>AH</th>\n",
       "      <th>AFDP</th>\n",
       "      <th>GTEP</th>\n",
       "      <th>TIT</th>\n",
       "      <th>TAT</th>\n",
       "      <th>CDP</th>\n",
       "      <th>CO</th>\n",
       "      <th>NOX</th>\n",
       "    </tr>\n",
       "  </thead>\n",
       "  <tbody>\n",
       "    <tr>\n",
       "      <th>11629</th>\n",
       "      <td>32.3130</td>\n",
       "      <td>1010.5</td>\n",
       "      <td>38.015</td>\n",
       "      <td>4.6424</td>\n",
       "      <td>31.230</td>\n",
       "      <td>1100.0</td>\n",
       "      <td>536.31</td>\n",
       "      <td>13.508</td>\n",
       "      <td>0.6211</td>\n",
       "      <td>58.097</td>\n",
       "    </tr>\n",
       "    <tr>\n",
       "      <th>4597</th>\n",
       "      <td>27.6930</td>\n",
       "      <td>1017.3</td>\n",
       "      <td>54.875</td>\n",
       "      <td>3.5559</td>\n",
       "      <td>20.594</td>\n",
       "      <td>1061.7</td>\n",
       "      <td>550.10</td>\n",
       "      <td>10.719</td>\n",
       "      <td>3.4761</td>\n",
       "      <td>52.384</td>\n",
       "    </tr>\n",
       "    <tr>\n",
       "      <th>4532</th>\n",
       "      <td>30.9080</td>\n",
       "      <td>1010.3</td>\n",
       "      <td>51.289</td>\n",
       "      <td>4.5602</td>\n",
       "      <td>26.725</td>\n",
       "      <td>1096.2</td>\n",
       "      <td>549.89</td>\n",
       "      <td>12.432</td>\n",
       "      <td>0.8664</td>\n",
       "      <td>67.263</td>\n",
       "    </tr>\n",
       "    <tr>\n",
       "      <th>7531</th>\n",
       "      <td>12.1870</td>\n",
       "      <td>1017.2</td>\n",
       "      <td>92.389</td>\n",
       "      <td>2.8928</td>\n",
       "      <td>24.009</td>\n",
       "      <td>1084.1</td>\n",
       "      <td>550.20</td>\n",
       "      <td>11.792</td>\n",
       "      <td>1.6454</td>\n",
       "      <td>72.874</td>\n",
       "    </tr>\n",
       "    <tr>\n",
       "      <th>11594</th>\n",
       "      <td>20.2600</td>\n",
       "      <td>1005.6</td>\n",
       "      <td>86.535</td>\n",
       "      <td>3.1074</td>\n",
       "      <td>20.254</td>\n",
       "      <td>1060.3</td>\n",
       "      <td>549.97</td>\n",
       "      <td>10.671</td>\n",
       "      <td>1.6159</td>\n",
       "      <td>58.828</td>\n",
       "    </tr>\n",
       "    <tr>\n",
       "      <th>...</th>\n",
       "      <td>...</td>\n",
       "      <td>...</td>\n",
       "      <td>...</td>\n",
       "      <td>...</td>\n",
       "      <td>...</td>\n",
       "      <td>...</td>\n",
       "      <td>...</td>\n",
       "      <td>...</td>\n",
       "      <td>...</td>\n",
       "      <td>...</td>\n",
       "    </tr>\n",
       "    <tr>\n",
       "      <th>7409</th>\n",
       "      <td>1.7359</td>\n",
       "      <td>1013.7</td>\n",
       "      <td>84.242</td>\n",
       "      <td>3.1256</td>\n",
       "      <td>19.408</td>\n",
       "      <td>1058.8</td>\n",
       "      <td>550.07</td>\n",
       "      <td>10.650</td>\n",
       "      <td>4.4532</td>\n",
       "      <td>104.500</td>\n",
       "    </tr>\n",
       "    <tr>\n",
       "      <th>3325</th>\n",
       "      <td>25.2290</td>\n",
       "      <td>1011.6</td>\n",
       "      <td>86.805</td>\n",
       "      <td>4.1153</td>\n",
       "      <td>25.639</td>\n",
       "      <td>1090.0</td>\n",
       "      <td>550.04</td>\n",
       "      <td>12.052</td>\n",
       "      <td>1.9004</td>\n",
       "      <td>59.325</td>\n",
       "    </tr>\n",
       "    <tr>\n",
       "      <th>9606</th>\n",
       "      <td>11.8390</td>\n",
       "      <td>1015.6</td>\n",
       "      <td>90.342</td>\n",
       "      <td>4.3896</td>\n",
       "      <td>24.022</td>\n",
       "      <td>1085.8</td>\n",
       "      <td>550.18</td>\n",
       "      <td>11.921</td>\n",
       "      <td>1.1484</td>\n",
       "      <td>74.475</td>\n",
       "    </tr>\n",
       "    <tr>\n",
       "      <th>5787</th>\n",
       "      <td>14.3700</td>\n",
       "      <td>1013.6</td>\n",
       "      <td>81.577</td>\n",
       "      <td>3.3633</td>\n",
       "      <td>19.074</td>\n",
       "      <td>1054.4</td>\n",
       "      <td>550.00</td>\n",
       "      <td>10.343</td>\n",
       "      <td>6.2460</td>\n",
       "      <td>74.181</td>\n",
       "    </tr>\n",
       "    <tr>\n",
       "      <th>14155</th>\n",
       "      <td>11.0090</td>\n",
       "      <td>1022.6</td>\n",
       "      <td>74.230</td>\n",
       "      <td>5.1745</td>\n",
       "      <td>33.198</td>\n",
       "      <td>1099.8</td>\n",
       "      <td>526.15</td>\n",
       "      <td>14.127</td>\n",
       "      <td>0.8443</td>\n",
       "      <td>66.364</td>\n",
       "    </tr>\n",
       "  </tbody>\n",
       "</table>\n",
       "<p>10527 rows × 10 columns</p>\n",
       "</div>"
      ],
      "text/plain": [
       "            AT      AP      AH    AFDP    GTEP     TIT     TAT     CDP  \\\n",
       "11629  32.3130  1010.5  38.015  4.6424  31.230  1100.0  536.31  13.508   \n",
       "4597   27.6930  1017.3  54.875  3.5559  20.594  1061.7  550.10  10.719   \n",
       "4532   30.9080  1010.3  51.289  4.5602  26.725  1096.2  549.89  12.432   \n",
       "7531   12.1870  1017.2  92.389  2.8928  24.009  1084.1  550.20  11.792   \n",
       "11594  20.2600  1005.6  86.535  3.1074  20.254  1060.3  549.97  10.671   \n",
       "...        ...     ...     ...     ...     ...     ...     ...     ...   \n",
       "7409    1.7359  1013.7  84.242  3.1256  19.408  1058.8  550.07  10.650   \n",
       "3325   25.2290  1011.6  86.805  4.1153  25.639  1090.0  550.04  12.052   \n",
       "9606   11.8390  1015.6  90.342  4.3896  24.022  1085.8  550.18  11.921   \n",
       "5787   14.3700  1013.6  81.577  3.3633  19.074  1054.4  550.00  10.343   \n",
       "14155  11.0090  1022.6  74.230  5.1745  33.198  1099.8  526.15  14.127   \n",
       "\n",
       "           CO      NOX  \n",
       "11629  0.6211   58.097  \n",
       "4597   3.4761   52.384  \n",
       "4532   0.8664   67.263  \n",
       "7531   1.6454   72.874  \n",
       "11594  1.6159   58.828  \n",
       "...       ...      ...  \n",
       "7409   4.4532  104.500  \n",
       "3325   1.9004   59.325  \n",
       "9606   1.1484   74.475  \n",
       "5787   6.2460   74.181  \n",
       "14155  0.8443   66.364  \n",
       "\n",
       "[10527 rows x 10 columns]"
      ]
     },
     "execution_count": 22,
     "metadata": {},
     "output_type": "execute_result"
    }
   ],
   "source": [
    "x_train"
   ]
  },
  {
   "cell_type": "code",
   "execution_count": 23,
   "id": "1eb6a722",
   "metadata": {},
   "outputs": [
    {
     "data": {
      "text/plain": [
       "((10527, 10), (10527,))"
      ]
     },
     "execution_count": 23,
     "metadata": {},
     "output_type": "execute_result"
    }
   ],
   "source": [
    "x_train.shape, y_train.shape"
   ]
  },
  {
   "cell_type": "code",
   "execution_count": 24,
   "id": "3deca04f",
   "metadata": {},
   "outputs": [
    {
     "data": {
      "text/html": [
       "<div>\n",
       "<style scoped>\n",
       "    .dataframe tbody tr th:only-of-type {\n",
       "        vertical-align: middle;\n",
       "    }\n",
       "\n",
       "    .dataframe tbody tr th {\n",
       "        vertical-align: top;\n",
       "    }\n",
       "\n",
       "    .dataframe thead th {\n",
       "        text-align: right;\n",
       "    }\n",
       "</style>\n",
       "<table border=\"1\" class=\"dataframe\">\n",
       "  <thead>\n",
       "    <tr style=\"text-align: right;\">\n",
       "      <th></th>\n",
       "      <th>AT</th>\n",
       "      <th>AP</th>\n",
       "      <th>AH</th>\n",
       "      <th>AFDP</th>\n",
       "      <th>GTEP</th>\n",
       "      <th>TIT</th>\n",
       "      <th>TAT</th>\n",
       "      <th>CDP</th>\n",
       "      <th>CO</th>\n",
       "      <th>NOX</th>\n",
       "    </tr>\n",
       "  </thead>\n",
       "  <tbody>\n",
       "    <tr>\n",
       "      <th>11629</th>\n",
       "      <td>32.3130</td>\n",
       "      <td>1010.5</td>\n",
       "      <td>38.015</td>\n",
       "      <td>4.6424</td>\n",
       "      <td>31.230</td>\n",
       "      <td>1100.0</td>\n",
       "      <td>536.31</td>\n",
       "      <td>13.508</td>\n",
       "      <td>0.6211</td>\n",
       "      <td>58.097</td>\n",
       "    </tr>\n",
       "    <tr>\n",
       "      <th>4597</th>\n",
       "      <td>27.6930</td>\n",
       "      <td>1017.3</td>\n",
       "      <td>54.875</td>\n",
       "      <td>3.5559</td>\n",
       "      <td>20.594</td>\n",
       "      <td>1061.7</td>\n",
       "      <td>550.10</td>\n",
       "      <td>10.719</td>\n",
       "      <td>3.4761</td>\n",
       "      <td>52.384</td>\n",
       "    </tr>\n",
       "    <tr>\n",
       "      <th>4532</th>\n",
       "      <td>30.9080</td>\n",
       "      <td>1010.3</td>\n",
       "      <td>51.289</td>\n",
       "      <td>4.5602</td>\n",
       "      <td>26.725</td>\n",
       "      <td>1096.2</td>\n",
       "      <td>549.89</td>\n",
       "      <td>12.432</td>\n",
       "      <td>0.8664</td>\n",
       "      <td>67.263</td>\n",
       "    </tr>\n",
       "    <tr>\n",
       "      <th>7531</th>\n",
       "      <td>12.1870</td>\n",
       "      <td>1017.2</td>\n",
       "      <td>92.389</td>\n",
       "      <td>2.8928</td>\n",
       "      <td>24.009</td>\n",
       "      <td>1084.1</td>\n",
       "      <td>550.20</td>\n",
       "      <td>11.792</td>\n",
       "      <td>1.6454</td>\n",
       "      <td>72.874</td>\n",
       "    </tr>\n",
       "    <tr>\n",
       "      <th>11594</th>\n",
       "      <td>20.2600</td>\n",
       "      <td>1005.6</td>\n",
       "      <td>86.535</td>\n",
       "      <td>3.1074</td>\n",
       "      <td>20.254</td>\n",
       "      <td>1060.3</td>\n",
       "      <td>549.97</td>\n",
       "      <td>10.671</td>\n",
       "      <td>1.6159</td>\n",
       "      <td>58.828</td>\n",
       "    </tr>\n",
       "    <tr>\n",
       "      <th>...</th>\n",
       "      <td>...</td>\n",
       "      <td>...</td>\n",
       "      <td>...</td>\n",
       "      <td>...</td>\n",
       "      <td>...</td>\n",
       "      <td>...</td>\n",
       "      <td>...</td>\n",
       "      <td>...</td>\n",
       "      <td>...</td>\n",
       "      <td>...</td>\n",
       "    </tr>\n",
       "    <tr>\n",
       "      <th>7409</th>\n",
       "      <td>1.7359</td>\n",
       "      <td>1013.7</td>\n",
       "      <td>84.242</td>\n",
       "      <td>3.1256</td>\n",
       "      <td>19.408</td>\n",
       "      <td>1058.8</td>\n",
       "      <td>550.07</td>\n",
       "      <td>10.650</td>\n",
       "      <td>4.4532</td>\n",
       "      <td>104.500</td>\n",
       "    </tr>\n",
       "    <tr>\n",
       "      <th>3325</th>\n",
       "      <td>25.2290</td>\n",
       "      <td>1011.6</td>\n",
       "      <td>86.805</td>\n",
       "      <td>4.1153</td>\n",
       "      <td>25.639</td>\n",
       "      <td>1090.0</td>\n",
       "      <td>550.04</td>\n",
       "      <td>12.052</td>\n",
       "      <td>1.9004</td>\n",
       "      <td>59.325</td>\n",
       "    </tr>\n",
       "    <tr>\n",
       "      <th>9606</th>\n",
       "      <td>11.8390</td>\n",
       "      <td>1015.6</td>\n",
       "      <td>90.342</td>\n",
       "      <td>4.3896</td>\n",
       "      <td>24.022</td>\n",
       "      <td>1085.8</td>\n",
       "      <td>550.18</td>\n",
       "      <td>11.921</td>\n",
       "      <td>1.1484</td>\n",
       "      <td>74.475</td>\n",
       "    </tr>\n",
       "    <tr>\n",
       "      <th>5787</th>\n",
       "      <td>14.3700</td>\n",
       "      <td>1013.6</td>\n",
       "      <td>81.577</td>\n",
       "      <td>3.3633</td>\n",
       "      <td>19.074</td>\n",
       "      <td>1054.4</td>\n",
       "      <td>550.00</td>\n",
       "      <td>10.343</td>\n",
       "      <td>6.2460</td>\n",
       "      <td>74.181</td>\n",
       "    </tr>\n",
       "    <tr>\n",
       "      <th>14155</th>\n",
       "      <td>11.0090</td>\n",
       "      <td>1022.6</td>\n",
       "      <td>74.230</td>\n",
       "      <td>5.1745</td>\n",
       "      <td>33.198</td>\n",
       "      <td>1099.8</td>\n",
       "      <td>526.15</td>\n",
       "      <td>14.127</td>\n",
       "      <td>0.8443</td>\n",
       "      <td>66.364</td>\n",
       "    </tr>\n",
       "  </tbody>\n",
       "</table>\n",
       "<p>10527 rows × 10 columns</p>\n",
       "</div>"
      ],
      "text/plain": [
       "            AT      AP      AH    AFDP    GTEP     TIT     TAT     CDP  \\\n",
       "11629  32.3130  1010.5  38.015  4.6424  31.230  1100.0  536.31  13.508   \n",
       "4597   27.6930  1017.3  54.875  3.5559  20.594  1061.7  550.10  10.719   \n",
       "4532   30.9080  1010.3  51.289  4.5602  26.725  1096.2  549.89  12.432   \n",
       "7531   12.1870  1017.2  92.389  2.8928  24.009  1084.1  550.20  11.792   \n",
       "11594  20.2600  1005.6  86.535  3.1074  20.254  1060.3  549.97  10.671   \n",
       "...        ...     ...     ...     ...     ...     ...     ...     ...   \n",
       "7409    1.7359  1013.7  84.242  3.1256  19.408  1058.8  550.07  10.650   \n",
       "3325   25.2290  1011.6  86.805  4.1153  25.639  1090.0  550.04  12.052   \n",
       "9606   11.8390  1015.6  90.342  4.3896  24.022  1085.8  550.18  11.921   \n",
       "5787   14.3700  1013.6  81.577  3.3633  19.074  1054.4  550.00  10.343   \n",
       "14155  11.0090  1022.6  74.230  5.1745  33.198  1099.8  526.15  14.127   \n",
       "\n",
       "           CO      NOX  \n",
       "11629  0.6211   58.097  \n",
       "4597   3.4761   52.384  \n",
       "4532   0.8664   67.263  \n",
       "7531   1.6454   72.874  \n",
       "11594  1.6159   58.828  \n",
       "...       ...      ...  \n",
       "7409   4.4532  104.500  \n",
       "3325   1.9004   59.325  \n",
       "9606   1.1484   74.475  \n",
       "5787   6.2460   74.181  \n",
       "14155  0.8443   66.364  \n",
       "\n",
       "[10527 rows x 10 columns]"
      ]
     },
     "execution_count": 24,
     "metadata": {},
     "output_type": "execute_result"
    }
   ],
   "source": [
    "x_train"
   ]
  },
  {
   "cell_type": "markdown",
   "id": "f8c1e9e9",
   "metadata": {},
   "source": [
    "#### Convert Data into standard scale"
   ]
  },
  {
   "cell_type": "code",
   "execution_count": 25,
   "id": "f29d92b0",
   "metadata": {},
   "outputs": [
    {
     "data": {
      "text/plain": [
       "11629    150.96\n",
       "4597     110.78\n",
       "4532     134.78\n",
       "7531     133.05\n",
       "11594    113.18\n",
       "          ...  \n",
       "7409     113.45\n",
       "3325     132.67\n",
       "9606     133.68\n",
       "5787     110.04\n",
       "14155    162.55\n",
       "Name: TEY, Length: 10527, dtype: float64"
      ]
     },
     "execution_count": 25,
     "metadata": {},
     "output_type": "execute_result"
    }
   ],
   "source": [
    "y_train"
   ]
  },
  {
   "cell_type": "markdown",
   "id": "6066d821",
   "metadata": {},
   "source": [
    "#### Convert Data into standard scale"
   ]
  },
  {
   "cell_type": "code",
   "execution_count": 26,
   "id": "e045031f",
   "metadata": {},
   "outputs": [
    {
     "data": {
      "text/plain": [
       "array([[0.92466704, 0.50666112, 0.10981161, ..., 0.69470538, 0.014001  ,\n",
       "        0.33072017],\n",
       "       [0.79028932, 0.64820983, 0.35116525, ..., 0.15340424, 0.0787412 ,\n",
       "        0.26842937],\n",
       "       [0.88380109, 0.50249792, 0.29983108, ..., 0.48587066, 0.01956344,\n",
       "        0.4306602 ],\n",
       "       ...,\n",
       "       [0.32915851, 0.61282265, 0.85888113, ..., 0.38669358, 0.02595809,\n",
       "        0.5092951 ],\n",
       "       [0.40277539, 0.57119067, 0.73340873, ..., 0.08042854, 0.14155168,\n",
       "        0.50608952],\n",
       "       [0.30501706, 0.75853455, 0.62823523, ..., 0.81484357, 0.0190623 ,\n",
       "        0.42085809]])"
      ]
     },
     "execution_count": 26,
     "metadata": {},
     "output_type": "execute_result"
    }
   ],
   "source": [
    "scale = MinMaxScaler()\n",
    "x_train_scaled = scale.fit_transform(x_train)\n",
    "x_train_scaled"
   ]
  },
  {
   "cell_type": "code",
   "execution_count": 27,
   "id": "bc1fb2c2",
   "metadata": {},
   "outputs": [
    {
     "data": {
      "text/plain": [
       "array([[0.48901631, 0.64730729, 0.79559177, ..., 0.14251161, 0.2722068 ,\n",
       "        0.36474603],\n",
       "       [0.42593371, 0.7001056 , 0.80973386, ..., 0.32060235, 0.05263161,\n",
       "        0.26401103],\n",
       "       [0.18358237, 0.55860612, 0.88941321, ..., 0.34498498, 0.0277572 ,\n",
       "        0.50666754],\n",
       "       ...,\n",
       "       [0.2904598 , 0.76768743, 0.90370186, ..., 0.1300277 , 0.11084235,\n",
       "        0.55078094],\n",
       "       [0.30325196, 0.79725449, 0.39893898, ..., 0.8041587 , 0.01123793,\n",
       "        0.26743667],\n",
       "       [0.37655072, 0.48468849, 0.99897415, ..., 0.28471111, 0.73249871,\n",
       "        0.35924662]])"
      ]
     },
     "execution_count": 27,
     "metadata": {},
     "output_type": "execute_result"
    }
   ],
   "source": [
    "x_test_scaled = scale.fit_transform(x_test)\n",
    "x_test_scaled"
   ]
  },
  {
   "cell_type": "markdown",
   "id": "3c9234da",
   "metadata": {},
   "source": [
    "### Model Training"
   ]
  },
  {
   "cell_type": "markdown",
   "id": "082b1531",
   "metadata": {},
   "source": [
    "Tuning of Hyperparameter : Batch size and Epoch"
   ]
  },
  {
   "cell_type": "code",
   "execution_count": 28,
   "id": "2074e37a",
   "metadata": {},
   "outputs": [],
   "source": [
    "from keras.models import Sequential\n",
    "from keras.layers import Dense\n",
    "from sklearn.datasets import make_regression\n",
    "from sklearn.model_selection import train_test_split\n",
    "from sklearn.preprocessing import StandardScaler\n",
    "from sklearn.pipeline import Pipeline\n",
    "from keras.wrappers.scikit_learn import KerasRegressor\n",
    "from keras.models import Sequential\n",
    "from keras.layers import Dense\n",
    "\n",
    "\n"
   ]
  },
  {
   "cell_type": "code",
   "execution_count": 3,
   "id": "36a0d789",
   "metadata": {},
   "outputs": [],
   "source": [
    "def build_model(hp):\n",
    "    model =Sequential()\n",
    "    for i in range(hp.Int('num_layers', 2, 20)):\n",
    "        model.add(layers.Dense(units=hp.Int('units_' + str(i),\n",
    "                                            min_value=32,\n",
    "                                            max_value=100,\n",
    "                                            step=32),\n",
    "                               activation='relu'))\n",
    "    model.add(layers.Dense(1, activation='linear'))\n",
    "    model.compile(\n",
    "        optimizer=keras.optimizers.Adam(\n",
    "            hp.Choice('learning_rate', [1e-2, 1e-3, 1e-4])),\n",
    "        loss='mean_absolute_error',\n",
    "        metrics=['mean_absolute_error'])\n",
    "    return model"
   ]
  },
  {
   "cell_type": "code",
   "execution_count": 30,
   "id": "fd624ebf",
   "metadata": {},
   "outputs": [
    {
     "name": "stdout",
     "output_type": "stream",
     "text": [
      "Requirement already satisfied: keras-tuner in c:\\users\\mohit\\appdata\\local\\programs\\python\\python37\\lib\\site-packages (1.4.6)\n",
      "Requirement already satisfied: keras in c:\\users\\mohit\\appdata\\local\\programs\\python\\python37\\lib\\site-packages (from keras-tuner) (2.11.0)\n",
      "Requirement already satisfied: requests in c:\\users\\mohit\\appdata\\local\\programs\\python\\python37\\lib\\site-packages (from keras-tuner) (2.25.1)\n",
      "Requirement already satisfied: kt-legacy in c:\\users\\mohit\\appdata\\local\\programs\\python\\python37\\lib\\site-packages (from keras-tuner) (1.0.5)\n",
      "Requirement already satisfied: packaging in c:\\users\\mohit\\appdata\\roaming\\python\\python37\\site-packages (from keras-tuner) (21.0)\n",
      "Requirement already satisfied: pyparsing>=2.0.2 in c:\\users\\mohit\\appdata\\local\\programs\\python\\python37\\lib\\site-packages (from packaging->keras-tuner) (2.4.6)\n",
      "Requirement already satisfied: idna<3,>=2.5 in c:\\users\\mohit\\appdata\\local\\programs\\python\\python37\\lib\\site-packages (from requests->keras-tuner) (2.10)\n",
      "Requirement already satisfied: chardet<5,>=3.0.2 in c:\\users\\mohit\\appdata\\local\\programs\\python\\python37\\lib\\site-packages (from requests->keras-tuner) (4.0.0)\n",
      "Requirement already satisfied: certifi>=2017.4.17 in c:\\users\\mohit\\appdata\\local\\programs\\python\\python37\\lib\\site-packages (from requests->keras-tuner) (2021.10.8)\n",
      "Requirement already satisfied: urllib3<1.27,>=1.21.1 in c:\\users\\mohit\\appdata\\local\\programs\\python\\python37\\lib\\site-packages (from requests->keras-tuner) (1.26.11)\n",
      "Note: you may need to restart the kernel to use updated packages.\n"
     ]
    },
    {
     "name": "stderr",
     "output_type": "stream",
     "text": [
      "WARNING: Ignoring invalid distribution -atplotlib (c:\\users\\mohit\\appdata\\local\\programs\\python\\python37\\lib\\site-packages)\n",
      "WARNING: Ignoring invalid distribution -atplotlib (c:\\users\\mohit\\appdata\\local\\programs\\python\\python37\\lib\\site-packages)\n",
      "WARNING: Ignoring invalid distribution -atplotlib (c:\\users\\mohit\\appdata\\local\\programs\\python\\python37\\lib\\site-packages)\n",
      "WARNING: Ignoring invalid distribution -atplotlib (c:\\users\\mohit\\appdata\\local\\programs\\python\\python37\\lib\\site-packages)\n",
      "WARNING: Ignoring invalid distribution -atplotlib (c:\\users\\mohit\\appdata\\local\\programs\\python\\python37\\lib\\site-packages)\n",
      "WARNING: Ignoring invalid distribution -atplotlib (c:\\users\\mohit\\appdata\\local\\programs\\python\\python37\\lib\\site-packages)\n",
      "\n",
      "[notice] A new release of pip is available: 23.0 -> 23.3.1\n",
      "[notice] To update, run: python.exe -m pip install --upgrade pip\n"
     ]
    }
   ],
   "source": [
    "pip install keras-tuner\n"
   ]
  },
  {
   "cell_type": "code",
   "execution_count": 31,
   "id": "d793a53d",
   "metadata": {},
   "outputs": [
    {
     "name": "stdout",
     "output_type": "stream",
     "text": [
      "Reloading Tuner from project\\Gas Turbine\\tuner0.json\n"
     ]
    }
   ],
   "source": [
    "from kerastuner.tuners import RandomSearch\n",
    "from keras.optimizers import Adam\n",
    "from keras.optimizers import Adam\n",
    "from kerastuner.tuners import RandomSearch\n",
    "from tensorflow.keras import layers\n",
    "from tensorflow import keras\n",
    "from keras.models import Sequential\n",
    "from keras.layers import Dense\n",
    "from keras.layers import Dropout\n",
    "from keras.utils import np_utils\n",
    "from keras.constraints import maxnorm\n",
    "from keras.wrappers.scikit_learn import KerasRegressor, KerasClassifier\n",
    "from sklearn.feature_selection import SelectKBest\n",
    "from sklearn.feature_selection import mutual_info_regression\n",
    "tuner = RandomSearch(build_model,objective='val_mean_absolute_error',max_trials=5,  executions_per_trial=3,directory='project',project_name='Gas Turbine')\n"
   ]
  },
  {
   "cell_type": "code",
   "execution_count": 32,
   "id": "3fce4906",
   "metadata": {},
   "outputs": [
    {
     "name": "stdout",
     "output_type": "stream",
     "text": [
      "Reloading Tuner from project\\Gas Turbine\\tuner0.json\n"
     ]
    }
   ],
   "source": [
    "tuner = RandomSearch(build_model,objective='val_mean_absolute_error',max_trials=5,  executions_per_trial=3,directory='project',project_name='Gas Turbine')\n"
   ]
  },
  {
   "cell_type": "code",
   "execution_count": 33,
   "id": "e7945c45",
   "metadata": {},
   "outputs": [
    {
     "name": "stdout",
     "output_type": "stream",
     "text": [
      "Search space summary\n",
      "Default search space size: 17\n",
      "num_layers (Int)\n",
      "{'default': None, 'conditions': [], 'min_value': 2, 'max_value': 20, 'step': 1, 'sampling': 'linear'}\n",
      "units_0 (Int)\n",
      "{'default': None, 'conditions': [], 'min_value': 32, 'max_value': 100, 'step': 32, 'sampling': 'linear'}\n",
      "units_1 (Int)\n",
      "{'default': None, 'conditions': [], 'min_value': 32, 'max_value': 100, 'step': 32, 'sampling': 'linear'}\n",
      "learning_rate (Choice)\n",
      "{'default': 0.01, 'conditions': [], 'values': [0.01, 0.001, 0.0001], 'ordered': True}\n",
      "units_2 (Int)\n",
      "{'default': None, 'conditions': [], 'min_value': 32, 'max_value': 100, 'step': 32, 'sampling': 'linear'}\n",
      "units_3 (Int)\n",
      "{'default': None, 'conditions': [], 'min_value': 32, 'max_value': 100, 'step': 32, 'sampling': 'linear'}\n",
      "units_4 (Int)\n",
      "{'default': None, 'conditions': [], 'min_value': 32, 'max_value': 100, 'step': 32, 'sampling': 'linear'}\n",
      "units_5 (Int)\n",
      "{'default': None, 'conditions': [], 'min_value': 32, 'max_value': 100, 'step': 32, 'sampling': 'linear'}\n",
      "units_6 (Int)\n",
      "{'default': None, 'conditions': [], 'min_value': 32, 'max_value': 100, 'step': 32, 'sampling': 'linear'}\n",
      "units_7 (Int)\n",
      "{'default': None, 'conditions': [], 'min_value': 32, 'max_value': 100, 'step': 32, 'sampling': 'linear'}\n",
      "units_8 (Int)\n",
      "{'default': None, 'conditions': [], 'min_value': 32, 'max_value': 100, 'step': 32, 'sampling': 'linear'}\n",
      "units_9 (Int)\n",
      "{'default': None, 'conditions': [], 'min_value': 32, 'max_value': 100, 'step': 32, 'sampling': 'linear'}\n",
      "units_10 (Int)\n",
      "{'default': None, 'conditions': [], 'min_value': 32, 'max_value': 100, 'step': 32, 'sampling': 'linear'}\n",
      "units_11 (Int)\n",
      "{'default': None, 'conditions': [], 'min_value': 32, 'max_value': 100, 'step': 32, 'sampling': 'linear'}\n",
      "units_12 (Int)\n",
      "{'default': None, 'conditions': [], 'min_value': 32, 'max_value': 100, 'step': 32, 'sampling': 'linear'}\n",
      "units_13 (Int)\n",
      "{'default': None, 'conditions': [], 'min_value': 32, 'max_value': 100, 'step': 32, 'sampling': 'linear'}\n",
      "units_14 (Int)\n",
      "{'default': None, 'conditions': [], 'min_value': 32, 'max_value': 100, 'step': 32, 'sampling': 'linear'}\n"
     ]
    }
   ],
   "source": [
    "tuner.search_space_summary()\n"
   ]
  },
  {
   "cell_type": "code",
   "execution_count": 34,
   "id": "8176d319",
   "metadata": {},
   "outputs": [],
   "source": [
    "tuner.search(x_train, y_train,epochs=50,validation_data=(x_test, y_test))"
   ]
  },
  {
   "cell_type": "code",
   "execution_count": 35,
   "id": "7dd13b11",
   "metadata": {},
   "outputs": [
    {
     "name": "stdout",
     "output_type": "stream",
     "text": [
      "Results summary\n",
      "Results in project\\Gas Turbine\n",
      "Showing 10 best trials\n",
      "Objective(name=\"val_mean_absolute_error\", direction=\"min\")\n",
      "\n",
      "Trial 3 summary\n",
      "Hyperparameters:\n",
      "num_layers: 2\n",
      "units_0: 96\n",
      "units_1: 64\n",
      "learning_rate: 0.001\n",
      "units_2: 32\n",
      "units_3: 96\n",
      "units_4: 96\n",
      "units_5: 32\n",
      "units_6: 96\n",
      "units_7: 96\n",
      "units_8: 64\n",
      "units_9: 32\n",
      "units_10: 64\n",
      "units_11: 96\n",
      "units_12: 32\n",
      "units_13: 64\n",
      "units_14: 32\n",
      "Score: 0.6395236651102701\n",
      "\n",
      "Trial 0 summary\n",
      "Hyperparameters:\n",
      "num_layers: 13\n",
      "units_0: 64\n",
      "units_1: 32\n",
      "learning_rate: 0.0001\n",
      "units_2: 32\n",
      "units_3: 32\n",
      "units_4: 32\n",
      "units_5: 32\n",
      "units_6: 32\n",
      "units_7: 32\n",
      "units_8: 32\n",
      "units_9: 32\n",
      "units_10: 32\n",
      "units_11: 32\n",
      "units_12: 32\n",
      "Score: 0.7329615751902262\n",
      "\n",
      "Trial 1 summary\n",
      "Hyperparameters:\n",
      "num_layers: 15\n",
      "units_0: 64\n",
      "units_1: 32\n",
      "learning_rate: 0.001\n",
      "units_2: 96\n",
      "units_3: 64\n",
      "units_4: 64\n",
      "units_5: 32\n",
      "units_6: 64\n",
      "units_7: 96\n",
      "units_8: 32\n",
      "units_9: 64\n",
      "units_10: 96\n",
      "units_11: 96\n",
      "units_12: 64\n",
      "units_13: 32\n",
      "units_14: 32\n",
      "Score: 0.768700897693634\n",
      "\n",
      "Trial 2 summary\n",
      "Hyperparameters:\n",
      "num_layers: 2\n",
      "units_0: 32\n",
      "units_1: 32\n",
      "learning_rate: 0.0001\n",
      "units_2: 64\n",
      "units_3: 64\n",
      "units_4: 96\n",
      "units_5: 96\n",
      "units_6: 96\n",
      "units_7: 64\n",
      "units_8: 64\n",
      "units_9: 96\n",
      "units_10: 32\n",
      "units_11: 32\n",
      "units_12: 32\n",
      "units_13: 96\n",
      "units_14: 32\n",
      "Score: 0.8459814786911011\n",
      "\n",
      "Trial 4 summary\n",
      "Hyperparameters:\n",
      "num_layers: 3\n",
      "units_0: 64\n",
      "units_1: 96\n",
      "learning_rate: 0.01\n",
      "units_2: 96\n",
      "units_3: 32\n",
      "units_4: 64\n",
      "units_5: 32\n",
      "units_6: 96\n",
      "units_7: 96\n",
      "units_8: 96\n",
      "units_9: 64\n",
      "units_10: 64\n",
      "units_11: 64\n",
      "units_12: 96\n",
      "units_13: 64\n",
      "units_14: 32\n",
      "Score: 0.8570952812830607\n"
     ]
    }
   ],
   "source": [
    "tuner.results_summary()\n"
   ]
  },
  {
   "cell_type": "markdown",
   "id": "7a64923e",
   "metadata": {},
   "source": [
    "#### Hyperparameter Tuning: Optimal Batch_size, Number of Epochs"
   ]
  },
  {
   "cell_type": "code",
   "execution_count": 36,
   "id": "beb63810",
   "metadata": {},
   "outputs": [],
   "source": [
    "def create_model():\n",
    "    model1 = Sequential()\n",
    "    model1.add(Dense(32,input_dim=10,activation='relu'))\n",
    "    model1.add(Dense(64,activation='relu'))\n",
    "    model1.add(Dense(96,activation=\"relu\"))\n",
    "    model1.add(Dense(32,activation=\"relu\"))\n",
    "    model1.add(Dense(64,activation=\"relu\"))\n",
    "    model1.add(Dense(32,activation=\"relu\"))\n",
    "    model1.add(Dense(96,activation=\"relu\"))\n",
    "    model1.add(Dense(96,activation=\"relu\"))\n",
    "    model1.add(Dense(32,activation=\"relu\"))\n",
    "    model1.add(Dense(64,activation=\"relu\"))\n",
    "    model1.add(Dense(64,activation=\"relu\"))\n",
    "    model1.add(Dense(units=1,activation=\"linear\"))\n",
    "    \n",
    "    adam=Adam(learning_rate=0.001)\n",
    "    model1.compile(loss='mean_absolute_error',optimizer = adam,metrics=[\"mean_absolute_error\"])\n",
    "    return model1"
   ]
  },
  {
   "cell_type": "code",
   "execution_count": 37,
   "id": "6b5276d8",
   "metadata": {},
   "outputs": [],
   "source": [
    "model1 =KerasRegressor(build_fn=create_model,verbose=0)\n",
    "batch_size=[10,20]\n",
    "epochs=[10,50,100]\n",
    "param_grid=dict(batch_size=batch_size,epochs=epochs)\n",
    "grid = GridSearchCV(estimator=model1,param_grid=param_grid,cv=KFold(),verbose=10)"
   ]
  },
  {
   "cell_type": "code",
   "execution_count": 38,
   "id": "2b3218ef",
   "metadata": {},
   "outputs": [
    {
     "data": {
      "text/plain": [
       "GridSearchCV(cv=KFold(n_splits=5, random_state=None, shuffle=False),\n",
       "             estimator=<keras.wrappers.scikit_learn.KerasRegressor object at 0x0000023097498B48>,\n",
       "             param_grid={'batch_size': [10, 20], 'epochs': [10, 50, 100]},\n",
       "             verbose=10)"
      ]
     },
     "execution_count": 38,
     "metadata": {},
     "output_type": "execute_result"
    }
   ],
   "source": [
    "grid"
   ]
  },
  {
   "cell_type": "code",
   "execution_count": 39,
   "id": "31e16a0c",
   "metadata": {},
   "outputs": [
    {
     "name": "stdout",
     "output_type": "stream",
     "text": [
      "Fitting 5 folds for each of 6 candidates, totalling 30 fits\n",
      "[CV 1/5; 1/6] START batch_size=10, epochs=10....................................\n",
      "[CV 1/5; 1/6] END ....batch_size=10, epochs=10;, score=-1.052 total time=  21.9s\n",
      "[CV 2/5; 1/6] START batch_size=10, epochs=10....................................\n",
      "[CV 2/5; 1/6] END ....batch_size=10, epochs=10;, score=-1.606 total time=  19.6s\n",
      "[CV 3/5; 1/6] START batch_size=10, epochs=10....................................\n",
      "[CV 3/5; 1/6] END ....batch_size=10, epochs=10;, score=-1.665 total time=  18.0s\n",
      "[CV 4/5; 1/6] START batch_size=10, epochs=10....................................\n",
      "[CV 4/5; 1/6] END ....batch_size=10, epochs=10;, score=-2.311 total time=  19.5s\n",
      "[CV 5/5; 1/6] START batch_size=10, epochs=10....................................\n",
      "[CV 5/5; 1/6] END ....batch_size=10, epochs=10;, score=-1.038 total time=  20.1s\n",
      "[CV 1/5; 2/6] START batch_size=10, epochs=50....................................\n",
      "[CV 1/5; 2/6] END ....batch_size=10, epochs=50;, score=-1.107 total time= 1.3min\n",
      "[CV 2/5; 2/6] START batch_size=10, epochs=50....................................\n",
      "[CV 2/5; 2/6] END ....batch_size=10, epochs=50;, score=-1.627 total time= 1.4min\n",
      "[CV 3/5; 2/6] START batch_size=10, epochs=50....................................\n",
      "[CV 3/5; 2/6] END ....batch_size=10, epochs=50;, score=-0.540 total time= 1.4min\n",
      "[CV 4/5; 2/6] START batch_size=10, epochs=50....................................\n",
      "[CV 4/5; 2/6] END ....batch_size=10, epochs=50;, score=-2.687 total time= 1.4min\n",
      "[CV 5/5; 2/6] START batch_size=10, epochs=50....................................\n",
      "[CV 5/5; 2/6] END ....batch_size=10, epochs=50;, score=-0.568 total time= 1.4min\n",
      "[CV 1/5; 3/6] START batch_size=10, epochs=100...................................\n",
      "[CV 1/5; 3/6] END ...batch_size=10, epochs=100;, score=-0.743 total time= 2.9min\n",
      "[CV 2/5; 3/6] START batch_size=10, epochs=100...................................\n",
      "[CV 2/5; 3/6] END ...batch_size=10, epochs=100;, score=-0.639 total time= 3.0min\n",
      "[CV 3/5; 3/6] START batch_size=10, epochs=100...................................\n",
      "[CV 3/5; 3/6] END ...batch_size=10, epochs=100;, score=-0.562 total time= 2.7min\n",
      "[CV 4/5; 3/6] START batch_size=10, epochs=100...................................\n",
      "[CV 4/5; 3/6] END ...batch_size=10, epochs=100;, score=-2.056 total time= 2.8min\n",
      "[CV 5/5; 3/6] START batch_size=10, epochs=100...................................\n",
      "[CV 5/5; 3/6] END ...batch_size=10, epochs=100;, score=-0.769 total time= 2.4min\n",
      "[CV 1/5; 4/6] START batch_size=20, epochs=10....................................\n",
      "[CV 1/5; 4/6] END ....batch_size=20, epochs=10;, score=-1.900 total time=  11.1s\n",
      "[CV 2/5; 4/6] START batch_size=20, epochs=10....................................\n",
      "[CV 2/5; 4/6] END ....batch_size=20, epochs=10;, score=-1.065 total time=  11.5s\n",
      "[CV 3/5; 4/6] START batch_size=20, epochs=10....................................\n",
      "[CV 3/5; 4/6] END ....batch_size=20, epochs=10;, score=-0.840 total time=  10.9s\n",
      "[CV 4/5; 4/6] START batch_size=20, epochs=10....................................\n",
      "[CV 4/5; 4/6] END ....batch_size=20, epochs=10;, score=-2.005 total time=  11.5s\n",
      "[CV 5/5; 4/6] START batch_size=20, epochs=10....................................\n",
      "[CV 5/5; 4/6] END ....batch_size=20, epochs=10;, score=-1.386 total time=  11.7s\n",
      "[CV 1/5; 5/6] START batch_size=20, epochs=50....................................\n",
      "[CV 1/5; 5/6] END ....batch_size=20, epochs=50;, score=-1.309 total time=  45.8s\n",
      "[CV 2/5; 5/6] START batch_size=20, epochs=50....................................\n",
      "[CV 2/5; 5/6] END ....batch_size=20, epochs=50;, score=-0.664 total time=  47.1s\n",
      "[CV 3/5; 5/6] START batch_size=20, epochs=50....................................\n",
      "[CV 3/5; 5/6] END ....batch_size=20, epochs=50;, score=-0.625 total time=  39.7s\n",
      "[CV 4/5; 5/6] START batch_size=20, epochs=50....................................\n",
      "[CV 4/5; 5/6] END ....batch_size=20, epochs=50;, score=-0.678 total time=  40.4s\n",
      "[CV 5/5; 5/6] START batch_size=20, epochs=50....................................\n",
      "[CV 5/5; 5/6] END ....batch_size=20, epochs=50;, score=-2.349 total time=  39.7s\n",
      "[CV 1/5; 6/6] START batch_size=20, epochs=100...................................\n",
      "[CV 1/5; 6/6] END ...batch_size=20, epochs=100;, score=-3.680 total time= 1.4min\n",
      "[CV 2/5; 6/6] START batch_size=20, epochs=100...................................\n",
      "[CV 2/5; 6/6] END ...batch_size=20, epochs=100;, score=-0.697 total time= 1.4min\n",
      "[CV 3/5; 6/6] START batch_size=20, epochs=100...................................\n",
      "[CV 3/5; 6/6] END ...batch_size=20, epochs=100;, score=-0.563 total time= 1.4min\n",
      "[CV 4/5; 6/6] START batch_size=20, epochs=100...................................\n",
      "[CV 4/5; 6/6] END ...batch_size=20, epochs=100;, score=-0.540 total time= 1.6min\n",
      "[CV 5/5; 6/6] START batch_size=20, epochs=100...................................\n",
      "[CV 5/5; 6/6] END ...batch_size=20, epochs=100;, score=-1.145 total time= 1.6min\n"
     ]
    }
   ],
   "source": [
    "grid_result = grid.fit(x_test_scaled,y_test)\n"
   ]
  },
  {
   "cell_type": "code",
   "execution_count": null,
   "id": "5c4a8c68",
   "metadata": {},
   "outputs": [],
   "source": []
  }
 ],
 "metadata": {
  "kernelspec": {
   "display_name": "Python 3",
   "language": "python",
   "name": "python3"
  },
  "language_info": {
   "codemirror_mode": {
    "name": "ipython",
    "version": 3
   },
   "file_extension": ".py",
   "mimetype": "text/x-python",
   "name": "python",
   "nbconvert_exporter": "python",
   "pygments_lexer": "ipython3",
   "version": "3.7.6"
  }
 },
 "nbformat": 4,
 "nbformat_minor": 5
}
