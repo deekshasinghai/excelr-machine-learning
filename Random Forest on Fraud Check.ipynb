{
 "cells": [
  {
   "cell_type": "markdown",
   "id": "788b2e94",
   "metadata": {},
   "source": [
    "#### PROBLEM STATEMENT-\n",
    "Use Random Forest to prepare a model on fraud data \n",
    "treating those who have taxable_income <= 30000 as \"Risky\" and others are \"Good\"\n"
   ]
  },
  {
   "cell_type": "markdown",
   "id": "9b413cb2",
   "metadata": {},
   "source": [
    "Approach - A Random Forest can be built with  taxable_income  variable Sales (we will first convert it in categorical variable) & all other variable will be independent in the analysis."
   ]
  },
  {
   "cell_type": "markdown",
   "id": "5ea8a3d8",
   "metadata": {},
   "source": [
    "#### Importing packages"
   ]
  },
  {
   "cell_type": "code",
   "execution_count": 3,
   "id": "be5812b0",
   "metadata": {},
   "outputs": [],
   "source": [
    "import pandas as pd\n",
    "from sklearn.model_selection import KFold\n",
    "from sklearn.model_selection import cross_val_score\n",
    "from sklearn.ensemble import BaggingClassifier\n",
    "from sklearn.tree import DecisionTreeClassifier\n",
    "import seaborn as sns\n",
    "import matplotlib.pyplot as plt\n",
    "\n",
    "import warnings\n",
    "warnings.filterwarnings(\"ignore\")"
   ]
  },
  {
   "cell_type": "markdown",
   "id": "64c65345",
   "metadata": {},
   "source": [
    "#### Reading the data"
   ]
  },
  {
   "cell_type": "code",
   "execution_count": 5,
   "id": "77416dfa",
   "metadata": {},
   "outputs": [],
   "source": [
    "# Data Preparation"
   ]
  },
  {
   "cell_type": "code",
   "execution_count": 7,
   "id": "1066e85f",
   "metadata": {},
   "outputs": [],
   "source": [
    "df_data= pd.read_csv(\"E:\\\\deeksha\\\\python\\\\data\\\\Fraud_check.csv\")"
   ]
  },
  {
   "cell_type": "code",
   "execution_count": 8,
   "id": "5e7fb0c5",
   "metadata": {},
   "outputs": [
    {
     "data": {
      "text/html": [
       "<div>\n",
       "<style scoped>\n",
       "    .dataframe tbody tr th:only-of-type {\n",
       "        vertical-align: middle;\n",
       "    }\n",
       "\n",
       "    .dataframe tbody tr th {\n",
       "        vertical-align: top;\n",
       "    }\n",
       "\n",
       "    .dataframe thead th {\n",
       "        text-align: right;\n",
       "    }\n",
       "</style>\n",
       "<table border=\"1\" class=\"dataframe\">\n",
       "  <thead>\n",
       "    <tr style=\"text-align: right;\">\n",
       "      <th></th>\n",
       "      <th>Undergrad</th>\n",
       "      <th>Marital.Status</th>\n",
       "      <th>Taxable.Income</th>\n",
       "      <th>City.Population</th>\n",
       "      <th>Work.Experience</th>\n",
       "      <th>Urban</th>\n",
       "    </tr>\n",
       "  </thead>\n",
       "  <tbody>\n",
       "    <tr>\n",
       "      <th>0</th>\n",
       "      <td>NO</td>\n",
       "      <td>Single</td>\n",
       "      <td>68833</td>\n",
       "      <td>50047</td>\n",
       "      <td>10</td>\n",
       "      <td>YES</td>\n",
       "    </tr>\n",
       "    <tr>\n",
       "      <th>1</th>\n",
       "      <td>YES</td>\n",
       "      <td>Divorced</td>\n",
       "      <td>33700</td>\n",
       "      <td>134075</td>\n",
       "      <td>18</td>\n",
       "      <td>YES</td>\n",
       "    </tr>\n",
       "    <tr>\n",
       "      <th>2</th>\n",
       "      <td>NO</td>\n",
       "      <td>Married</td>\n",
       "      <td>36925</td>\n",
       "      <td>160205</td>\n",
       "      <td>30</td>\n",
       "      <td>YES</td>\n",
       "    </tr>\n",
       "    <tr>\n",
       "      <th>3</th>\n",
       "      <td>YES</td>\n",
       "      <td>Single</td>\n",
       "      <td>50190</td>\n",
       "      <td>193264</td>\n",
       "      <td>15</td>\n",
       "      <td>YES</td>\n",
       "    </tr>\n",
       "    <tr>\n",
       "      <th>4</th>\n",
       "      <td>NO</td>\n",
       "      <td>Married</td>\n",
       "      <td>81002</td>\n",
       "      <td>27533</td>\n",
       "      <td>28</td>\n",
       "      <td>NO</td>\n",
       "    </tr>\n",
       "  </tbody>\n",
       "</table>\n",
       "</div>"
      ],
      "text/plain": [
       "  Undergrad Marital.Status  Taxable.Income  City.Population  Work.Experience  \\\n",
       "0        NO         Single           68833            50047               10   \n",
       "1       YES       Divorced           33700           134075               18   \n",
       "2        NO        Married           36925           160205               30   \n",
       "3       YES         Single           50190           193264               15   \n",
       "4        NO        Married           81002            27533               28   \n",
       "\n",
       "  Urban  \n",
       "0   YES  \n",
       "1   YES  \n",
       "2   YES  \n",
       "3   YES  \n",
       "4    NO  "
      ]
     },
     "execution_count": 8,
     "metadata": {},
     "output_type": "execute_result"
    }
   ],
   "source": [
    "df_data.head()"
   ]
  },
  {
   "cell_type": "markdown",
   "id": "9faa20c1",
   "metadata": {},
   "source": [
    "#### Checking shape and size of the data"
   ]
  },
  {
   "cell_type": "code",
   "execution_count": 9,
   "id": "5efa377f",
   "metadata": {},
   "outputs": [
    {
     "data": {
      "text/plain": [
       "((600, 6), 3600)"
      ]
     },
     "execution_count": 9,
     "metadata": {},
     "output_type": "execute_result"
    }
   ],
   "source": [
    "df_data.shape , df_data.size"
   ]
  },
  {
   "cell_type": "markdown",
   "id": "1a8f6a5e",
   "metadata": {},
   "source": [
    "#### Checking for nulls, na's and duplicates in data\n"
   ]
  },
  {
   "cell_type": "code",
   "execution_count": 12,
   "id": "54347a78",
   "metadata": {},
   "outputs": [
    {
     "data": {
      "text/plain": [
       "Undergrad          0\n",
       "Marital.Status     0\n",
       "Taxable.Income     0\n",
       "City.Population    0\n",
       "Work.Experience    0\n",
       "Urban              0\n",
       "dtype: int64"
      ]
     },
     "execution_count": 12,
     "metadata": {},
     "output_type": "execute_result"
    }
   ],
   "source": [
    "df_data.isnull().sum()"
   ]
  },
  {
   "cell_type": "code",
   "execution_count": 13,
   "id": "6e360e5f",
   "metadata": {},
   "outputs": [],
   "source": [
    "# checking na values"
   ]
  },
  {
   "cell_type": "code",
   "execution_count": 14,
   "id": "db81d5b2",
   "metadata": {},
   "outputs": [
    {
     "data": {
      "text/plain": [
       "Undergrad          0\n",
       "Marital.Status     0\n",
       "Taxable.Income     0\n",
       "City.Population    0\n",
       "Work.Experience    0\n",
       "Urban              0\n",
       "dtype: int64"
      ]
     },
     "execution_count": 14,
     "metadata": {},
     "output_type": "execute_result"
    }
   ],
   "source": [
    "df_data.isna().sum()"
   ]
  },
  {
   "cell_type": "code",
   "execution_count": 15,
   "id": "cc20b91a",
   "metadata": {},
   "outputs": [],
   "source": [
    "# checking any duplicate values"
   ]
  },
  {
   "cell_type": "code",
   "execution_count": 16,
   "id": "df1d7137",
   "metadata": {},
   "outputs": [
    {
     "data": {
      "text/plain": [
       "0"
      ]
     },
     "execution_count": 16,
     "metadata": {},
     "output_type": "execute_result"
    }
   ],
   "source": [
    "df_data.duplicated().sum()"
   ]
  },
  {
   "cell_type": "markdown",
   "id": "7e413bf7",
   "metadata": {},
   "source": [
    "#### Checking Features"
   ]
  },
  {
   "cell_type": "code",
   "execution_count": 18,
   "id": "0a3d2a2c",
   "metadata": {},
   "outputs": [
    {
     "data": {
      "text/plain": [
       "Index(['Undergrad', 'Marital.Status', 'Taxable.Income', 'City.Population',\n",
       "       'Work.Experience', 'Urban'],\n",
       "      dtype='object')"
      ]
     },
     "execution_count": 18,
     "metadata": {},
     "output_type": "execute_result"
    }
   ],
   "source": [
    "df_data.columns"
   ]
  },
  {
   "cell_type": "markdown",
   "id": "0c80f604",
   "metadata": {},
   "source": [
    "#### Checking Uniques values in Features"
   ]
  },
  {
   "cell_type": "code",
   "execution_count": 21,
   "id": "4645a3f0",
   "metadata": {},
   "outputs": [
    {
     "data": {
      "text/plain": [
       "array(['NO', 'YES'], dtype=object)"
      ]
     },
     "execution_count": 21,
     "metadata": {},
     "output_type": "execute_result"
    }
   ],
   "source": [
    "df_data['Undergrad'].unique()"
   ]
  },
  {
   "cell_type": "code",
   "execution_count": 22,
   "id": "403574da",
   "metadata": {},
   "outputs": [
    {
     "data": {
      "text/plain": [
       "array(['YES', 'NO'], dtype=object)"
      ]
     },
     "execution_count": 22,
     "metadata": {},
     "output_type": "execute_result"
    }
   ],
   "source": [
    "df_data['Urban'].unique()"
   ]
  },
  {
   "cell_type": "code",
   "execution_count": 23,
   "id": "f3b4414f",
   "metadata": {},
   "outputs": [
    {
     "data": {
      "text/plain": [
       "array(['Single', 'Divorced', 'Married'], dtype=object)"
      ]
     },
     "execution_count": 23,
     "metadata": {},
     "output_type": "execute_result"
    }
   ],
   "source": [
    "df_data['Marital.Status'].unique()"
   ]
  },
  {
   "cell_type": "markdown",
   "id": "9a7cc90a",
   "metadata": {},
   "source": [
    "#### PERFORMING EDA ON DATA"
   ]
  },
  {
   "cell_type": "code",
   "execution_count": 24,
   "id": "ef45c10a",
   "metadata": {},
   "outputs": [],
   "source": [
    "# HISTOGRAM "
   ]
  },
  {
   "cell_type": "code",
   "execution_count": 25,
   "id": "71f6e490",
   "metadata": {},
   "outputs": [
    {
     "data": {
      "text/plain": [
       "array([[<AxesSubplot:title={'center':'Taxable.Income'}>,\n",
       "        <AxesSubplot:title={'center':'City.Population'}>],\n",
       "       [<AxesSubplot:title={'center':'Work.Experience'}>, <AxesSubplot:>]],\n",
       "      dtype=object)"
      ]
     },
     "execution_count": 25,
     "metadata": {},
     "output_type": "execute_result"
    },
    {
     "data": {
      "image/png": "[encoded data removed]",
      "text/plain": [
       "<Figure size 432x288 with 4 Axes>"
      ]
     },
     "metadata": {
      "needs_background": "light"
     },
     "output_type": "display_data"
    }
   ],
   "source": [
    "df_data.hist(grid=False)"
   ]
  },
  {
   "cell_type": "code",
   "execution_count": 30,
   "id": "cd358053",
   "metadata": {},
   "outputs": [
    {
     "data": {
      "text/plain": [
       "Marital.Status\n",
       "Divorced    189\n",
       "Married     194\n",
       "Single      217\n",
       "Name: Marital.Status, dtype: int64"
      ]
     },
     "execution_count": 30,
     "metadata": {},
     "output_type": "execute_result"
    }
   ],
   "source": [
    "df_data.groupby('Marital.Status')['Marital.Status'].count()"
   ]
  },
  {
   "cell_type": "code",
   "execution_count": 29,
   "id": "feb52a12",
   "metadata": {},
   "outputs": [],
   "source": [
    "M_count = df_data.groupby('Marital.Status')['Marital.Status'].count()"
   ]
  },
  {
   "cell_type": "code",
   "execution_count": 31,
   "id": "48885baf",
   "metadata": {},
   "outputs": [],
   "source": [
    "df_m_count = df_data.groupby('Marital.Status')['Marital.Status'].count().reset_index(name=\"count\")"
   ]
  },
  {
   "cell_type": "code",
   "execution_count": 32,
   "id": "ffae3d2f",
   "metadata": {},
   "outputs": [
    {
     "data": {
      "text/html": [
       "<div>\n",
       "<style scoped>\n",
       "    .dataframe tbody tr th:only-of-type {\n",
       "        vertical-align: middle;\n",
       "    }\n",
       "\n",
       "    .dataframe tbody tr th {\n",
       "        vertical-align: top;\n",
       "    }\n",
       "\n",
       "    .dataframe thead th {\n",
       "        text-align: right;\n",
       "    }\n",
       "</style>\n",
       "<table border=\"1\" class=\"dataframe\">\n",
       "  <thead>\n",
       "    <tr style=\"text-align: right;\">\n",
       "      <th></th>\n",
       "      <th>Marital.Status</th>\n",
       "      <th>count</th>\n",
       "    </tr>\n",
       "  </thead>\n",
       "  <tbody>\n",
       "    <tr>\n",
       "      <th>0</th>\n",
       "      <td>Divorced</td>\n",
       "      <td>189</td>\n",
       "    </tr>\n",
       "    <tr>\n",
       "      <th>1</th>\n",
       "      <td>Married</td>\n",
       "      <td>194</td>\n",
       "    </tr>\n",
       "    <tr>\n",
       "      <th>2</th>\n",
       "      <td>Single</td>\n",
       "      <td>217</td>\n",
       "    </tr>\n",
       "  </tbody>\n",
       "</table>\n",
       "</div>"
      ],
      "text/plain": [
       "  Marital.Status  count\n",
       "0       Divorced    189\n",
       "1        Married    194\n",
       "2         Single    217"
      ]
     },
     "execution_count": 32,
     "metadata": {},
     "output_type": "execute_result"
    }
   ],
   "source": [
    "df_m_count"
   ]
  },
  {
   "cell_type": "code",
   "execution_count": 34,
   "id": "c446009d",
   "metadata": {},
   "outputs": [
    {
     "data": {
      "text/plain": [
       "<AxesSubplot:xlabel='Marital.Status', ylabel='count'>"
      ]
     },
     "execution_count": 34,
     "metadata": {},
     "output_type": "execute_result"
    },
    {
     "data": {
      "image/png": "[encoded data removed]",
      "text/plain": [
       "<Figure size 432x288 with 1 Axes>"
      ]
     },
     "metadata": {
      "needs_background": "light"
     },
     "output_type": "display_data"
    }
   ],
   "source": [
    "sns.barplot(x = \"Marital.Status\" ,y = \"count\", data= df_m_count)"
   ]
  },
  {
   "cell_type": "code",
   "execution_count": 35,
   "id": "a8e775c3",
   "metadata": {},
   "outputs": [
    {
     "data": {
      "text/plain": [
       "600"
      ]
     },
     "execution_count": 35,
     "metadata": {},
     "output_type": "execute_result"
    }
   ],
   "source": [
    "df_data[\"Undergrad\"].count()"
   ]
  },
  {
   "cell_type": "code",
   "execution_count": 36,
   "id": "d3b079b0",
   "metadata": {},
   "outputs": [],
   "source": [
    "df_Undergrad = df_data.groupby(\"Undergrad\")[\"Undergrad\"].count().reset_index(name = \"Count\")"
   ]
  },
  {
   "cell_type": "code",
   "execution_count": 37,
   "id": "da8504dd",
   "metadata": {
    "scrolled": true
   },
   "outputs": [
    {
     "data": {
      "text/plain": [
       "<AxesSubplot:xlabel='Undergrad', ylabel='Count'>"
      ]
     },
     "execution_count": 37,
     "metadata": {},
     "output_type": "execute_result"
    },
    {
     "data": {
      "image/png": "[encoded data removed]",
      "text/plain": [
       "<Figure size 432x288 with 1 Axes>"
      ]
     },
     "metadata": {
      "needs_background": "light"
     },
     "output_type": "display_data"
    }
   ],
   "source": [
    " sns.barplot(x = \"Undergrad\", y = \"Count\", data = df_Undergrad)"
   ]
  },
  {
   "cell_type": "markdown",
   "id": "7ecafde6",
   "metadata": {},
   "source": [
    "#### Correlation between features"
   ]
  },
  {
   "cell_type": "code",
   "execution_count": 38,
   "id": "21b2c209",
   "metadata": {
    "scrolled": true
   },
   "outputs": [
    {
     "data": {
      "text/html": [
       "<div>\n",
       "<style scoped>\n",
       "    .dataframe tbody tr th:only-of-type {\n",
       "        vertical-align: middle;\n",
       "    }\n",
       "\n",
       "    .dataframe tbody tr th {\n",
       "        vertical-align: top;\n",
       "    }\n",
       "\n",
       "    .dataframe thead th {\n",
       "        text-align: right;\n",
       "    }\n",
       "</style>\n",
       "<table border=\"1\" class=\"dataframe\">\n",
       "  <thead>\n",
       "    <tr style=\"text-align: right;\">\n",
       "      <th></th>\n",
       "      <th>Taxable.Income</th>\n",
       "      <th>City.Population</th>\n",
       "      <th>Work.Experience</th>\n",
       "    </tr>\n",
       "  </thead>\n",
       "  <tbody>\n",
       "    <tr>\n",
       "      <th>Taxable.Income</th>\n",
       "      <td>1.000000</td>\n",
       "      <td>-0.064387</td>\n",
       "      <td>-0.001818</td>\n",
       "    </tr>\n",
       "    <tr>\n",
       "      <th>City.Population</th>\n",
       "      <td>-0.064387</td>\n",
       "      <td>1.000000</td>\n",
       "      <td>0.013135</td>\n",
       "    </tr>\n",
       "    <tr>\n",
       "      <th>Work.Experience</th>\n",
       "      <td>-0.001818</td>\n",
       "      <td>0.013135</td>\n",
       "      <td>1.000000</td>\n",
       "    </tr>\n",
       "  </tbody>\n",
       "</table>\n",
       "</div>"
      ],
      "text/plain": [
       "                 Taxable.Income  City.Population  Work.Experience\n",
       "Taxable.Income         1.000000        -0.064387        -0.001818\n",
       "City.Population       -0.064387         1.000000         0.013135\n",
       "Work.Experience       -0.001818         0.013135         1.000000"
      ]
     },
     "execution_count": 38,
     "metadata": {},
     "output_type": "execute_result"
    }
   ],
   "source": [
    "df_data.corr()"
   ]
  },
  {
   "cell_type": "code",
   "execution_count": 41,
   "id": "e1a71147",
   "metadata": {},
   "outputs": [
    {
     "data": {
      "text/plain": [
       "<AxesSubplot:>"
      ]
     },
     "execution_count": 41,
     "metadata": {},
     "output_type": "execute_result"
    },
    {
     "data": {
      "image/png": "[encoded data removed]",
      "text/plain": [
       "<Figure size 432x288 with 2 Axes>"
      ]
     },
     "metadata": {
      "needs_background": "light"
     },
     "output_type": "display_data"
    }
   ],
   "source": [
    "import seaborn as sns\n",
    "import matplotlib.pyplot as plt\n",
    "sns.heatmap(data.corr(),annot=True)"
   ]
  },
  {
   "cell_type": "markdown",
   "id": "b3f6f40d",
   "metadata": {},
   "source": [
    "#### Pairplot"
   ]
  },
  {
   "cell_type": "code",
   "execution_count": 48,
   "id": "ca38a46e",
   "metadata": {},
   "outputs": [
    {
     "data": {
      "text/plain": [
       "<seaborn.axisgrid.PairGrid at 0x1762d018888>"
      ]
     },
     "execution_count": 48,
     "metadata": {},
     "output_type": "execute_result"
    },
    {
     "data": {
      "image/png": "[encoded data removed]",
      "text/plain": [
       "<Figure size 620.375x540 with 12 Axes>"
      ]
     },
     "metadata": {
      "needs_background": "light"
     },
     "output_type": "display_data"
    }
   ],
   "source": [
    "sns.pairplot(hue='Marital.Status' , data=df_data)"
   ]
  },
  {
   "cell_type": "markdown",
   "id": "1c033f80",
   "metadata": {},
   "source": [
    "#### converting categorical features into numeric using 1-hot-encoding"
   ]
  },
  {
   "cell_type": "code",
   "execution_count": 50,
   "id": "b43f60dd",
   "metadata": {},
   "outputs": [],
   "source": [
    "df= pd.get_dummies(df_data, prefix=None, prefix_sep='_', dummy_na=False, columns=None, sparse=False, drop_first=True, dtype=None)"
   ]
  },
  {
   "cell_type": "code",
   "execution_count": 51,
   "id": "83c874d2",
   "metadata": {},
   "outputs": [
    {
     "data": {
      "text/html": [
       "<div>\n",
       "<style scoped>\n",
       "    .dataframe tbody tr th:only-of-type {\n",
       "        vertical-align: middle;\n",
       "    }\n",
       "\n",
       "    .dataframe tbody tr th {\n",
       "        vertical-align: top;\n",
       "    }\n",
       "\n",
       "    .dataframe thead th {\n",
       "        text-align: right;\n",
       "    }\n",
       "</style>\n",
       "<table border=\"1\" class=\"dataframe\">\n",
       "  <thead>\n",
       "    <tr style=\"text-align: right;\">\n",
       "      <th></th>\n",
       "      <th>Taxable.Income</th>\n",
       "      <th>City.Population</th>\n",
       "      <th>Work.Experience</th>\n",
       "      <th>Undergrad_YES</th>\n",
       "      <th>Marital.Status_Married</th>\n",
       "      <th>Marital.Status_Single</th>\n",
       "      <th>Urban_YES</th>\n",
       "    </tr>\n",
       "  </thead>\n",
       "  <tbody>\n",
       "    <tr>\n",
       "      <th>0</th>\n",
       "      <td>68833</td>\n",
       "      <td>50047</td>\n",
       "      <td>10</td>\n",
       "      <td>0</td>\n",
       "      <td>0</td>\n",
       "      <td>1</td>\n",
       "      <td>1</td>\n",
       "    </tr>\n",
       "    <tr>\n",
       "      <th>1</th>\n",
       "      <td>33700</td>\n",
       "      <td>134075</td>\n",
       "      <td>18</td>\n",
       "      <td>1</td>\n",
       "      <td>0</td>\n",
       "      <td>0</td>\n",
       "      <td>1</td>\n",
       "    </tr>\n",
       "    <tr>\n",
       "      <th>2</th>\n",
       "      <td>36925</td>\n",
       "      <td>160205</td>\n",
       "      <td>30</td>\n",
       "      <td>0</td>\n",
       "      <td>1</td>\n",
       "      <td>0</td>\n",
       "      <td>1</td>\n",
       "    </tr>\n",
       "    <tr>\n",
       "      <th>3</th>\n",
       "      <td>50190</td>\n",
       "      <td>193264</td>\n",
       "      <td>15</td>\n",
       "      <td>1</td>\n",
       "      <td>0</td>\n",
       "      <td>1</td>\n",
       "      <td>1</td>\n",
       "    </tr>\n",
       "    <tr>\n",
       "      <th>4</th>\n",
       "      <td>81002</td>\n",
       "      <td>27533</td>\n",
       "      <td>28</td>\n",
       "      <td>0</td>\n",
       "      <td>1</td>\n",
       "      <td>0</td>\n",
       "      <td>0</td>\n",
       "    </tr>\n",
       "  </tbody>\n",
       "</table>\n",
       "</div>"
      ],
      "text/plain": [
       "   Taxable.Income  City.Population  Work.Experience  Undergrad_YES  \\\n",
       "0           68833            50047               10              0   \n",
       "1           33700           134075               18              1   \n",
       "2           36925           160205               30              0   \n",
       "3           50190           193264               15              1   \n",
       "4           81002            27533               28              0   \n",
       "\n",
       "   Marital.Status_Married  Marital.Status_Single  Urban_YES  \n",
       "0                       0                      1          1  \n",
       "1                       0                      0          1  \n",
       "2                       1                      0          1  \n",
       "3                       0                      1          1  \n",
       "4                       1                      0          0  "
      ]
     },
     "execution_count": 51,
     "metadata": {},
     "output_type": "execute_result"
    }
   ],
   "source": [
    "df.head()"
   ]
  },
  {
   "cell_type": "markdown",
   "id": "92f822ed",
   "metadata": {},
   "source": [
    "#### Dividing the data into two parts( independent variable(X), dependent variable(y))"
   ]
  },
  {
   "cell_type": "code",
   "execution_count": 52,
   "id": "2a223fdc",
   "metadata": {},
   "outputs": [],
   "source": [
    "X= df.drop([\"Taxable.Income\"],axis=1)"
   ]
  },
  {
   "cell_type": "code",
   "execution_count": 53,
   "id": "1e2f3de4",
   "metadata": {},
   "outputs": [
    {
     "data": {
      "text/html": [
       "<div>\n",
       "<style scoped>\n",
       "    .dataframe tbody tr th:only-of-type {\n",
       "        vertical-align: middle;\n",
       "    }\n",
       "\n",
       "    .dataframe tbody tr th {\n",
       "        vertical-align: top;\n",
       "    }\n",
       "\n",
       "    .dataframe thead th {\n",
       "        text-align: right;\n",
       "    }\n",
       "</style>\n",
       "<table border=\"1\" class=\"dataframe\">\n",
       "  <thead>\n",
       "    <tr style=\"text-align: right;\">\n",
       "      <th></th>\n",
       "      <th>City.Population</th>\n",
       "      <th>Work.Experience</th>\n",
       "      <th>Undergrad_YES</th>\n",
       "      <th>Marital.Status_Married</th>\n",
       "      <th>Marital.Status_Single</th>\n",
       "      <th>Urban_YES</th>\n",
       "    </tr>\n",
       "  </thead>\n",
       "  <tbody>\n",
       "    <tr>\n",
       "      <th>0</th>\n",
       "      <td>50047</td>\n",
       "      <td>10</td>\n",
       "      <td>0</td>\n",
       "      <td>0</td>\n",
       "      <td>1</td>\n",
       "      <td>1</td>\n",
       "    </tr>\n",
       "    <tr>\n",
       "      <th>1</th>\n",
       "      <td>134075</td>\n",
       "      <td>18</td>\n",
       "      <td>1</td>\n",
       "      <td>0</td>\n",
       "      <td>0</td>\n",
       "      <td>1</td>\n",
       "    </tr>\n",
       "    <tr>\n",
       "      <th>2</th>\n",
       "      <td>160205</td>\n",
       "      <td>30</td>\n",
       "      <td>0</td>\n",
       "      <td>1</td>\n",
       "      <td>0</td>\n",
       "      <td>1</td>\n",
       "    </tr>\n",
       "    <tr>\n",
       "      <th>3</th>\n",
       "      <td>193264</td>\n",
       "      <td>15</td>\n",
       "      <td>1</td>\n",
       "      <td>0</td>\n",
       "      <td>1</td>\n",
       "      <td>1</td>\n",
       "    </tr>\n",
       "    <tr>\n",
       "      <th>4</th>\n",
       "      <td>27533</td>\n",
       "      <td>28</td>\n",
       "      <td>0</td>\n",
       "      <td>1</td>\n",
       "      <td>0</td>\n",
       "      <td>0</td>\n",
       "    </tr>\n",
       "  </tbody>\n",
       "</table>\n",
       "</div>"
      ],
      "text/plain": [
       "   City.Population  Work.Experience  Undergrad_YES  Marital.Status_Married  \\\n",
       "0            50047               10              0                       0   \n",
       "1           134075               18              1                       0   \n",
       "2           160205               30              0                       1   \n",
       "3           193264               15              1                       0   \n",
       "4            27533               28              0                       1   \n",
       "\n",
       "   Marital.Status_Single  Urban_YES  \n",
       "0                      1          1  \n",
       "1                      0          1  \n",
       "2                      0          1  \n",
       "3                      1          1  \n",
       "4                      0          0  "
      ]
     },
     "execution_count": 53,
     "metadata": {},
     "output_type": "execute_result"
    }
   ],
   "source": [
    "X.head()"
   ]
  },
  {
   "cell_type": "code",
   "execution_count": 54,
   "id": "df6427c9",
   "metadata": {},
   "outputs": [],
   "source": [
    "Y= df[\"Taxable.Income\"]"
   ]
  },
  {
   "cell_type": "code",
   "execution_count": 55,
   "id": "e8ada1f3",
   "metadata": {},
   "outputs": [
    {
     "data": {
      "text/plain": [
       "0    68833\n",
       "1    33700\n",
       "2    36925\n",
       "3    50190\n",
       "4    81002\n",
       "Name: Taxable.Income, dtype: int64"
      ]
     },
     "execution_count": 55,
     "metadata": {},
     "output_type": "execute_result"
    }
   ],
   "source": [
    "Y.head()"
   ]
  },
  {
   "cell_type": "code",
   "execution_count": 56,
   "id": "df5a6033",
   "metadata": {},
   "outputs": [
    {
     "data": {
      "text/plain": [
       "((600, 6), (600,))"
      ]
     },
     "execution_count": 56,
     "metadata": {},
     "output_type": "execute_result"
    }
   ],
   "source": [
    "## Checking shape of X, y\n",
    "X.shape, Y.shape"
   ]
  },
  {
   "cell_type": "markdown",
   "id": "dba22518",
   "metadata": {},
   "source": [
    "#### Splitting the data into train, test"
   ]
  },
  {
   "cell_type": "code",
   "execution_count": 57,
   "id": "00de671d",
   "metadata": {},
   "outputs": [],
   "source": [
    "from sklearn.model_selection import train_test_split ,GridSearchCV, KFold, cross_val_score\n",
    "X_train,X_test, Y_train , Y_test = train_test_split(X,Y,test_size= 0.2, random_state=110)"
   ]
  },
  {
   "cell_type": "code",
   "execution_count": 58,
   "id": "6796bf4c",
   "metadata": {},
   "outputs": [
    {
     "data": {
      "text/html": [
       "<div>\n",
       "<style scoped>\n",
       "    .dataframe tbody tr th:only-of-type {\n",
       "        vertical-align: middle;\n",
       "    }\n",
       "\n",
       "    .dataframe tbody tr th {\n",
       "        vertical-align: top;\n",
       "    }\n",
       "\n",
       "    .dataframe thead th {\n",
       "        text-align: right;\n",
       "    }\n",
       "</style>\n",
       "<table border=\"1\" class=\"dataframe\">\n",
       "  <thead>\n",
       "    <tr style=\"text-align: right;\">\n",
       "      <th></th>\n",
       "      <th>City.Population</th>\n",
       "      <th>Work.Experience</th>\n",
       "      <th>Undergrad_YES</th>\n",
       "      <th>Marital.Status_Married</th>\n",
       "      <th>Marital.Status_Single</th>\n",
       "      <th>Urban_YES</th>\n",
       "    </tr>\n",
       "  </thead>\n",
       "  <tbody>\n",
       "    <tr>\n",
       "      <th>159</th>\n",
       "      <td>28504</td>\n",
       "      <td>1</td>\n",
       "      <td>1</td>\n",
       "      <td>0</td>\n",
       "      <td>1</td>\n",
       "      <td>0</td>\n",
       "    </tr>\n",
       "    <tr>\n",
       "      <th>540</th>\n",
       "      <td>110308</td>\n",
       "      <td>22</td>\n",
       "      <td>1</td>\n",
       "      <td>0</td>\n",
       "      <td>1</td>\n",
       "      <td>0</td>\n",
       "    </tr>\n",
       "    <tr>\n",
       "      <th>460</th>\n",
       "      <td>54701</td>\n",
       "      <td>10</td>\n",
       "      <td>0</td>\n",
       "      <td>0</td>\n",
       "      <td>0</td>\n",
       "      <td>1</td>\n",
       "    </tr>\n",
       "  </tbody>\n",
       "</table>\n",
       "</div>"
      ],
      "text/plain": [
       "     City.Population  Work.Experience  Undergrad_YES  Marital.Status_Married  \\\n",
       "159            28504                1              1                       0   \n",
       "540           110308               22              1                       0   \n",
       "460            54701               10              0                       0   \n",
       "\n",
       "     Marital.Status_Single  Urban_YES  \n",
       "159                      1          0  \n",
       "540                      1          0  \n",
       "460                      0          1  "
      ]
     },
     "execution_count": 58,
     "metadata": {},
     "output_type": "execute_result"
    }
   ],
   "source": [
    "X_train.head(3)"
   ]
  },
  {
   "cell_type": "code",
   "execution_count": 59,
   "id": "caa6b4ae",
   "metadata": {},
   "outputs": [
    {
     "data": {
      "text/html": [
       "<div>\n",
       "<style scoped>\n",
       "    .dataframe tbody tr th:only-of-type {\n",
       "        vertical-align: middle;\n",
       "    }\n",
       "\n",
       "    .dataframe tbody tr th {\n",
       "        vertical-align: top;\n",
       "    }\n",
       "\n",
       "    .dataframe thead th {\n",
       "        text-align: right;\n",
       "    }\n",
       "</style>\n",
       "<table border=\"1\" class=\"dataframe\">\n",
       "  <thead>\n",
       "    <tr style=\"text-align: right;\">\n",
       "      <th></th>\n",
       "      <th>City.Population</th>\n",
       "      <th>Work.Experience</th>\n",
       "      <th>Undergrad_YES</th>\n",
       "      <th>Marital.Status_Married</th>\n",
       "      <th>Marital.Status_Single</th>\n",
       "      <th>Urban_YES</th>\n",
       "    </tr>\n",
       "  </thead>\n",
       "  <tbody>\n",
       "    <tr>\n",
       "      <th>579</th>\n",
       "      <td>125112</td>\n",
       "      <td>7</td>\n",
       "      <td>1</td>\n",
       "      <td>0</td>\n",
       "      <td>1</td>\n",
       "      <td>1</td>\n",
       "    </tr>\n",
       "    <tr>\n",
       "      <th>127</th>\n",
       "      <td>93035</td>\n",
       "      <td>28</td>\n",
       "      <td>0</td>\n",
       "      <td>0</td>\n",
       "      <td>1</td>\n",
       "      <td>1</td>\n",
       "    </tr>\n",
       "    <tr>\n",
       "      <th>90</th>\n",
       "      <td>101232</td>\n",
       "      <td>29</td>\n",
       "      <td>0</td>\n",
       "      <td>0</td>\n",
       "      <td>0</td>\n",
       "      <td>0</td>\n",
       "    </tr>\n",
       "  </tbody>\n",
       "</table>\n",
       "</div>"
      ],
      "text/plain": [
       "     City.Population  Work.Experience  Undergrad_YES  Marital.Status_Married  \\\n",
       "579           125112                7              1                       0   \n",
       "127            93035               28              0                       0   \n",
       "90            101232               29              0                       0   \n",
       "\n",
       "     Marital.Status_Single  Urban_YES  \n",
       "579                      1          1  \n",
       "127                      1          1  \n",
       "90                       0          0  "
      ]
     },
     "execution_count": 59,
     "metadata": {},
     "output_type": "execute_result"
    }
   ],
   "source": [
    "X_test.head(3)"
   ]
  },
  {
   "cell_type": "code",
   "execution_count": 60,
   "id": "51ccee38",
   "metadata": {},
   "outputs": [
    {
     "data": {
      "text/plain": [
       "159    62209\n",
       "540    12682\n",
       "460    58199\n",
       "Name: Taxable.Income, dtype: int64"
      ]
     },
     "execution_count": 60,
     "metadata": {},
     "output_type": "execute_result"
    }
   ],
   "source": [
    "Y_train.head(3)"
   ]
  },
  {
   "cell_type": "code",
   "execution_count": 61,
   "id": "23c072ff",
   "metadata": {},
   "outputs": [
    {
     "data": {
      "text/plain": [
       "579    70572\n",
       "127    75501\n",
       "90     77634\n",
       "Name: Taxable.Income, dtype: int64"
      ]
     },
     "execution_count": 61,
     "metadata": {},
     "output_type": "execute_result"
    }
   ],
   "source": [
    "Y_test.head(3)"
   ]
  },
  {
   "cell_type": "code",
   "execution_count": 62,
   "id": "b5bf4db9",
   "metadata": {},
   "outputs": [],
   "source": [
    "## Checking Shapes"
   ]
  },
  {
   "cell_type": "code",
   "execution_count": 63,
   "id": "9330e07f",
   "metadata": {},
   "outputs": [
    {
     "data": {
      "text/plain": [
       "(480, 6)"
      ]
     },
     "execution_count": 63,
     "metadata": {},
     "output_type": "execute_result"
    }
   ],
   "source": [
    "X_train.shape "
   ]
  },
  {
   "cell_type": "code",
   "execution_count": 64,
   "id": "6a205097",
   "metadata": {},
   "outputs": [
    {
     "data": {
      "text/plain": [
       "(480,)"
      ]
     },
     "execution_count": 64,
     "metadata": {},
     "output_type": "execute_result"
    }
   ],
   "source": [
    "Y_train.shape"
   ]
  },
  {
   "cell_type": "markdown",
   "id": "f2592b08",
   "metadata": {},
   "source": [
    "#### Building a Model using Random Forest"
   ]
  },
  {
   "cell_type": "code",
   "execution_count": 65,
   "id": "2b6c2007",
   "metadata": {},
   "outputs": [],
   "source": [
    "from sklearn.ensemble import RandomForestRegressor"
   ]
  },
  {
   "cell_type": "code",
   "execution_count": 66,
   "id": "48c412a7",
   "metadata": {},
   "outputs": [],
   "source": [
    "model = RandomForestRegressor(n_estimators=100, max_features=5,random_state=80)"
   ]
  },
  {
   "cell_type": "code",
   "execution_count": 67,
   "id": "cfacd782",
   "metadata": {},
   "outputs": [
    {
     "data": {
      "text/plain": [
       "RandomForestRegressor(max_features=5, random_state=80)"
      ]
     },
     "execution_count": 67,
     "metadata": {},
     "output_type": "execute_result"
    }
   ],
   "source": [
    "model.fit(X_train, Y_train)"
   ]
  },
  {
   "cell_type": "code",
   "execution_count": 68,
   "id": "edda7580",
   "metadata": {},
   "outputs": [],
   "source": [
    "y_pred = model.predict(X_train)"
   ]
  },
  {
   "cell_type": "code",
   "execution_count": 69,
   "id": "c2e25601",
   "metadata": {},
   "outputs": [
    {
     "data": {
      "text/plain": [
       "array([62821.04, 31149.3 , 56855.41, 54598.82, 51295.16, 43552.08,\n",
       "       63344.37, 57935.15, 47767.67, 26403.45, 54806.95, 70299.88,\n",
       "       30173.23, 58777.41, 42834.44, 53691.98, 40809.19, 79021.66,\n",
       "       45206.75, 32286.29, 77475.94, 73747.08, 30525.77, 25536.63,\n",
       "       68980.95, 85929.94, 77469.52, 61233.55, 30045.51, 75718.94,\n",
       "       38941.4 , 72254.32, 54328.77, 51511.11, 40827.87, 57453.97,\n",
       "       68234.59, 39465.88, 20539.01, 62824.76, 73766.7 , 60158.9 ,\n",
       "       58719.59, 61183.06, 49468.17, 63012.47, 34447.79, 40896.86,\n",
       "       74323.44, 29654.73, 76056.05, 72965.3 , 31372.78, 71598.7 ,\n",
       "       42235.94, 83750.38, 69191.63, 76714.75, 61236.79, 56326.51,\n",
       "       71369.66, 89534.01, 26257.  , 81246.53, 54461.55, 63217.1 ,\n",
       "       68944.43, 81888.67, 76528.86, 69656.23, 78145.83, 65117.59,\n",
       "       79729.2 , 38247.82, 43430.2 , 44813.42, 44756.76, 54098.28,\n",
       "       48645.2 , 40891.24, 35723.41, 34848.87, 59699.6 , 74939.62,\n",
       "       42860.43, 45815.68, 43797.99, 49753.73, 40480.3 , 57974.98,\n",
       "       56844.72, 43601.15, 56355.93, 82990.46, 43900.43, 24977.63,\n",
       "       52787.44, 32382.11, 53992.84, 52973.38, 44061.07, 75053.93,\n",
       "       68299.32, 89819.19, 61391.83, 43192.77, 43941.3 , 43995.91,\n",
       "       66187.4 , 74166.77, 49455.02, 48891.63, 31795.05, 55960.3 ,\n",
       "       59766.18, 52633.46, 74132.05, 76027.57, 36471.01, 44990.43,\n",
       "       38433.63, 63415.07, 57481.17, 83430.98, 46959.27, 31408.66,\n",
       "       37899.63, 31148.47, 34678.28, 25150.2 , 61120.67, 83462.05,\n",
       "       89085.51, 65484.47, 34514.45, 58119.07, 61650.  , 83521.54,\n",
       "       40349.22, 39818.55, 44748.32, 73530.38, 73547.53, 47872.69,\n",
       "       73558.86, 47008.87, 80856.07, 31431.61, 68203.23, 38495.27,\n",
       "       78635.58, 34775.24, 33019.54, 55732.88, 31173.7 , 57818.2 ,\n",
       "       34938.86, 77702.62, 29442.93, 46949.44, 62230.97, 50220.84,\n",
       "       57125.74, 39166.01, 35140.03, 43883.72, 75123.94, 75058.33,\n",
       "       71601.93, 83326.78, 48115.71, 47276.57, 48503.61, 54325.82,\n",
       "       74379.26, 62979.7 , 48827.36, 66156.3 , 53753.85, 30482.32,\n",
       "       75797.34, 46898.61, 62530.31, 66071.25, 68689.19, 74351.22,\n",
       "       54664.22, 43993.36, 30361.54, 46808.3 , 77952.89, 27349.13,\n",
       "       66295.38, 31604.9 , 63100.28, 31723.49, 33099.03, 73028.89,\n",
       "       68753.24, 48175.04, 35677.26, 80071.01, 22702.88, 76881.88,\n",
       "       55059.96, 45989.47, 46123.39, 31124.83, 55045.27, 37238.12,\n",
       "       40914.99, 71317.34, 38110.1 , 70604.71, 54243.07, 31102.46,\n",
       "       55954.7 , 36118.06, 68076.1 , 47273.15, 75266.78, 56226.44,\n",
       "       42089.36, 81934.51, 71713.85, 82358.45, 77433.  , 47518.01,\n",
       "       42119.62, 43589.89, 37168.37, 25573.08, 50884.75, 84669.82,\n",
       "       69115.23, 63475.26, 51730.48, 32134.51, 64886.87, 64247.57,\n",
       "       48480.61, 43021.23, 87892.19, 59735.78, 42324.06, 57679.84,\n",
       "       66935.83, 34679.54, 42182.44, 71520.24, 61830.24, 56132.63,\n",
       "       36617.57, 78799.81, 40741.82, 76884.61, 68738.24, 34685.04,\n",
       "       60237.25, 44456.79, 53447.66, 59795.26, 35289.22, 44631.81,\n",
       "       40621.82, 57687.36, 46383.8 , 44892.47, 50716.46, 42911.38,\n",
       "       27540.58, 76739.93, 48448.69, 40031.11, 36846.37, 39382.49,\n",
       "       52649.62, 43093.52, 65709.04, 63732.51, 66747.59, 78645.8 ,\n",
       "       78497.14, 62951.26, 60472.57, 78952.58, 36607.27, 35631.52,\n",
       "       50119.74, 41149.4 , 36909.38, 54568.27, 45262.47, 56052.94,\n",
       "       38617.2 , 72011.04, 76056.79, 37664.06, 79286.27, 84990.38,\n",
       "       84082.92, 47188.65, 27381.03, 28137.03, 41174.56, 61786.99,\n",
       "       43385.08, 21342.45, 84637.79, 70166.22, 36001.17, 69491.21,\n",
       "       43136.69, 28938.74, 81908.  , 32487.62, 61446.9 , 50791.43,\n",
       "       85777.98, 33680.95, 63939.03, 33969.85, 39161.89, 69693.19,\n",
       "       71327.12, 80716.28, 77601.31, 55110.57, 39696.65, 67809.2 ,\n",
       "       51545.34, 44210.09, 77133.83, 50526.7 , 75838.67, 67918.69,\n",
       "       86953.53, 73378.05, 34775.21, 68157.08, 42254.59, 67681.96,\n",
       "       54024.17, 70978.  , 62555.11, 22586.32, 72311.06, 58780.4 ,\n",
       "       40602.15, 55929.81, 83170.27, 42741.13, 57105.94, 60787.5 ,\n",
       "       52763.05, 34862.07, 47733.12, 73974.82, 33256.33, 75248.02,\n",
       "       34908.48, 67034.64, 30008.81, 51824.28, 63557.56, 37508.87,\n",
       "       50987.92, 55289.38, 67706.73, 41474.56, 54353.02, 52235.4 ,\n",
       "       27896.96, 44489.26, 27576.46, 80750.48, 59392.07, 80009.03,\n",
       "       50300.36, 81777.02, 55525.05, 38073.71, 52578.79, 77264.52,\n",
       "       55317.42, 35928.55, 43743.92, 42240.14, 76738.8 , 67444.12,\n",
       "       24125.08, 48239.11, 45649.03, 82131.07, 39543.1 , 82952.1 ,\n",
       "       49873.09, 63583.21, 46894.  , 44861.74, 49264.6 , 78285.48,\n",
       "       41906.47, 59074.46, 76035.53, 68194.84, 68491.74, 44872.25,\n",
       "       39305.28, 70276.1 , 75508.1 , 75595.67, 54865.07, 66410.04,\n",
       "       66052.16, 72349.94, 63137.72, 83152.93, 39366.19, 46463.33,\n",
       "       70711.29, 86256.13, 58882.43, 17926.35, 31675.94, 64503.83,\n",
       "       38309.36, 52262.54, 55280.57, 86575.79, 25245.45, 36266.5 ,\n",
       "       49371.37, 73210.6 , 84449.27, 62939.44, 29285.56, 38556.25,\n",
       "       43003.71, 34376.41, 32903.88, 63896.22, 52688.72, 75482.95,\n",
       "       77351.31, 56363.76, 60158.97, 56807.06, 47186.7 , 82926.95,\n",
       "       49802.51, 39276.67, 86996.85, 29381.72, 71939.96, 39342.48,\n",
       "       40379.84, 47304.93, 77320.56, 62816.14, 66705.94, 41876.56,\n",
       "       55956.69, 40848.99, 53893.17, 64884.54, 83299.02, 43203.17,\n",
       "       78535.6 , 68134.58, 58646.03, 60204.04, 37452.8 , 38098.66,\n",
       "       63340.25, 47490.54, 57264.49, 48511.46, 36760.7 , 81088.4 ])"
      ]
     },
     "execution_count": 69,
     "metadata": {},
     "output_type": "execute_result"
    }
   ],
   "source": [
    "y_pred"
   ]
  },
  {
   "cell_type": "code",
   "execution_count": 70,
   "id": "76d7e466",
   "metadata": {},
   "outputs": [],
   "source": [
    "y_pred_test = model.predict(X_test)"
   ]
  },
  {
   "cell_type": "code",
   "execution_count": 72,
   "id": "ed3c1600",
   "metadata": {},
   "outputs": [
    {
     "data": {
      "text/plain": [
       "array([24078.04, 55937.5 , 56107.99, 59511.6 , 48209.93, 48114.59,\n",
       "       45711.87, 75845.09, 69322.56, 61633.63, 51117.84, 68694.69,\n",
       "       63762.39, 77669.8 , 43752.75, 60651.21, 54990.48, 69221.63,\n",
       "       73318.38, 62278.74, 65084.32, 50834.46, 67846.97, 45994.76,\n",
       "       69672.49, 72945.82, 50166.77, 60454.9 , 49730.87, 66276.62,\n",
       "       53061.53, 63688.85, 28159.22, 60449.33, 45774.64, 56483.64,\n",
       "       79424.77, 47912.57, 58657.78, 42483.11, 75373.31, 72124.83,\n",
       "       74995.09, 46831.45, 53970.46, 60628.76, 67529.82, 53878.92,\n",
       "       44163.35, 62865.59, 70184.64, 63189.85, 51920.87, 68804.76,\n",
       "       63188.45, 59541.32, 51956.65, 61967.43, 32613.91, 69567.36,\n",
       "       66299.29, 71252.34, 41513.8 , 56107.35, 30920.77, 69820.33,\n",
       "       60633.58, 53139.47, 71865.  , 38607.75, 47183.27, 47085.32,\n",
       "       38008.91, 46704.87, 48233.74, 58573.42, 80023.07, 48840.17,\n",
       "       62582.97, 48410.89, 55068.24, 54006.28, 56836.01, 66018.5 ,\n",
       "       56563.04, 31912.41, 52291.51, 56519.5 , 40549.23, 48829.43,\n",
       "       53308.34, 52602.41, 37458.99, 57233.69, 57117.55, 66014.97,\n",
       "       64063.6 , 43508.54, 56506.76, 43979.58, 68106.07, 63156.26,\n",
       "       55673.  , 48928.64, 53514.99, 76439.92, 54608.08, 71353.13,\n",
       "       48220.79, 52514.2 , 55389.65, 54246.27, 53921.47, 48106.28,\n",
       "       42220.51, 53540.63, 54880.32, 81584.95, 35855.89, 45710.48])"
      ]
     },
     "execution_count": 72,
     "metadata": {},
     "output_type": "execute_result"
    }
   ],
   "source": [
    "y_pred_test"
   ]
  },
  {
   "cell_type": "code",
   "execution_count": 73,
   "id": "5c7895cc",
   "metadata": {},
   "outputs": [],
   "source": [
    "y_pred = pd.DataFrame(y_pred , columns = ['ypredict'])"
   ]
  },
  {
   "cell_type": "code",
   "execution_count": 74,
   "id": "1aaba5f1",
   "metadata": {},
   "outputs": [
    {
     "data": {
      "text/html": [
       "<div>\n",
       "<style scoped>\n",
       "    .dataframe tbody tr th:only-of-type {\n",
       "        vertical-align: middle;\n",
       "    }\n",
       "\n",
       "    .dataframe tbody tr th {\n",
       "        vertical-align: top;\n",
       "    }\n",
       "\n",
       "    .dataframe thead th {\n",
       "        text-align: right;\n",
       "    }\n",
       "</style>\n",
       "<table border=\"1\" class=\"dataframe\">\n",
       "  <thead>\n",
       "    <tr style=\"text-align: right;\">\n",
       "      <th></th>\n",
       "      <th>ypredict</th>\n",
       "    </tr>\n",
       "  </thead>\n",
       "  <tbody>\n",
       "    <tr>\n",
       "      <th>0</th>\n",
       "      <td>62821.04</td>\n",
       "    </tr>\n",
       "    <tr>\n",
       "      <th>1</th>\n",
       "      <td>31149.30</td>\n",
       "    </tr>\n",
       "    <tr>\n",
       "      <th>2</th>\n",
       "      <td>56855.41</td>\n",
       "    </tr>\n",
       "    <tr>\n",
       "      <th>3</th>\n",
       "      <td>54598.82</td>\n",
       "    </tr>\n",
       "    <tr>\n",
       "      <th>4</th>\n",
       "      <td>51295.16</td>\n",
       "    </tr>\n",
       "    <tr>\n",
       "      <th>...</th>\n",
       "      <td>...</td>\n",
       "    </tr>\n",
       "    <tr>\n",
       "      <th>475</th>\n",
       "      <td>47490.54</td>\n",
       "    </tr>\n",
       "    <tr>\n",
       "      <th>476</th>\n",
       "      <td>57264.49</td>\n",
       "    </tr>\n",
       "    <tr>\n",
       "      <th>477</th>\n",
       "      <td>48511.46</td>\n",
       "    </tr>\n",
       "    <tr>\n",
       "      <th>478</th>\n",
       "      <td>36760.70</td>\n",
       "    </tr>\n",
       "    <tr>\n",
       "      <th>479</th>\n",
       "      <td>81088.40</td>\n",
       "    </tr>\n",
       "  </tbody>\n",
       "</table>\n",
       "<p>480 rows × 1 columns</p>\n",
       "</div>"
      ],
      "text/plain": [
       "     ypredict\n",
       "0    62821.04\n",
       "1    31149.30\n",
       "2    56855.41\n",
       "3    54598.82\n",
       "4    51295.16\n",
       "..        ...\n",
       "475  47490.54\n",
       "476  57264.49\n",
       "477  48511.46\n",
       "478  36760.70\n",
       "479  81088.40\n",
       "\n",
       "[480 rows x 1 columns]"
      ]
     },
     "execution_count": 74,
     "metadata": {},
     "output_type": "execute_result"
    }
   ],
   "source": [
    "y_pred"
   ]
  },
  {
   "cell_type": "markdown",
   "id": "d230dfab",
   "metadata": {},
   "source": [
    "#### Checking R-square"
   ]
  },
  {
   "cell_type": "code",
   "execution_count": 76,
   "id": "8216934f",
   "metadata": {},
   "outputs": [],
   "source": [
    "from sklearn import metrics\n",
    "from sklearn.metrics import r2_score\n",
    "from sklearn.metrics import mean_squared_error"
   ]
  },
  {
   "cell_type": "code",
   "execution_count": 77,
   "id": "8292d1fe",
   "metadata": {},
   "outputs": [
    {
     "data": {
      "text/plain": [
       "0.8268560251011638"
      ]
     },
     "execution_count": 77,
     "metadata": {},
     "output_type": "execute_result"
    }
   ],
   "source": [
    "metrics.r2_score(Y_train,y_pred)"
   ]
  },
  {
   "cell_type": "code",
   "execution_count": 78,
   "id": "e5dfb8ed",
   "metadata": {},
   "outputs": [
    {
     "name": "stdout",
     "output_type": "stream",
     "text": [
      "The training r2_score is  0.8268560251011638\n"
     ]
    }
   ],
   "source": [
    "print('The training r2_score is ', metrics.r2_score(Y_train,y_pred))"
   ]
  },
  {
   "cell_type": "code",
   "execution_count": 79,
   "id": "960e9589",
   "metadata": {},
   "outputs": [
    {
     "data": {
      "text/plain": [
       "-0.1378932286011587"
      ]
     },
     "execution_count": 79,
     "metadata": {},
     "output_type": "execute_result"
    }
   ],
   "source": [
    "metrics.r2_score(Y_test,y_pred_test)"
   ]
  },
  {
   "cell_type": "code",
   "execution_count": 80,
   "id": "90453e87",
   "metadata": {},
   "outputs": [
    {
     "name": "stdout",
     "output_type": "stream",
     "text": [
      "The training r2_score is  -0.1378932286011587\n"
     ]
    }
   ],
   "source": [
    "print('The training r2_score is ', metrics.r2_score(Y_test,y_pred_test))"
   ]
  },
  {
   "cell_type": "code",
   "execution_count": 82,
   "id": "668efb61",
   "metadata": {},
   "outputs": [
    {
     "data": {
      "text/plain": [
       "array([0.53485493, 0.2780777 , 0.05218195, 0.03946583, 0.04251433,\n",
       "       0.05290526])"
      ]
     },
     "execution_count": 82,
     "metadata": {},
     "output_type": "execute_result"
    }
   ],
   "source": [
    "model.feature_importances_"
   ]
  },
  {
   "cell_type": "code",
   "execution_count": 83,
   "id": "35cce67c",
   "metadata": {},
   "outputs": [
    {
     "data": {
      "text/html": [
       "<div>\n",
       "<style scoped>\n",
       "    .dataframe tbody tr th:only-of-type {\n",
       "        vertical-align: middle;\n",
       "    }\n",
       "\n",
       "    .dataframe tbody tr th {\n",
       "        vertical-align: top;\n",
       "    }\n",
       "\n",
       "    .dataframe thead th {\n",
       "        text-align: right;\n",
       "    }\n",
       "</style>\n",
       "<table border=\"1\" class=\"dataframe\">\n",
       "  <thead>\n",
       "    <tr style=\"text-align: right;\">\n",
       "      <th></th>\n",
       "      <th>City.Population</th>\n",
       "      <th>Work.Experience</th>\n",
       "      <th>Undergrad_YES</th>\n",
       "      <th>Marital.Status_Married</th>\n",
       "      <th>Marital.Status_Single</th>\n",
       "      <th>Urban_YES</th>\n",
       "    </tr>\n",
       "  </thead>\n",
       "  <tbody>\n",
       "    <tr>\n",
       "      <th>0</th>\n",
       "      <td>50047</td>\n",
       "      <td>10</td>\n",
       "      <td>0</td>\n",
       "      <td>0</td>\n",
       "      <td>1</td>\n",
       "      <td>1</td>\n",
       "    </tr>\n",
       "    <tr>\n",
       "      <th>1</th>\n",
       "      <td>134075</td>\n",
       "      <td>18</td>\n",
       "      <td>1</td>\n",
       "      <td>0</td>\n",
       "      <td>0</td>\n",
       "      <td>1</td>\n",
       "    </tr>\n",
       "    <tr>\n",
       "      <th>2</th>\n",
       "      <td>160205</td>\n",
       "      <td>30</td>\n",
       "      <td>0</td>\n",
       "      <td>1</td>\n",
       "      <td>0</td>\n",
       "      <td>1</td>\n",
       "    </tr>\n",
       "    <tr>\n",
       "      <th>3</th>\n",
       "      <td>193264</td>\n",
       "      <td>15</td>\n",
       "      <td>1</td>\n",
       "      <td>0</td>\n",
       "      <td>1</td>\n",
       "      <td>1</td>\n",
       "    </tr>\n",
       "    <tr>\n",
       "      <th>4</th>\n",
       "      <td>27533</td>\n",
       "      <td>28</td>\n",
       "      <td>0</td>\n",
       "      <td>1</td>\n",
       "      <td>0</td>\n",
       "      <td>0</td>\n",
       "    </tr>\n",
       "  </tbody>\n",
       "</table>\n",
       "</div>"
      ],
      "text/plain": [
       "   City.Population  Work.Experience  Undergrad_YES  Marital.Status_Married  \\\n",
       "0            50047               10              0                       0   \n",
       "1           134075               18              1                       0   \n",
       "2           160205               30              0                       1   \n",
       "3           193264               15              1                       0   \n",
       "4            27533               28              0                       1   \n",
       "\n",
       "   Marital.Status_Single  Urban_YES  \n",
       "0                      1          1  \n",
       "1                      0          1  \n",
       "2                      0          1  \n",
       "3                      1          1  \n",
       "4                      0          0  "
      ]
     },
     "execution_count": 83,
     "metadata": {},
     "output_type": "execute_result"
    }
   ],
   "source": [
    "X.head()"
   ]
  },
  {
   "cell_type": "markdown",
   "id": "4527aac6",
   "metadata": {},
   "source": [
    "#### Checking which features are important"
   ]
  },
  {
   "cell_type": "code",
   "execution_count": 84,
   "id": "4ff482cc",
   "metadata": {},
   "outputs": [
    {
     "data": {
      "text/plain": [
       "<AxesSubplot:>"
      ]
     },
     "execution_count": 84,
     "metadata": {},
     "output_type": "execute_result"
    },
    {
     "data": {
      "image/png": "[encoded data removed]",
      "text/plain": [
       "<Figure size 432x288 with 1 Axes>"
      ]
     },
     "metadata": {
      "needs_background": "light"
     },
     "output_type": "display_data"
    }
   ],
   "source": [
    "feat_importances = pd.Series(model.feature_importances_, index=X.columns)\n",
    "feat_importances.sort_values(ascending=False).nlargest(100).plot(kind='barh')"
   ]
  },
  {
   "cell_type": "markdown",
   "id": "fdb54064",
   "metadata": {},
   "source": [
    "#### Using Grid Search Cv"
   ]
  },
  {
   "cell_type": "code",
   "execution_count": 96,
   "id": "73a96d29",
   "metadata": {},
   "outputs": [],
   "source": [
    "from sklearn.model_selection import GridSearchCV"
   ]
  },
  {
   "cell_type": "code",
   "execution_count": 97,
   "id": "61cae697",
   "metadata": {},
   "outputs": [],
   "source": [
    "estimator = RandomForestRegressor()\n",
    "para_grids = {\n",
    "            \"n_estimators\" : [10,50,100],\n",
    "            \"max_features\" : [\"auto\", \"log2\", \"sqrt\"],\n",
    "            \"bootstrap\"    : [True, False]\n",
    "           \n",
    "      \n",
    "        }\n",
    "\n",
    "grid = GridSearchCV(model, para_grids, scoring = 'r2')\n",
    "grid.fit(X_train, Y_train)\n",
    "forest = grid.best_estimator_\n"
   ]
  },
  {
   "cell_type": "code",
   "execution_count": 98,
   "id": "92735413",
   "metadata": {},
   "outputs": [],
   "source": [
    "num_trees = 150\n",
    "max_features = 5\n",
    "kfold = KFold(n_splits=5)\n",
    "\n",
    "model = RandomForestRegressor(n_estimators=num_trees, max_features=10,random_state=90)\n",
    "grid = GridSearchCV(model, para_grids, scoring = 'r2')\n",
    "grid.fit(X_train, Y_train)\n",
    "forest = grid.best_estimator_"
   ]
  },
  {
   "cell_type": "code",
   "execution_count": 99,
   "id": "781fd66f",
   "metadata": {},
   "outputs": [
    {
     "data": {
      "text/plain": [
       "RandomForestRegressor(max_features='log2', random_state=90)"
      ]
     },
     "execution_count": 99,
     "metadata": {},
     "output_type": "execute_result"
    }
   ],
   "source": [
    "forest"
   ]
  },
  {
   "cell_type": "code",
   "execution_count": 100,
   "id": "dc3948ba",
   "metadata": {},
   "outputs": [],
   "source": [
    "y_pred_cv = forest.predict(X_test)"
   ]
  },
  {
   "cell_type": "code",
   "execution_count": 101,
   "id": "47bd1bcd",
   "metadata": {},
   "outputs": [
    {
     "data": {
      "text/plain": [
       "-0.09948200336650892"
      ]
     },
     "execution_count": 101,
     "metadata": {},
     "output_type": "execute_result"
    }
   ],
   "source": [
    "metrics.r2_score(Y_test,y_pred_cv)"
   ]
  },
  {
   "cell_type": "code",
   "execution_count": null,
   "id": "80c4735a",
   "metadata": {},
   "outputs": [],
   "source": []
  }
 ],
 "metadata": {
  "kernelspec": {
   "display_name": "Python 3",
   "language": "python",
   "name": "python3"
  },
  "language_info": {
   "codemirror_mode": {
    "name": "ipython",
    "version": 3
   },
   "file_extension": ".py",
   "mimetype": "text/x-python",
   "name": "python",
   "nbconvert_exporter": "python",
   "pygments_lexer": "ipython3",
   "version": "3.7.6"
  }
 },
 "nbformat": 4,
 "nbformat_minor": 5
}
