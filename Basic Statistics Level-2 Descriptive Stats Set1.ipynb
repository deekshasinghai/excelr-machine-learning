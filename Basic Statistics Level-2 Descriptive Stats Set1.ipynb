{
 "cells": [
  {
   "cell_type": "markdown",
   "id": "23aab0bf",
   "metadata": {},
   "source": [
    "#### Problem Statement\n",
    "Q1 Plot the data, find the outliers and find out  μ,σ,σ^2"
   ]
  },
  {
   "cell_type": "code",
   "execution_count": 18,
   "id": "7716e0bc",
   "metadata": {},
   "outputs": [],
   "source": [
    "import matplotlib.pyplot as plt\n",
    "import numpy as np\n",
    "import seaborn as sns\n",
    "import pandas as pd"
   ]
  },
  {
   "cell_type": "code",
   "execution_count": 19,
   "id": "0717b798",
   "metadata": {},
   "outputs": [],
   "source": [
    "data = (24.23 ,25.53 ,25.41,24.14,29.62,28.25,25.81,24.39\n",
    ",40.26,32.95,91.36,25.99,39.42,26.71,35.00)\n",
    "columns = ['Allied Signal','Bankers Trust', 'General Mills','ITT Industries', 'J.P.Morgan & Co.','Lehman Brothers', 'Marriott', 'MCI',\n",
    "'Merrill Lynch', 'Microsoft','Morgan Stanley', 'Sun Microsystems', 'Travelers', 'US Airways', 'Warner-Lambert']\n"
   ]
  },
  {
   "cell_type": "code",
   "execution_count": 22,
   "id": "58270693",
   "metadata": {},
   "outputs": [],
   "source": [
    "df = pd.DataFrame(data, columns=['columns'], index=columns)"
   ]
  },
  {
   "cell_type": "code",
   "execution_count": 26,
   "id": "11ce462b",
   "metadata": {},
   "outputs": [
    {
     "data": {
      "text/html": [
       "<div>\n",
       "<style scoped>\n",
       "    .dataframe tbody tr th:only-of-type {\n",
       "        vertical-align: middle;\n",
       "    }\n",
       "\n",
       "    .dataframe tbody tr th {\n",
       "        vertical-align: top;\n",
       "    }\n",
       "\n",
       "    .dataframe thead th {\n",
       "        text-align: right;\n",
       "    }\n",
       "</style>\n",
       "<table border=\"1\" class=\"dataframe\">\n",
       "  <thead>\n",
       "    <tr style=\"text-align: right;\">\n",
       "      <th></th>\n",
       "      <th>columns</th>\n",
       "    </tr>\n",
       "  </thead>\n",
       "  <tbody>\n",
       "    <tr>\n",
       "      <th>Allied Signal</th>\n",
       "      <td>24.23</td>\n",
       "    </tr>\n",
       "    <tr>\n",
       "      <th>Bankers Trust</th>\n",
       "      <td>25.53</td>\n",
       "    </tr>\n",
       "    <tr>\n",
       "      <th>General Mills</th>\n",
       "      <td>25.41</td>\n",
       "    </tr>\n",
       "    <tr>\n",
       "      <th>ITT Industries</th>\n",
       "      <td>24.14</td>\n",
       "    </tr>\n",
       "    <tr>\n",
       "      <th>J.P.Morgan &amp; Co.</th>\n",
       "      <td>29.62</td>\n",
       "    </tr>\n",
       "    <tr>\n",
       "      <th>Lehman Brothers</th>\n",
       "      <td>28.25</td>\n",
       "    </tr>\n",
       "    <tr>\n",
       "      <th>Marriott</th>\n",
       "      <td>25.81</td>\n",
       "    </tr>\n",
       "    <tr>\n",
       "      <th>MCI</th>\n",
       "      <td>24.39</td>\n",
       "    </tr>\n",
       "    <tr>\n",
       "      <th>Merrill Lynch</th>\n",
       "      <td>40.26</td>\n",
       "    </tr>\n",
       "    <tr>\n",
       "      <th>Microsoft</th>\n",
       "      <td>32.95</td>\n",
       "    </tr>\n",
       "    <tr>\n",
       "      <th>Morgan Stanley</th>\n",
       "      <td>91.36</td>\n",
       "    </tr>\n",
       "    <tr>\n",
       "      <th>Sun Microsystems</th>\n",
       "      <td>25.99</td>\n",
       "    </tr>\n",
       "    <tr>\n",
       "      <th>Travelers</th>\n",
       "      <td>39.42</td>\n",
       "    </tr>\n",
       "    <tr>\n",
       "      <th>US Airways</th>\n",
       "      <td>26.71</td>\n",
       "    </tr>\n",
       "    <tr>\n",
       "      <th>Warner-Lambert</th>\n",
       "      <td>35.00</td>\n",
       "    </tr>\n",
       "  </tbody>\n",
       "</table>\n",
       "</div>"
      ],
      "text/plain": [
       "                  columns\n",
       "Allied Signal       24.23\n",
       "Bankers Trust       25.53\n",
       "General Mills       25.41\n",
       "ITT Industries      24.14\n",
       "J.P.Morgan & Co.    29.62\n",
       "Lehman Brothers     28.25\n",
       "Marriott            25.81\n",
       "MCI                 24.39\n",
       "Merrill Lynch       40.26\n",
       "Microsoft           32.95\n",
       "Morgan Stanley      91.36\n",
       "Sun Microsystems    25.99\n",
       "Travelers           39.42\n",
       "US Airways          26.71\n",
       "Warner-Lambert      35.00"
      ]
     },
     "execution_count": 26,
     "metadata": {},
     "output_type": "execute_result"
    }
   ],
   "source": [
    "df"
   ]
  },
  {
   "cell_type": "code",
   "execution_count": 37,
   "id": "7f2b02a6",
   "metadata": {},
   "outputs": [
    {
     "data": {
      "image/png": "[encoded data removed]",
      "text/plain": [
       "<Figure size 720x432 with 1 Axes>"
      ]
     },
     "metadata": {
      "needs_background": "light"
     },
     "output_type": "display_data"
    }
   ],
   "source": [
    "plt.figure(figsize=(10, 6))\n",
    "plt.bar(df.index, df['columns'], color='blue')\n",
    "plt.xlabel('Name of company')\n",
    "plt.ylabel('Measure X')\n",
    "plt.title('Percentage Values for Companies')\n",
    "plt.xticks(rotation=45, ha='right')  # Rotate x-axis labels for better readability\n",
    "plt.show()\n",
    "plt.show()"
   ]
  },
  {
   "cell_type": "markdown",
   "id": "fe82d8ce",
   "metadata": {},
   "source": [
    "####  Identifying outliers using Z-score"
   ]
  },
  {
   "cell_type": "code",
   "execution_count": 42,
   "id": "9b6f49be",
   "metadata": {},
   "outputs": [],
   "source": [
    "from scipy.stats import zscore\n",
    "z_scores = zscore(df['columns'])\n",
    "outliers = (z_scores > 3) | (z_scores < -3)"
   ]
  },
  {
   "cell_type": "code",
   "execution_count": 43,
   "id": "494a1170",
   "metadata": {
    "scrolled": true
   },
   "outputs": [
    {
     "name": "stdout",
     "output_type": "stream",
     "text": [
      "Outliers:\n",
      "                columns\n",
      "Morgan Stanley    91.36\n"
     ]
    }
   ],
   "source": [
    "# Display outliers\n",
    "outliers_df = df[outliers]\n",
    "print(\"Outliers:\")\n",
    "print(outliers_df)"
   ]
  },
  {
   "cell_type": "markdown",
   "id": "bc068076",
   "metadata": {},
   "source": [
    "#### Statistical calculations"
   ]
  },
  {
   "cell_type": "code",
   "execution_count": 45,
   "id": "ecc44330",
   "metadata": {},
   "outputs": [
    {
     "name": "stdout",
     "output_type": "stream",
     "text": [
      "\n",
      "Mean (μ): 33.27133333333333\n",
      "Standard Deviation (σ): 16.945400921222028\n",
      "Variance (σ^2): 287.1466123809524\n"
     ]
    }
   ],
   "source": [
    "mean_value = df['columns'].mean()\n",
    "std_dev = df['columns'].std()\n",
    "variance = df['columns'].var()\n",
    "\n",
    "print(f\"\\nMean (μ): {mean_value}\")\n",
    "print(f\"Standard Deviation (σ): {std_dev}\")\n",
    "print(f\"Variance (σ^2): {variance}\")"
   ]
  },
  {
   "cell_type": "markdown",
   "id": "14f5c7bf",
   "metadata": {},
   "source": [
    "#### Q2-"
   ]
  },
  {
   "cell_type": "code",
   "execution_count": 52,
   "id": "b97db20a",
   "metadata": {},
   "outputs": [],
   "source": [
    "import numpy as np\n",
    "\n",
    "# Data\n",
    "data = [24.23, 25.53, 25.41, 24.14, 29.62, 28.25, 25.81, 24.39, 40.26, 32.95, 91.36, 25.99, 39.42, 26.71, 35.00]\n",
    "\n",
    "# Calculate quartiles\n",
    "Q1 = np.percentile(data, 25)\n",
    "Q3 = np.percentile(data, 75)\n",
    "\n",
    "# Calculate IQR\n",
    "IQR = Q3 - Q1"
   ]
  },
  {
   "cell_type": "code",
   "execution_count": 48,
   "id": "34672090",
   "metadata": {},
   "outputs": [
    {
     "data": {
      "text/plain": [
       "8.505000000000003"
      ]
     },
     "execution_count": 48,
     "metadata": {},
     "output_type": "execute_result"
    }
   ],
   "source": [
    "IQR"
   ]
  },
  {
   "cell_type": "markdown",
   "id": "5491ca04",
   "metadata": {},
   "source": [
    "The interquartile range (IQR) represents the range within which the central 50% of the data lies. \n",
    "In the context of this dataset, the IQR gives a measure of the spread of the middle 50% of the percentage values. \n",
    "A larger IQR indicates greater variability within this central portion of the data, while a smaller IQR suggests less variability.\n",
    "It's a robust measure of dispersion that is not affected by extreme values or outliers."
   ]
  },
  {
   "cell_type": "markdown",
   "id": "88a58182",
   "metadata": {},
   "source": [
    "#### Q2 ii"
   ]
  },
  {
   "cell_type": "code",
   "execution_count": 51,
   "id": "55345d18",
   "metadata": {},
   "outputs": [],
   "source": [
    "from scipy.stats import skew\n",
    "# Data\n",
    "data = [24.23, 25.53, 25.41, 24.14, 29.62, 28.25, 25.81, 24.39, 40.26, 32.95, 91.36, 25.99, 39.42, 26.71, 35.00]\n",
    "# Calculate skewness\n",
    "skewness = skew(data)\n"
   ]
  },
  {
   "cell_type": "code",
   "execution_count": 50,
   "id": "25ca309d",
   "metadata": {},
   "outputs": [
    {
     "data": {
      "text/plain": [
       "2.920113984934711"
      ]
     },
     "execution_count": 50,
     "metadata": {},
     "output_type": "execute_result"
    }
   ],
   "source": [
    "skewness"
   ]
  },
  {
   "cell_type": "markdown",
   "id": "f5b362ed",
   "metadata": {},
   "source": [
    "Interpretation:\n",
    "\n",
    "If skewness is close to 0, the data is approximately symmetric.\n",
    "If skewness is greater than 0, the data is right-skewed (positively skewed), meaning the right tail is longer or fatter than the left.\n",
    "If skewness is less than 0, the data is left-skewed (negatively skewed), meaning the left tail is longer or fatter than the right."
   ]
  },
  {
   "cell_type": "markdown",
   "id": "24ef6aba",
   "metadata": {},
   "source": [
    "### Q2 iii"
   ]
  },
  {
   "cell_type": "markdown",
   "id": "ee122f2e",
   "metadata": {},
   "source": [
    "If you update the data point with the value 25 to 2.5,\n",
    "it would significantly impact the dataset, \n",
    "particularly because 25 is one of the data points,\n",
    "and changing it to 2.5 represents a substantial decrease. "
   ]
  },
  {
   "cell_type": "code",
   "execution_count": 56,
   "id": "2fe1ad64",
   "metadata": {},
   "outputs": [
    {
     "data": {
      "image/png": "[encoded data removed]",
      "text/plain": [
       "<Figure size 864x432 with 2 Axes>"
      ]
     },
     "metadata": {
      "needs_background": "light"
     },
     "output_type": "display_data"
    }
   ],
   "source": [
    "import pandas as pd\n",
    "import seaborn as sns\n",
    "import matplotlib.pyplot as plt\n",
    "\n",
    "# Original Data\n",
    "data_original = [0,5,10,15,20,25]\n",
    "\n",
    "# Update the data point\n",
    "data_updated = data_original.copy()\n",
    "data_updated[data_updated.index(25)] = 2.5\n",
    "\n",
    "# Create DataFrames\n",
    "df_original = pd.DataFrame(data_original, columns=['columns'])\n",
    "\n",
    "df_updated = pd.DataFrame(data_updated, columns=['columns'], index=df_original.index)\n",
    "\n",
    "# Plotting\n",
    "plt.figure(figsize=(12, 6))\n",
    "plt.subplot(1, 2, 1)\n",
    "sns.boxplot(y=df_original['columns'], color='blue')\n",
    "plt.title('Original Box Plot')\n",
    "\n",
    "plt.subplot(1, 2, 2)\n",
    "sns.boxplot(y=df_updated['columns'], color='green')\n",
    "plt.title('Updated Box Plot')\n",
    "\n",
    "plt.tight_layout()\n",
    "plt.show()"
   ]
  },
  {
   "cell_type": "markdown",
   "id": "3a5be630",
   "metadata": {},
   "source": [
    "### Q3 i"
   ]
  },
  {
   "cell_type": "markdown",
   "id": "1d62c99f",
   "metadata": {},
   "source": [
    "In the histogram given histogram \n",
    "Mode is bi-modal in values 5,7 "
   ]
  },
  {
   "cell_type": "markdown",
   "id": "7e9ae9b9",
   "metadata": {},
   "source": [
    "### Q3 ii"
   ]
  },
  {
   "cell_type": "markdown",
   "id": "f2bec5b9",
   "metadata": {},
   "source": [
    "According to the histogram the dataset is rightskewed  "
   ]
  },
  {
   "cell_type": "markdown",
   "id": "ffdab680",
   "metadata": {},
   "source": [
    "#### Q3 iii"
   ]
  },
  {
   "cell_type": "code",
   "execution_count": null,
   "id": "2451511b",
   "metadata": {},
   "outputs": [],
   "source": [
    "Suppose that the above histogram and the box-plot in question 2 are plotted for the same dataset. \n",
    "Explain how these graphs complement each other in providing information about any dataset. "
   ]
  },
  {
   "cell_type": "code",
   "execution_count": 61,
   "id": "5c6570f2",
   "metadata": {},
   "outputs": [
    {
     "data": {
      "image/png": "[encoded data removed]",
      "text/plain": [
       "<Figure size 864x432 with 2 Axes>"
      ]
     },
     "metadata": {
      "needs_background": "light"
     },
     "output_type": "display_data"
    }
   ],
   "source": [
    "import pandas as pd\n",
    "import seaborn as sns\n",
    "import matplotlib.pyplot as plt\n",
    "\n",
    "# Original Data\n",
    "data_original = [0,5,10,15,20,25]\n",
    "\n",
    "# Update the data point\n",
    "data_updated = data_original.copy()\n",
    "data_updated[data_updated.index(25)] = 2.5\n",
    "\n",
    "# Create DataFrames\n",
    "df_original = pd.DataFrame(data_original, columns=['columns'])\n",
    "\n",
    "df_updated = pd.DataFrame(data_updated, columns=['columns'], index=df_original.index)\n",
    "\n",
    "# Plotting\n",
    "plt.figure(figsize=(12, 6))\n",
    "plt.subplot(1, 2, 1)\n",
    "sns.boxplot(y=df_original['columns'], color='blue')\n",
    "plt.title('Original Box Plot')\n",
    "\n",
    "plt.subplot(1, 2, 2)\n",
    "sns.boxplot(y=df_updated['columns'], color='green')\n",
    "plt.title('Updated Box Plot')\n",
    "\n",
    "plt.tight_layout()\n",
    "plt.show()"
   ]
  },
  {
   "cell_type": "code",
   "execution_count": 65,
   "id": "cf24cac5",
   "metadata": {},
   "outputs": [
    {
     "data": {
      "image/png": "[encoded data removed]",
      "text/plain": [
       "<Figure size 432x288 with 1 Axes>"
      ]
     },
     "metadata": {
      "needs_background": "light"
     },
     "output_type": "display_data"
    }
   ],
   "source": [
    "import matplotlib.pyplot as plt\n",
    "\n",
    "# Original Data\n",
    "data_original = [0,5,10,15,20,2.5]\n",
    "\n",
    "\n",
    "# Plotting Histogram\n",
    "plt.hist(data_original, bins=5, color='blue', edgecolor='black')\n",
    "plt.xlabel('columns')\n",
    "plt.ylabel('Frequency')\n",
    "plt.title('Histogram of Percentage Values')\n",
    "plt.show()"
   ]
  },
  {
   "cell_type": "code",
   "execution_count": null,
   "id": "d4825955",
   "metadata": {},
   "outputs": [],
   "source": [
    "interpretation-"
   ]
  },
  {
   "cell_type": "markdown",
   "id": "61b8232e",
   "metadata": {},
   "source": [
    "1 The histogram shows the distribution of your data across different values.\n",
    "2 The x-axis represents the values in the dataset,\n",
    "and the y-axis represents the frequency (or count) of each value.\n",
    "3 In our data, it seems there is one peak in the histogram.\n",
    "4 This suggests that there might be two distinct groups or patterns within your data.\n",
    "5 The majority of values are clustered around 5 and 15, but there is an outlier at 2.5. \n",
    "6 This outlier might significantly impact the interpretation of central tendency.\n",
    "7 Interpreting a histogram often involves considering the shape, central tendency, spread, and any outliers or patterns in the data.\n",
    "8 In your case, the bimodal distribution and the presence of an outlier are notable features.\n",
    "9 Depending on the context of your data, you may need to investigate further to understand the reasons behind these patterns."
   ]
  },
  {
   "cell_type": "markdown",
   "id": "73b28da1",
   "metadata": {},
   "source": [
    "#### Q4"
   ]
  },
  {
   "cell_type": "markdown",
   "id": "27b8e88d",
   "metadata": {},
   "source": [
    "4.AT&T was running commercials in 1990 aimed at luring back customers who had switched to one of the other long-distance phone service providers.\n",
    "One such commercial shows a businessman trying to reach Phoenix and mistakenly getting Fiji, where a half-naked native \n",
    "on a beach responds incomprehensibly in Polynesian. When asked about this advertisement, AT&T \n",
    "admitted that the portrayed incident did not actually take place but added that this was an \n",
    "enactment of something that “could happen.” Suppose that one in 200 long-distance telephone calls is misdirected.\n",
    "What is the probability that at least one in five attempted telephone calls reaches the wrong number? \n",
    "(Assume independence of attempts.)\n",
    "\n"
   ]
  },
  {
   "cell_type": "code",
   "execution_count": null,
   "id": "81780b1f",
   "metadata": {},
   "outputs": [],
   "source": [
    "To solve this problem, we can use the complement probability approach. \n",
    "The probability that at least one in five attempted telephone calls reaches the wrong number is equal to 1 minus \n",
    "the probability that none of the attempts reach the wrong number.\n",
    "\n",
    "Let \n",
    "p be the probability that a single call is misdirected. According to the problem, p=1/200\n",
    "200\n",
    "The probability that a single call is not misdirected is 1-p\n",
    "\n",
    "The probability that none of the five attempts are misdirected is (1-p)^5\n",
    "Therefore, the probability that at least one in five attempted telephone calls reaches the wrong number is \n",
    "1-(1-p)^5\n",
    "Let's calculate this probability:"
   ]
  },
  {
   "cell_type": "code",
   "execution_count": 67,
   "id": "13f560c2",
   "metadata": {},
   "outputs": [
    {
     "name": "stdout",
     "output_type": "stream",
     "text": [
      "Probability that at least one in five attempted telephone calls reaches the wrong number: 0.02475\n"
     ]
    }
   ],
   "source": [
    "# Probability of a single call being misdirected\n",
    "p = 1 / 200\n",
    "\n",
    "# Probability that none of the five attempts are misdirected\n",
    "prob_none_misdirected = (1 - p)**5\n",
    "\n",
    "# Probability that at least one in five attempted calls is misdirected\n",
    "prob_at_least_one_misdirected = 1 - prob_none_misdirected\n",
    "\n",
    "print(f\"Probability that at least one in five attempted telephone calls reaches the wrong number: {prob_at_least_one_misdirected:.5f}\")"
   ]
  },
  {
   "cell_type": "code",
   "execution_count": 3,
   "id": "741d1da0",
   "metadata": {},
   "outputs": [],
   "source": [
    "      n= (1.96)**2*(0.5)*(1-0.5)/(0.04)**2"
   ]
  },
  {
   "cell_type": "code",
   "execution_count": 4,
   "id": "fb1bb75a",
   "metadata": {},
   "outputs": [
    {
     "data": {
      "text/plain": [
       "600.2499999999999"
      ]
     },
     "execution_count": 4,
     "metadata": {},
     "output_type": "execute_result"
    }
   ],
   "source": [
    "n"
   ]
  },
  {
   "cell_type": "markdown",
   "id": "0c08b0bf",
   "metadata": {},
   "source": [
    "#### Q5"
   ]
  },
  {
   "cell_type": "markdown",
   "id": "05dc999c",
   "metadata": {},
   "source": [
    "Returns on a certain business venture, to the nearest $1,000, are known to follow the following probability distribution"
   ]
  },
  {
   "cell_type": "markdown",
   "id": "ff8f9e72",
   "metadata": {},
   "source": [
    "(i)What is the most likely monetary outcome of the business venture?\n",
    "(ii)Is the venture likely to be successful? Explain\n",
    "(iii)What is the long-term average earning of business ventures of this kind? Explain\n",
    "(iv)What is the good measure of the risk involved in a venture of this kind? Compute this measure\n"
   ]
  },
  {
   "cell_type": "code",
   "execution_count": null,
   "id": "8efb98f9",
   "metadata": {},
   "outputs": [],
   "source": [
    "Ans-i) The most likely monetary outcome of the business venture is 2000$ As for 2000$ the probability is 0.3 which is \n",
    "maximum as compared to others"
   ]
  },
  {
   "cell_type": "code",
   "execution_count": null,
   "id": "6dcbaef6",
   "metadata": {},
   "outputs": [],
   "source": [
    "ii)  Yes, the probability that the venture will make more than 0 or a profit p(x>0)+p(x>1000)+p(x>2000)+p(x=3000) = 0.2+0.2+0.3+0.1 = 0.8 this states that there is a good 80% chances for this venture to be making a profit"
   ]
  },
  {
   "cell_type": "code",
   "execution_count": null,
   "id": "50ceb681",
   "metadata": {},
   "outputs": [],
   "source": [
    "III) The long-term average is Expected value = Sum (X * P(X)) = 800$ which means on an average the returns will be + 800$"
   ]
  },
  {
   "cell_type": "code",
   "execution_count": null,
   "id": "e65df3e2",
   "metadata": {},
   "outputs": [],
   "source": [
    "iV)  The good measure of the risk involved in a venture of this kind depends on the Variability in the distribution. \n",
    "    Higher Variance means more chances of risk Var (X) = E(X^2) –(E(X))^2 = 2800000 – 800^2 = 2160000"
   ]
  },
  {
   "cell_type": "code",
   "execution_count": null,
   "id": "da9e9107",
   "metadata": {},
   "outputs": [],
   "source": []
  }
 ],
 "metadata": {
  "kernelspec": {
   "display_name": "Python 3",
   "language": "python",
   "name": "python3"
  },
  "language_info": {
   "codemirror_mode": {
    "name": "ipython",
    "version": 3
   },
   "file_extension": ".py",
   "mimetype": "text/x-python",
   "name": "python",
   "nbconvert_exporter": "python",
   "pygments_lexer": "ipython3",
   "version": "3.7.6"
  }
 },
 "nbformat": 4,
 "nbformat_minor": 5
}
